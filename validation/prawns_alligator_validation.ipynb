{
  "cells": [
    {
      "cell_type": "markdown",
      "metadata": {},
      "source": [
        "# Prawns-Alligator Network Validation & Analysis\n",
        "\n",
        "## Ulanowicz et al. (2009) - Efficiency vs Resilience Trade-off\n",
        "\n",
        "This notebook analyzes three configurations of the Prawns-Alligator ecosystem that demonstrate the fundamental trade-off between efficiency and resilience in complex systems."
      ]
    },
    {
      "cell_type": "code",
      "execution_count": 19,
      "metadata": {},
      "outputs": [],
      "source": [
        "import numpy as np\n",
        "import pandas as pd\n",
        "import json\n",
        "import matplotlib.pyplot as plt\n",
        "import seaborn as sns\n",
        "import networkx as nx\n",
        "import plotly.graph_objects as go\n",
        "import plotly.express as px\n",
        "from plotly.subplots import make_subplots\n",
        "from pathlib import Path\n",
        "import warnings\n",
        "warnings.filterwarnings('ignore')\n",
        "\n",
        "# Set style\n",
        "plt.style.use('seaborn-v0_8-darkgrid')\n",
        "sns.set_palette(\"husl\")\n",
        "\n",
        "# Add parent directory for imports\n",
        "import sys\n",
        "sys.path.append('..')\n",
        "from src.ulanowicz_calculator import UlanowiczCalculator"
      ]
    },
    {
      "cell_type": "markdown",
      "metadata": {},
      "source": [
        "## 1. Load the Three Network Configurations"
      ]
    },
    {
      "cell_type": "code",
      "execution_count": 20,
      "metadata": {},
      "outputs": [
        {
          "name": "stdout",
          "output_type": "stream",
          "text": [
            "NETWORK CONFIGURATIONS LOADED:\n",
            "==================================================\n",
            "1. Prawns-Alligator Ecosystem (Original with Fish)\n",
            "   Nodes: Prawns, Fish, Turtles, Snakes, Alligators\n",
            "\n",
            "2. Prawns-Alligator Ecosystem (Most Efficient Only)\n",
            "   Nodes: Prawns, Fish, Alligators\n",
            "\n",
            "3. Prawns-Alligator Ecosystem (After Fish Loss)\n",
            "   Nodes: Prawns, Turtles, Snakes, Alligators\n"
          ]
        }
      ],
      "source": [
        "# Load all three configurations\n",
        "data_path = Path('../data/ecosystem_samples')\n",
        "\n",
        "# Original network with 3 pathways\n",
        "with open(data_path / 'prawns_alligator_original.json', 'r') as f:\n",
        "    original_data = json.load(f)\n",
        "\n",
        "# Efficient-only network\n",
        "with open(data_path / 'prawns_alligator_efficient.json', 'r') as f:\n",
        "    efficient_data = json.load(f)\n",
        "\n",
        "# Adapted network after fish loss\n",
        "with open(data_path / 'prawns_alligator_adapted.json', 'r') as f:\n",
        "    adapted_data = json.load(f)\n",
        "\n",
        "print(\"NETWORK CONFIGURATIONS LOADED:\")\n",
        "print(\"=\" * 50)\n",
        "print(f\"1. {original_data['organization']}\")\n",
        "print(f\"   Nodes: {', '.join(original_data['nodes'])}\")\n",
        "print(f\"\\n2. {efficient_data['organization']}\")\n",
        "print(f\"   Nodes: {', '.join(efficient_data['nodes'])}\")\n",
        "print(f\"\\n3. {adapted_data['organization']}\")\n",
        "print(f\"   Nodes: {', '.join(adapted_data['nodes'])}\")"
      ]
    },
    {
      "cell_type": "markdown",
      "metadata": {},
      "source": [
        "## 2. Display Flow Matrices"
      ]
    },
    {
      "cell_type": "code",
      "execution_count": 21,
      "metadata": {},
      "outputs": [
        {
          "name": "stdout",
          "output_type": "stream",
          "text": [
            "\n",
            "ORIGINAL NETWORK (3 Pathways)\n",
            "========================================\n",
            "Units: mg C m\u207b\u00b2 y\u207b\u00b9\n"
          ]
        },
        {
          "data": {
            "text/html": [
              "<style type=\"text/css\">\n",
              "#T_ee15f_row0_col0, #T_ee15f_row0_col4, #T_ee15f_row1_col0, #T_ee15f_row1_col1, #T_ee15f_row1_col2, #T_ee15f_row1_col3, #T_ee15f_row2_col0, #T_ee15f_row2_col1, #T_ee15f_row2_col2, #T_ee15f_row2_col3, #T_ee15f_row3_col0, #T_ee15f_row3_col1, #T_ee15f_row3_col2, #T_ee15f_row3_col3, #T_ee15f_row4_col0, #T_ee15f_row4_col1, #T_ee15f_row4_col2, #T_ee15f_row4_col3, #T_ee15f_row4_col4 {\n",
              "  background-color: #ffffcc;\n",
              "  color: #000000;\n",
              "}\n",
              "#T_ee15f_row0_col1, #T_ee15f_row0_col2, #T_ee15f_row0_col3, #T_ee15f_row1_col4 {\n",
              "  background-color: #800026;\n",
              "  color: #f1f1f1;\n",
              "}\n",
              "#T_ee15f_row2_col4 {\n",
              "  background-color: #d7121f;\n",
              "  color: #f1f1f1;\n",
              "}\n",
              "#T_ee15f_row3_col4 {\n",
              "  background-color: #fedd7f;\n",
              "  color: #000000;\n",
              "}\n",
              "</style>\n",
              "<table id=\"T_ee15f\">\n",
              "  <thead>\n",
              "    <tr>\n",
              "      <th class=\"blank level0\" >&nbsp;</th>\n",
              "      <th id=\"T_ee15f_level0_col0\" class=\"col_heading level0 col0\" >Prawns</th>\n",
              "      <th id=\"T_ee15f_level0_col1\" class=\"col_heading level0 col1\" >Fish</th>\n",
              "      <th id=\"T_ee15f_level0_col2\" class=\"col_heading level0 col2\" >Turtles</th>\n",
              "      <th id=\"T_ee15f_level0_col3\" class=\"col_heading level0 col3\" >Snakes</th>\n",
              "      <th id=\"T_ee15f_level0_col4\" class=\"col_heading level0 col4\" >Alligators</th>\n",
              "    </tr>\n",
              "  </thead>\n",
              "  <tbody>\n",
              "    <tr>\n",
              "      <th id=\"T_ee15f_level0_row0\" class=\"row_heading level0 row0\" >Prawns</th>\n",
              "      <td id=\"T_ee15f_row0_col0\" class=\"data row0 col0\" >0.00</td>\n",
              "      <td id=\"T_ee15f_row0_col1\" class=\"data row0 col1\" >20.50</td>\n",
              "      <td id=\"T_ee15f_row0_col2\" class=\"data row0 col2\" >74.30</td>\n",
              "      <td id=\"T_ee15f_row0_col3\" class=\"data row0 col3\" >7.70</td>\n",
              "      <td id=\"T_ee15f_row0_col4\" class=\"data row0 col4\" >0.00</td>\n",
              "    </tr>\n",
              "    <tr>\n",
              "      <th id=\"T_ee15f_level0_row1\" class=\"row_heading level0 row1\" >Fish</th>\n",
              "      <td id=\"T_ee15f_row1_col0\" class=\"data row1 col0\" >0.00</td>\n",
              "      <td id=\"T_ee15f_row1_col1\" class=\"data row1 col1\" >0.00</td>\n",
              "      <td id=\"T_ee15f_row1_col2\" class=\"data row1 col2\" >0.00</td>\n",
              "      <td id=\"T_ee15f_row1_col3\" class=\"data row1 col3\" >0.00</td>\n",
              "      <td id=\"T_ee15f_row1_col4\" class=\"data row1 col4\" >9.16</td>\n",
              "    </tr>\n",
              "    <tr>\n",
              "      <th id=\"T_ee15f_level0_row2\" class=\"row_heading level0 row2\" >Turtles</th>\n",
              "      <td id=\"T_ee15f_row2_col0\" class=\"data row2 col0\" >0.00</td>\n",
              "      <td id=\"T_ee15f_row2_col1\" class=\"data row2 col1\" >0.00</td>\n",
              "      <td id=\"T_ee15f_row2_col2\" class=\"data row2 col2\" >0.00</td>\n",
              "      <td id=\"T_ee15f_row2_col3\" class=\"data row2 col3\" >0.00</td>\n",
              "      <td id=\"T_ee15f_row2_col4\" class=\"data row2 col4\" >7.20</td>\n",
              "    </tr>\n",
              "    <tr>\n",
              "      <th id=\"T_ee15f_level0_row3\" class=\"row_heading level0 row3\" >Snakes</th>\n",
              "      <td id=\"T_ee15f_row3_col0\" class=\"data row3 col0\" >0.00</td>\n",
              "      <td id=\"T_ee15f_row3_col1\" class=\"data row3 col1\" >0.00</td>\n",
              "      <td id=\"T_ee15f_row3_col2\" class=\"data row3 col2\" >0.00</td>\n",
              "      <td id=\"T_ee15f_row3_col3\" class=\"data row3 col3\" >0.00</td>\n",
              "      <td id=\"T_ee15f_row3_col4\" class=\"data row3 col4\" >2.06</td>\n",
              "    </tr>\n",
              "    <tr>\n",
              "      <th id=\"T_ee15f_level0_row4\" class=\"row_heading level0 row4\" >Alligators</th>\n",
              "      <td id=\"T_ee15f_row4_col0\" class=\"data row4 col0\" >0.00</td>\n",
              "      <td id=\"T_ee15f_row4_col1\" class=\"data row4 col1\" >0.00</td>\n",
              "      <td id=\"T_ee15f_row4_col2\" class=\"data row4 col2\" >0.00</td>\n",
              "      <td id=\"T_ee15f_row4_col3\" class=\"data row4 col3\" >0.00</td>\n",
              "      <td id=\"T_ee15f_row4_col4\" class=\"data row4 col4\" >0.00</td>\n",
              "    </tr>\n",
              "  </tbody>\n",
              "</table>\n"
            ],
            "text/plain": [
              "<pandas.io.formats.style.Styler at 0x32ca7b750>"
            ]
          },
          "metadata": {},
          "output_type": "display_data"
        },
        {
          "name": "stdout",
          "output_type": "stream",
          "text": [
            "\n",
            "Key Flows:\n",
            "  Prawns \u2192 Fish: 20.50\n",
            "  Prawns \u2192 Turtles: 74.30\n",
            "  Prawns \u2192 Snakes: 7.70\n",
            "  Fish \u2192 Alligators: 9.16\n",
            "  Turtles \u2192 Alligators: 7.20\n",
            "  Snakes \u2192 Alligators: 2.06\n",
            "\n",
            "Total System Throughput: 120.92\n",
            "\n",
            "EFFICIENT-ONLY NETWORK\n",
            "========================================\n",
            "Units: mg C m\u207b\u00b2 y\u207b\u00b9\n"
          ]
        },
        {
          "data": {
            "text/html": [
              "<style type=\"text/css\">\n",
              "#T_5e7ee_row0_col0, #T_5e7ee_row0_col2, #T_5e7ee_row1_col0, #T_5e7ee_row1_col1, #T_5e7ee_row2_col0, #T_5e7ee_row2_col1, #T_5e7ee_row2_col2 {\n",
              "  background-color: #ffffcc;\n",
              "  color: #000000;\n",
              "}\n",
              "#T_5e7ee_row0_col1, #T_5e7ee_row1_col2 {\n",
              "  background-color: #800026;\n",
              "  color: #f1f1f1;\n",
              "}\n",
              "</style>\n",
              "<table id=\"T_5e7ee\">\n",
              "  <thead>\n",
              "    <tr>\n",
              "      <th class=\"blank level0\" >&nbsp;</th>\n",
              "      <th id=\"T_5e7ee_level0_col0\" class=\"col_heading level0 col0\" >Prawns</th>\n",
              "      <th id=\"T_5e7ee_level0_col1\" class=\"col_heading level0 col1\" >Fish</th>\n",
              "      <th id=\"T_5e7ee_level0_col2\" class=\"col_heading level0 col2\" >Alligators</th>\n",
              "    </tr>\n",
              "  </thead>\n",
              "  <tbody>\n",
              "    <tr>\n",
              "      <th id=\"T_5e7ee_level0_row0\" class=\"row_heading level0 row0\" >Prawns</th>\n",
              "      <td id=\"T_5e7ee_row0_col0\" class=\"data row0 col0\" >0.00</td>\n",
              "      <td id=\"T_5e7ee_row0_col1\" class=\"data row0 col1\" >102.50</td>\n",
              "      <td id=\"T_5e7ee_row0_col2\" class=\"data row0 col2\" >0.00</td>\n",
              "    </tr>\n",
              "    <tr>\n",
              "      <th id=\"T_5e7ee_level0_row1\" class=\"row_heading level0 row1\" >Fish</th>\n",
              "      <td id=\"T_5e7ee_row1_col0\" class=\"data row1 col0\" >0.00</td>\n",
              "      <td id=\"T_5e7ee_row1_col1\" class=\"data row1 col1\" >0.00</td>\n",
              "      <td id=\"T_5e7ee_row1_col2\" class=\"data row1 col2\" >102.50</td>\n",
              "    </tr>\n",
              "    <tr>\n",
              "      <th id=\"T_5e7ee_level0_row2\" class=\"row_heading level0 row2\" >Alligators</th>\n",
              "      <td id=\"T_5e7ee_row2_col0\" class=\"data row2 col0\" >0.00</td>\n",
              "      <td id=\"T_5e7ee_row2_col1\" class=\"data row2 col1\" >0.00</td>\n",
              "      <td id=\"T_5e7ee_row2_col2\" class=\"data row2 col2\" >0.00</td>\n",
              "    </tr>\n",
              "  </tbody>\n",
              "</table>\n"
            ],
            "text/plain": [
              "<pandas.io.formats.style.Styler at 0x32ca7b750>"
            ]
          },
          "metadata": {},
          "output_type": "display_data"
        },
        {
          "name": "stdout",
          "output_type": "stream",
          "text": [
            "\n",
            "Key Flows:\n",
            "  Prawns \u2192 Fish: 102.50\n",
            "  Fish \u2192 Alligators: 102.50\n",
            "\n",
            "Total System Throughput: 205.00\n",
            "\n",
            "ADAPTED NETWORK (After Fish Loss)\n",
            "========================================\n",
            "Units: mg C m\u207b\u00b2 y\u207b\u00b9\n"
          ]
        },
        {
          "data": {
            "text/html": [
              "<style type=\"text/css\">\n",
              "#T_923c2_row0_col0, #T_923c2_row0_col3, #T_923c2_row1_col0, #T_923c2_row1_col1, #T_923c2_row1_col2, #T_923c2_row2_col0, #T_923c2_row2_col1, #T_923c2_row2_col2, #T_923c2_row3_col0, #T_923c2_row3_col1, #T_923c2_row3_col2, #T_923c2_row3_col3 {\n",
              "  background-color: #ffffcc;\n",
              "  color: #000000;\n",
              "}\n",
              "#T_923c2_row0_col1, #T_923c2_row0_col2, #T_923c2_row1_col3 {\n",
              "  background-color: #800026;\n",
              "  color: #f1f1f1;\n",
              "}\n",
              "#T_923c2_row2_col3 {\n",
              "  background-color: #fece6a;\n",
              "  color: #000000;\n",
              "}\n",
              "</style>\n",
              "<table id=\"T_923c2\">\n",
              "  <thead>\n",
              "    <tr>\n",
              "      <th class=\"blank level0\" >&nbsp;</th>\n",
              "      <th id=\"T_923c2_level0_col0\" class=\"col_heading level0 col0\" >Prawns</th>\n",
              "      <th id=\"T_923c2_level0_col1\" class=\"col_heading level0 col1\" >Turtles</th>\n",
              "      <th id=\"T_923c2_level0_col2\" class=\"col_heading level0 col2\" >Snakes</th>\n",
              "      <th id=\"T_923c2_level0_col3\" class=\"col_heading level0 col3\" >Alligators</th>\n",
              "    </tr>\n",
              "  </thead>\n",
              "  <tbody>\n",
              "    <tr>\n",
              "      <th id=\"T_923c2_level0_row0\" class=\"row_heading level0 row0\" >Prawns</th>\n",
              "      <td id=\"T_923c2_row0_col0\" class=\"data row0 col0\" >0.00</td>\n",
              "      <td id=\"T_923c2_row0_col1\" class=\"data row0 col1\" >74.30</td>\n",
              "      <td id=\"T_923c2_row0_col2\" class=\"data row0 col2\" >16.10</td>\n",
              "      <td id=\"T_923c2_row0_col3\" class=\"data row0 col3\" >0.00</td>\n",
              "    </tr>\n",
              "    <tr>\n",
              "      <th id=\"T_923c2_level0_row1\" class=\"row_heading level0 row1\" >Turtles</th>\n",
              "      <td id=\"T_923c2_row1_col0\" class=\"data row1 col0\" >0.00</td>\n",
              "      <td id=\"T_923c2_row1_col1\" class=\"data row1 col1\" >0.00</td>\n",
              "      <td id=\"T_923c2_row1_col2\" class=\"data row1 col2\" >0.00</td>\n",
              "      <td id=\"T_923c2_row1_col3\" class=\"data row1 col3\" >7.20</td>\n",
              "    </tr>\n",
              "    <tr>\n",
              "      <th id=\"T_923c2_level0_row2\" class=\"row_heading level0 row2\" >Snakes</th>\n",
              "      <td id=\"T_923c2_row2_col0\" class=\"data row2 col0\" >0.00</td>\n",
              "      <td id=\"T_923c2_row2_col1\" class=\"data row2 col1\" >0.00</td>\n",
              "      <td id=\"T_923c2_row2_col2\" class=\"data row2 col2\" >0.00</td>\n",
              "      <td id=\"T_923c2_row2_col3\" class=\"data row2 col3\" >2.06</td>\n",
              "    </tr>\n",
              "    <tr>\n",
              "      <th id=\"T_923c2_level0_row3\" class=\"row_heading level0 row3\" >Alligators</th>\n",
              "      <td id=\"T_923c2_row3_col0\" class=\"data row3 col0\" >0.00</td>\n",
              "      <td id=\"T_923c2_row3_col1\" class=\"data row3 col1\" >0.00</td>\n",
              "      <td id=\"T_923c2_row3_col2\" class=\"data row3 col2\" >0.00</td>\n",
              "      <td id=\"T_923c2_row3_col3\" class=\"data row3 col3\" >0.00</td>\n",
              "    </tr>\n",
              "  </tbody>\n",
              "</table>\n"
            ],
            "text/plain": [
              "<pandas.io.formats.style.Styler at 0x32ca7b750>"
            ]
          },
          "metadata": {},
          "output_type": "display_data"
        },
        {
          "name": "stdout",
          "output_type": "stream",
          "text": [
            "\n",
            "Key Flows:\n",
            "  Prawns \u2192 Turtles: 74.30\n",
            "  Prawns \u2192 Snakes: 16.10\n",
            "  Turtles \u2192 Alligators: 7.20\n",
            "  Snakes \u2192 Alligators: 2.06\n",
            "\n",
            "Total System Throughput: 99.66\n"
          ]
        }
      ],
      "source": [
        "def display_flow_matrix(data, title):\n",
        "    \"\"\"Display a flow matrix with formatting.\"\"\"\n",
        "    flows = np.array(data['flows'])\n",
        "    nodes = data['nodes']\n",
        "    \n",
        "    df = pd.DataFrame(flows, index=nodes, columns=nodes)\n",
        "    \n",
        "    print(f\"\\n{title}\")\n",
        "    print(\"=\" * 40)\n",
        "    print(f\"Units: {data['metadata']['units']}\")\n",
        "    display(df.style.format(\"{:.2f}\").background_gradient(cmap='YlOrRd'))\n",
        "    \n",
        "    # Show key flows\n",
        "    print(\"\\nKey Flows:\")\n",
        "    for i, from_node in enumerate(nodes):\n",
        "        for j, to_node in enumerate(nodes):\n",
        "            if flows[i, j] > 0:\n",
        "                print(f\"  {from_node} \u2192 {to_node}: {flows[i, j]:.2f}\")\n",
        "    \n",
        "    print(f\"\\nTotal System Throughput: {flows.sum():.2f}\")\n",
        "    return flows\n",
        "\n",
        "# Display all three matrices\n",
        "original_flows = display_flow_matrix(original_data, \"ORIGINAL NETWORK (3 Pathways)\")\n",
        "efficient_flows = display_flow_matrix(efficient_data, \"EFFICIENT-ONLY NETWORK\")\n",
        "adapted_flows = display_flow_matrix(adapted_data, \"ADAPTED NETWORK (After Fish Loss)\")"
      ]
    },
    {
      "cell_type": "markdown",
      "metadata": {},
      "source": [
        "## 3. Network Visualizations"
      ]
    },
    {
      "cell_type": "code",
      "execution_count": 22,
      "metadata": {},
      "outputs": [
        {
          "data": {
            "image/png": "[encoded data removed]",
            "text/plain": [
              "<Figure size 800x600 with 1 Axes>"
            ]
          },
          "metadata": {},
          "output_type": "display_data"
        },
        {
          "data": {
            "image/png": "[encoded data removed]",
            "text/plain": [
              "<Figure size 800x600 with 1 Axes>"
            ]
          },
          "metadata": {},
          "output_type": "display_data"
        },
        {
          "data": {
            "image/png": "[encoded data removed]",
            "text/plain": [
              "<Figure size 800x600 with 1 Axes>"
            ]
          },
          "metadata": {},
          "output_type": "display_data"
        }
      ],
      "source": [
        "def create_network_viz(data, title, pos_layout=None):\n",
        "    \"\"\"Create a network visualization.\"\"\"\n",
        "    flows = np.array(data['flows'])\n",
        "    nodes = data['nodes']\n",
        "    \n",
        "    G = nx.DiGraph()\n",
        "    \n",
        "    # Add nodes and edges\n",
        "    for i, node in enumerate(nodes):\n",
        "        G.add_node(i, label=node)\n",
        "    \n",
        "    for i in range(len(flows)):\n",
        "        for j in range(len(flows)):\n",
        "            if flows[i, j] > 0:\n",
        "                G.add_edge(i, j, weight=flows[i, j])\n",
        "    \n",
        "    # Layout\n",
        "    if pos_layout is None:\n",
        "        if len(nodes) == 3:\n",
        "            pos = {0: (0, 1), 1: (1, 0.5), 2: (2, 1)}  # Linear for 3 nodes\n",
        "        elif len(nodes) == 4:\n",
        "            pos = {0: (0, 0.5), 1: (1, 1), 2: (1, 0), 3: (2, 0.5)}  # Diamond for 4 nodes\n",
        "        else:\n",
        "            pos = nx.spring_layout(G, k=2, iterations=50)\n",
        "    else:\n",
        "        pos = pos_layout\n",
        "    \n",
        "    # Create figure\n",
        "    plt.figure(figsize=(8, 6))\n",
        "    \n",
        "    # Draw nodes\n",
        "    node_sizes = [2000 + 500 * len(list(G.predecessors(i)) + list(G.successors(i))) for i in G.nodes()]\n",
        "    nx.draw_networkx_nodes(G, pos, node_size=node_sizes, \n",
        "                          node_color='lightblue', alpha=0.9)\n",
        "    \n",
        "    # Draw edges with varying thickness\n",
        "    edges = G.edges()\n",
        "    weights = [G[u][v]['weight'] for u, v in edges]\n",
        "    max_weight = max(weights) if weights else 1\n",
        "    edge_widths = [5 * w / max_weight for w in weights]\n",
        "    \n",
        "    nx.draw_networkx_edges(G, pos, width=edge_widths, edge_color='gray',\n",
        "                          arrows=True, arrowsize=20, arrowstyle='-|>',\n",
        "                          connectionstyle='arc3,rad=0.1', alpha=0.7)\n",
        "    \n",
        "    # Draw labels\n",
        "    labels = {i: nodes[i] for i in range(len(nodes))}\n",
        "    nx.draw_networkx_labels(G, pos, labels, font_size=12, font_weight='bold')\n",
        "    \n",
        "    # Draw edge labels\n",
        "    edge_labels = {(u, v): f\"{G[u][v]['weight']:.1f}\" for u, v in edges}\n",
        "    nx.draw_networkx_edge_labels(G, pos, edge_labels, font_size=9)\n",
        "    \n",
        "    plt.title(title, fontsize=14, fontweight='bold')\n",
        "    plt.axis('off')\n",
        "    plt.tight_layout()\n",
        "    plt.show()\n",
        "\n",
        "# Create visualizations\n",
        "create_network_viz(original_data, \"Original Network - Three Parallel Pathways\")\n",
        "create_network_viz(efficient_data, \"Efficient-Only Network - Single Pathway\")\n",
        "create_network_viz(adapted_data, \"Adapted Network - After Fish Loss\")"
      ]
    },
    {
      "cell_type": "markdown",
      "metadata": {},
      "source": [
        "## 4. Calculate and Compare Metrics"
      ]
    },
    {
      "cell_type": "code",
      "execution_count": 23,
      "metadata": {},
      "outputs": [
        {
          "name": "stdout",
          "output_type": "stream",
          "text": [
            "CALCULATED METRICS COMPARISON\n",
            "============================================================\n"
          ]
        },
        {
          "data": {
            "text/html": [
              "<style type=\"text/css\">\n",
              "#T_c6682_row0_col0, #T_c6682_row0_col1, #T_c6682_row0_col2, #T_c6682_row0_col3, #T_c6682_row1_col0, #T_c6682_row1_col1, #T_c6682_row1_col2, #T_c6682_row1_col3, #T_c6682_row2_col0, #T_c6682_row2_col1, #T_c6682_row2_col2, #T_c6682_row2_col3, #T_c6682_row3_col0, #T_c6682_row3_col1, #T_c6682_row3_col2, #T_c6682_row3_col3, #T_c6682_row4_col0, #T_c6682_row4_col1, #T_c6682_row4_col2, #T_c6682_row4_col3, #T_c6682_row5_col0, #T_c6682_row5_col1, #T_c6682_row5_col2, #T_c6682_row5_col3 {\n",
              "  text-align: center;\n",
              "}\n",
              "</style>\n",
              "<table id=\"T_c6682\">\n",
              "  <thead>\n",
              "    <tr>\n",
              "      <th class=\"blank level0\" >&nbsp;</th>\n",
              "      <th id=\"T_c6682_level0_col0\" class=\"col_heading level0 col0\" >Metric</th>\n",
              "      <th id=\"T_c6682_level0_col1\" class=\"col_heading level0 col1\" >Original (3 paths)</th>\n",
              "      <th id=\"T_c6682_level0_col2\" class=\"col_heading level0 col2\" >Efficient Only</th>\n",
              "      <th id=\"T_c6682_level0_col3\" class=\"col_heading level0 col3\" >Adapted (no fish)</th>\n",
              "    </tr>\n",
              "  </thead>\n",
              "  <tbody>\n",
              "    <tr>\n",
              "      <th id=\"T_c6682_level0_row0\" class=\"row_heading level0 row0\" >0</th>\n",
              "      <td id=\"T_c6682_row0_col0\" class=\"data row0 col0\" >TST</td>\n",
              "      <td id=\"T_c6682_row0_col1\" class=\"data row0 col1\" >120.92</td>\n",
              "      <td id=\"T_c6682_row0_col2\" class=\"data row0 col2\" >205.00</td>\n",
              "      <td id=\"T_c6682_row0_col3\" class=\"data row0 col3\" >99.66</td>\n",
              "    </tr>\n",
              "    <tr>\n",
              "      <th id=\"T_c6682_level0_row1\" class=\"row_heading level0 row1\" >1</th>\n",
              "      <td id=\"T_c6682_row1_col0\" class=\"data row1 col0\" >Capacity (C)</td>\n",
              "      <td id=\"T_c6682_row1_col1\" class=\"data row1 col1\" >146.11</td>\n",
              "      <td id=\"T_c6682_row1_col2\" class=\"data row1 col2\" >142.10</td>\n",
              "      <td id=\"T_c6682_row1_col3\" class=\"data row1 col3\" >78.08</td>\n",
              "    </tr>\n",
              "    <tr>\n",
              "      <th id=\"T_c6682_level0_row2\" class=\"row_heading level0 row2\" >2</th>\n",
              "      <td id=\"T_c6682_row2_col0\" class=\"data row2 col0\" >Ascendency (A)</td>\n",
              "      <td id=\"T_c6682_row2_col1\" class=\"data row2 col1\" >51.60</td>\n",
              "      <td id=\"T_c6682_row2_col2\" class=\"data row2 col2\" >142.10</td>\n",
              "      <td id=\"T_c6682_row2_col3\" class=\"data row2 col3\" >30.82</td>\n",
              "    </tr>\n",
              "    <tr>\n",
              "      <th id=\"T_c6682_level0_row3\" class=\"row_heading level0 row3\" >3</th>\n",
              "      <td id=\"T_c6682_row3_col0\" class=\"data row3 col0\" >Reserve (\u03a6)</td>\n",
              "      <td id=\"T_c6682_row3_col1\" class=\"data row3 col1\" >94.51</td>\n",
              "      <td id=\"T_c6682_row3_col2\" class=\"data row3 col2\" >0.00</td>\n",
              "      <td id=\"T_c6682_row3_col3\" class=\"data row3 col3\" >47.26</td>\n",
              "    </tr>\n",
              "    <tr>\n",
              "      <th id=\"T_c6682_level0_row4\" class=\"row_heading level0 row4\" >4</th>\n",
              "      <td id=\"T_c6682_row4_col0\" class=\"data row4 col0\" >Alpha (\u03b1)</td>\n",
              "      <td id=\"T_c6682_row4_col1\" class=\"data row4 col1\" >0.3532</td>\n",
              "      <td id=\"T_c6682_row4_col2\" class=\"data row4 col2\" >1.0000</td>\n",
              "      <td id=\"T_c6682_row4_col3\" class=\"data row4 col3\" >0.3947</td>\n",
              "    </tr>\n",
              "    <tr>\n",
              "      <th id=\"T_c6682_level0_row5\" class=\"row_heading level0 row5\" >5</th>\n",
              "      <td id=\"T_c6682_row5_col0\" class=\"data row5 col0\" >Robustness</td>\n",
              "      <td id=\"T_c6682_row5_col1\" class=\"data row5 col1\" >0.3676</td>\n",
              "      <td id=\"T_c6682_row5_col2\" class=\"data row5 col2\" >0.0000</td>\n",
              "      <td id=\"T_c6682_row5_col3\" class=\"data row5 col3\" >0.3669</td>\n",
              "    </tr>\n",
              "  </tbody>\n",
              "</table>\n"
            ],
            "text/plain": [
              "<pandas.io.formats.style.Styler at 0x32d36efd0>"
            ]
          },
          "metadata": {},
          "output_type": "display_data"
        }
      ],
      "source": [
        "def calculate_all_metrics(data):\n",
        "    \"\"\"Calculate all metrics for a network.\"\"\"\n",
        "    flows = np.array(data['flows'])\n",
        "    nodes = data['nodes']\n",
        "    \n",
        "    calculator = UlanowiczCalculator(flows, node_names=nodes)\n",
        "    basic = calculator.get_sustainability_metrics()\n",
        "    extended = calculator.get_extended_metrics()\n",
        "    \n",
        "    return {\n",
        "        'tst': basic['total_system_throughput'],\n",
        "        'capacity': basic['development_capacity'],\n",
        "        'ascendency': basic['ascendency'],\n",
        "        'reserve': basic['reserve'],\n",
        "        'alpha': basic['relative_ascendency'],\n",
        "        'robustness': extended['robustness']\n",
        "    }\n",
        "\n",
        "# Calculate metrics for all networks\n",
        "original_metrics = calculate_all_metrics(original_data)\n",
        "efficient_metrics = calculate_all_metrics(efficient_data)\n",
        "adapted_metrics = calculate_all_metrics(adapted_data)\n",
        "\n",
        "# Create comparison DataFrame\n",
        "comparison_data = {\n",
        "    'Metric': ['TST', 'Capacity (C)', 'Ascendency (A)', 'Reserve (\u03a6)', 'Alpha (\u03b1)', 'Robustness'],\n",
        "    'Original (3 paths)': [\n",
        "        f\"{original_metrics['tst']:.2f}\",\n",
        "        f\"{original_metrics['capacity']:.2f}\",\n",
        "        f\"{original_metrics['ascendency']:.2f}\",\n",
        "        f\"{original_metrics['reserve']:.2f}\",\n",
        "        f\"{original_metrics['alpha']:.4f}\",\n",
        "        f\"{original_metrics['robustness']:.4f}\"\n",
        "    ],\n",
        "    'Efficient Only': [\n",
        "        f\"{efficient_metrics['tst']:.2f}\",\n",
        "        f\"{efficient_metrics['capacity']:.2f}\",\n",
        "        f\"{efficient_metrics['ascendency']:.2f}\",\n",
        "        f\"{efficient_metrics['reserve']:.2f}\",\n",
        "        f\"{efficient_metrics['alpha']:.4f}\",\n",
        "        f\"{efficient_metrics['robustness']:.4f}\"\n",
        "    ],\n",
        "    'Adapted (no fish)': [\n",
        "        f\"{adapted_metrics['tst']:.2f}\",\n",
        "        f\"{adapted_metrics['capacity']:.2f}\",\n",
        "        f\"{adapted_metrics['ascendency']:.2f}\",\n",
        "        f\"{adapted_metrics['reserve']:.2f}\",\n",
        "        f\"{adapted_metrics['alpha']:.4f}\",\n",
        "        f\"{adapted_metrics['robustness']:.4f}\"\n",
        "    ]\n",
        "}\n",
        "\n",
        "comparison_df = pd.DataFrame(comparison_data)\n",
        "\n",
        "print(\"CALCULATED METRICS COMPARISON\")\n",
        "print(\"=\" * 60)\n",
        "display(comparison_df.style.set_properties(**{'text-align': 'center'}))"
      ]
    },
    {
      "cell_type": "markdown",
      "metadata": {},
      "source": [
        "## 5. Published vs Calculated Metrics"
      ]
    },
    {
      "cell_type": "code",
      "execution_count": 24,
      "metadata": {},
      "outputs": [],
      "source": [
        "# Import required libraries and set up paths\n",
        "import json\n",
        "from pathlib import Path\n",
        "import pandas as pd\n",
        "from IPython.display import display, HTML\n",
        "\n",
        "metrics_db_path = Path('../validation/metrics_database/networks')\n",
        "pdf_path = \"../papers/Quantifying Sustainability Resilience Efficiency.pdf\"\n"
      ]
    },
    {
      "cell_type": "code",
      "execution_count": 25,
      "metadata": {},
      "outputs": [],
      "source": [
        "# Define function to load and compare metrics with source references\n",
        "def load_and_compare(network_file, network_name):\n",
        "    \"\"\"Load and compare published vs calculated metrics with source references and PDF links.\"\"\"\n",
        "    with open(metrics_db_path / network_file, 'r') as f:\n",
        "        data = json.load(f)\n",
        "    \n",
        "    print(f\"\\n{network_name}\")\n",
        "    print(\"-\" * 80)\n",
        "    print(f\"Source: {data['source']['paper']} - {data['source'].get('figure', '')}\")\n",
        "    \n",
        "    # Create PDF link for the specific page\n",
        "    page_num = data['source'].get('page', 1)\n",
        "    pdf_link = f\"<a href='{pdf_path}#page={page_num}' target='_blank' style='color: blue; text-decoration: underline;'>\ud83d\udcc4 Open PDF at page {page_num}</a>\"\n",
        "    display(HTML(pdf_link))\n",
        "    print(\"-\" * 80)\n",
        "    \n",
        "    # Create comparison table with alpha and robustness\n",
        "    metrics_list = []\n",
        "    for metric in ['tst', 'ascendency', 'reserve', 'relative_ascendency', 'robustness']:\n",
        "        pub = data['published_metrics'][metric]\n",
        "        calc = data['calculated_metrics'][metric]\n",
        "        \n",
        "        pub_val = pub.get('value', 'N/A')\n",
        "        calc_val = calc.get('value', 'N/A')\n",
        "        \n",
        "        # Format metric name\n",
        "        if metric == 'relative_ascendency':\n",
        "            metric_name = 'Alpha (\u03b1)'\n",
        "        elif metric == 'tst':\n",
        "            metric_name = 'TST'\n",
        "        else:\n",
        "            metric_name = metric.capitalize()\n",
        "        \n",
        "        # Get source reference with page number\n",
        "        source_ref = \"\"\n",
        "        if pub_val != 'N/A' and pub_val is not None:\n",
        "            source_loc = pub.get('source_location', '')\n",
        "            source_text = pub.get('source_text', '')\n",
        "            if source_text:\n",
        "                if len(source_text) > 50:\n",
        "                    source_ref = source_text[:47] + \"...\"\n",
        "                else:\n",
        "                    source_ref = source_text\n",
        "            elif source_loc:\n",
        "                source_ref = source_loc\n",
        "        \n",
        "        # Calculate error and status\n",
        "        if pub_val != 'N/A' and calc_val != 'N/A' and pub_val is not None:\n",
        "            if pub_val == 0:\n",
        "                error = 0 if calc_val == 0 else 100\n",
        "            else:\n",
        "                error = abs(calc_val - pub_val) / pub_val * 100\n",
        "            status = '\u2713' if error < 5 else '\u26a0' if error < 20 else '\u2717'\n",
        "        else:\n",
        "            error = None\n",
        "            status = '-'\n",
        "        \n",
        "        # Format values for display\n",
        "        if pub_val != 'N/A' and pub_val is not None:\n",
        "            pub_display = f\"{pub_val:.3f}\" if pub_val < 10 else f\"{pub_val:.1f}\"\n",
        "        else:\n",
        "            pub_display = 'Not reported'\n",
        "        \n",
        "        if calc_val != 'N/A' and calc_val is not None:\n",
        "            calc_display = f\"{calc_val:.4f}\" if calc_val < 1 else f\"{calc_val:.3f}\" if calc_val < 10 else f\"{calc_val:.1f}\"\n",
        "        else:\n",
        "            calc_display = 'N/A'\n",
        "        \n",
        "        metrics_list.append({\n",
        "            'Metric': metric_name,\n",
        "            'Published': pub_display,\n",
        "            'Calculated': calc_display,\n",
        "            'Error %': f\"{error:.1f}%\" if error is not None else '-',\n",
        "            'Status': status,\n",
        "            'Source': source_ref\n",
        "        })\n",
        "    \n",
        "    df = pd.DataFrame(metrics_list)\n",
        "    display(df.style.set_properties(**{'text-align': 'left'})\n",
        "            .set_properties(subset=['Published', 'Calculated', 'Error %', 'Status'], **{'text-align': 'center'})\n",
        "            .set_table_styles([{'selector': 'th', 'props': [('text-align', 'center')]}]))\n",
        "    \n",
        "    # Show source text details with PDF links\n",
        "    print(\"\\nSource References (Click page numbers to open PDF):\")\n",
        "    print(\"-\" * 80)\n",
        "    \n",
        "    for metric in ['tst', 'ascendency', 'reserve']:\n",
        "        pub = data['published_metrics'][metric]\n",
        "        if pub.get('value') is not None and pub.get('source_text'):\n",
        "            metric_display = metric.upper() if metric == 'tst' else metric.capitalize()\n",
        "            source_loc = pub.get('source_location', '')\n",
        "            \n",
        "            # Extract page number from source location\n",
        "            page_num = 31  # Default page\n",
        "            if 'Page 29' in source_loc:\n",
        "                page_num = 29\n",
        "            elif 'Page 31' in source_loc:\n",
        "                page_num = 31\n",
        "            \n",
        "            print(f\"{metric_display}:\")\n",
        "            print(f'  Text: \"{pub[\"source_text\"]}\"')\n",
        "            \n",
        "            # Create clickable PDF link\n",
        "            pdf_link_html = f'<a href=\"{pdf_path}#page={page_num}\" target=\"_blank\" style=\"color: blue; text-decoration: underline;\">\ud83d\udcc4 {source_loc} (Click to open PDF)</a>'\n",
        "            display(HTML(f\"  Location: {pdf_link_html}\"))\n",
        "    \n",
        "    # Show fundamental check\n",
        "    if 'comparison' in data and 'fundamental_check' in data['comparison']:\n",
        "        fc = data['comparison']['fundamental_check']\n",
        "        print(f\"\\nFundamental Check (C = A + \u03a6): {fc['status']}\")\n",
        "    \n",
        "    return data\n"
      ]
    },
    {
      "cell_type": "code",
      "execution_count": 26,
      "metadata": {},
      "outputs": [
        {
          "name": "stdout",
          "output_type": "stream",
          "text": [
            "PUBLISHED VS CALCULATED METRICS WITH SOURCE REFERENCES AND PDF LINKS\n",
            "================================================================================\n"
          ]
        },
        {
          "data": {
            "text/html": [
              "<div style=\"background-color: #f0f0f0; padding: 10px; border-radius: 5px; margin-bottom: 20px;\"><b>\ud83d\udcda Reference Paper:</b> Ulanowicz et al. (2009) - Quantifying sustainability: Resilience, efficiency and the return of information theory<br><a href=\"../papers/Quantifying Sustainability Resilience Efficiency.pdf\" target=\"_blank\" style=\"color: blue; text-decoration: underline;\">\ud83d\udcc4 Open Full PDF</a> | <a href=\"../papers/Quantifying Sustainability Resilience Efficiency.pdf#page=29\" target=\"_blank\" style=\"color: blue; text-decoration: underline;\">\ud83d\udccd Jump to Page 29 (Efficient Network)</a> | <a href=\"../papers/Quantifying Sustainability Resilience Efficiency.pdf#page=31\" target=\"_blank\" style=\"color: blue; text-decoration: underline;\">\ud83d\udccd Jump to Page 31 (Original & Adapted Networks)</a></div>"
            ],
            "text/plain": [
              "<IPython.core.display.HTML object>"
            ]
          },
          "metadata": {},
          "output_type": "display_data"
        }
      ],
      "source": [
        "# Display main PDF reference with quick links\n",
        "print(\"PUBLISHED VS CALCULATED METRICS WITH SOURCE REFERENCES AND PDF LINKS\")\n",
        "print(\"=\" * 80)\n",
        "\n",
        "main_pdf_link = f'<div style=\"background-color: #f0f0f0; padding: 10px; border-radius: 5px; margin-bottom: 20px;\">' + \\\n",
        "                f'<b>\ud83d\udcda Reference Paper:</b> Ulanowicz et al. (2009) - Quantifying sustainability: Resilience, efficiency and the return of information theory<br>' + \\\n",
        "                f'<a href=\"{pdf_path}\" target=\"_blank\" style=\"color: blue; text-decoration: underline;\">\ud83d\udcc4 Open Full PDF</a> | ' + \\\n",
        "                f'<a href=\"{pdf_path}#page=29\" target=\"_blank\" style=\"color: blue; text-decoration: underline;\">\ud83d\udccd Jump to Page 29 (Efficient Network)</a> | ' + \\\n",
        "                f'<a href=\"{pdf_path}#page=31\" target=\"_blank\" style=\"color: blue; text-decoration: underline;\">\ud83d\udccd Jump to Page 31 (Original & Adapted Networks)</a>' + \\\n",
        "                f'</div>'\n",
        "display(HTML(main_pdf_link))\n"
      ]
    },
    {
      "cell_type": "markdown",
      "metadata": {},
      "source": [
        "### 5.1 Original Network (3 Pathways)"
      ]
    },
    {
      "cell_type": "code",
      "execution_count": 27,
      "metadata": {},
      "outputs": [
        {
          "name": "stdout",
          "output_type": "stream",
          "text": [
            "\n",
            "ORIGINAL NETWORK\n",
            "--------------------------------------------------------------------------------\n",
            "Source: Ulanowicz et al. 2009 - Figure 3a\n"
          ]
        },
        {
          "data": {
            "text/html": [
              "<a href='../papers/Quantifying Sustainability Resilience Efficiency.pdf#page=31' target='_blank' style='color: blue; text-decoration: underline;'>\ud83d\udcc4 Open PDF at page 31</a>"
            ],
            "text/plain": [
              "<IPython.core.display.HTML object>"
            ]
          },
          "metadata": {},
          "output_type": "display_data"
        },
        {
          "name": "stdout",
          "output_type": "stream",
          "text": [
            "--------------------------------------------------------------------------------\n"
          ]
        },
        {
          "data": {
            "text/html": [
              "<style type=\"text/css\">\n",
              "#T_eb5d1 th {\n",
              "  text-align: center;\n",
              "}\n",
              "#T_eb5d1_row0_col0, #T_eb5d1_row0_col5, #T_eb5d1_row1_col0, #T_eb5d1_row1_col5, #T_eb5d1_row2_col0, #T_eb5d1_row2_col5, #T_eb5d1_row3_col0, #T_eb5d1_row3_col5, #T_eb5d1_row4_col0, #T_eb5d1_row4_col5 {\n",
              "  text-align: left;\n",
              "}\n",
              "#T_eb5d1_row0_col1, #T_eb5d1_row0_col2, #T_eb5d1_row0_col3, #T_eb5d1_row0_col4, #T_eb5d1_row1_col1, #T_eb5d1_row1_col2, #T_eb5d1_row1_col3, #T_eb5d1_row1_col4, #T_eb5d1_row2_col1, #T_eb5d1_row2_col2, #T_eb5d1_row2_col3, #T_eb5d1_row2_col4, #T_eb5d1_row3_col1, #T_eb5d1_row3_col2, #T_eb5d1_row3_col3, #T_eb5d1_row3_col4, #T_eb5d1_row4_col1, #T_eb5d1_row4_col2, #T_eb5d1_row4_col3, #T_eb5d1_row4_col4 {\n",
              "  text-align: left;\n",
              "  text-align: center;\n",
              "}\n",
              "</style>\n",
              "<table id=\"T_eb5d1\">\n",
              "  <thead>\n",
              "    <tr>\n",
              "      <th class=\"blank level0\" >&nbsp;</th>\n",
              "      <th id=\"T_eb5d1_level0_col0\" class=\"col_heading level0 col0\" >Metric</th>\n",
              "      <th id=\"T_eb5d1_level0_col1\" class=\"col_heading level0 col1\" >Published</th>\n",
              "      <th id=\"T_eb5d1_level0_col2\" class=\"col_heading level0 col2\" >Calculated</th>\n",
              "      <th id=\"T_eb5d1_level0_col3\" class=\"col_heading level0 col3\" >Error %</th>\n",
              "      <th id=\"T_eb5d1_level0_col4\" class=\"col_heading level0 col4\" >Status</th>\n",
              "      <th id=\"T_eb5d1_level0_col5\" class=\"col_heading level0 col5\" >Source</th>\n",
              "    </tr>\n",
              "  </thead>\n",
              "  <tbody>\n",
              "    <tr>\n",
              "      <th id=\"T_eb5d1_level0_row0\" class=\"row_heading level0 row0\" >0</th>\n",
              "      <td id=\"T_eb5d1_row0_col0\" class=\"data row0 col0\" >TST</td>\n",
              "      <td id=\"T_eb5d1_row0_col1\" class=\"data row0 col1\" >102.5</td>\n",
              "      <td id=\"T_eb5d1_row0_col2\" class=\"data row0 col2\" >120.9</td>\n",
              "      <td id=\"T_eb5d1_row0_col3\" class=\"data row0 col3\" >18.0%</td>\n",
              "      <td id=\"T_eb5d1_row0_col4\" class=\"data row0 col4\" >\u26a0</td>\n",
              "      <td id=\"T_eb5d1_row0_col5\" class=\"data row0 col5\" >The hypothetical network involves 102.5 mg C m\u207b...</td>\n",
              "    </tr>\n",
              "    <tr>\n",
              "      <th id=\"T_eb5d1_level0_row1\" class=\"row_heading level0 row1\" >1</th>\n",
              "      <td id=\"T_eb5d1_row1_col0\" class=\"data row1 col0\" >Ascendency</td>\n",
              "      <td id=\"T_eb5d1_row1_col1\" class=\"data row1 col1\" >53.9</td>\n",
              "      <td id=\"T_eb5d1_row1_col2\" class=\"data row1 col2\" >51.6</td>\n",
              "      <td id=\"T_eb5d1_row1_col3\" class=\"data row1 col3\" >4.3%</td>\n",
              "      <td id=\"T_eb5d1_row1_col4\" class=\"data row1 col4\" >\u2713</td>\n",
              "      <td id=\"T_eb5d1_row1_col5\" class=\"data row1 col5\" >Its ascendency is A = 53.9 mg C-bits m\u207b\u00b2 y\u207b\u00b9</td>\n",
              "    </tr>\n",
              "    <tr>\n",
              "      <th id=\"T_eb5d1_level0_row2\" class=\"row_heading level0 row2\" >2</th>\n",
              "      <td id=\"T_eb5d1_row2_col0\" class=\"data row2 col0\" >Reserve</td>\n",
              "      <td id=\"T_eb5d1_row2_col1\" class=\"data row2 col1\" >121.3</td>\n",
              "      <td id=\"T_eb5d1_row2_col2\" class=\"data row2 col2\" >94.5</td>\n",
              "      <td id=\"T_eb5d1_row2_col3\" class=\"data row2 col3\" >22.1%</td>\n",
              "      <td id=\"T_eb5d1_row2_col4\" class=\"data row2 col4\" >\u2717</td>\n",
              "      <td id=\"T_eb5d1_row2_col5\" class=\"data row2 col5\" >Its reserve is \u03a6 = 121.3 mg C-bits m\u207b\u00b2 y\u207b\u00b9</td>\n",
              "    </tr>\n",
              "    <tr>\n",
              "      <th id=\"T_eb5d1_level0_row3\" class=\"row_heading level0 row3\" >3</th>\n",
              "      <td id=\"T_eb5d1_row3_col0\" class=\"data row3 col0\" >Alpha (\u03b1)</td>\n",
              "      <td id=\"T_eb5d1_row3_col1\" class=\"data row3 col1\" >Not reported</td>\n",
              "      <td id=\"T_eb5d1_row3_col2\" class=\"data row3 col2\" >0.3532</td>\n",
              "      <td id=\"T_eb5d1_row3_col3\" class=\"data row3 col3\" >-</td>\n",
              "      <td id=\"T_eb5d1_row3_col4\" class=\"data row3 col4\" >-</td>\n",
              "      <td id=\"T_eb5d1_row3_col5\" class=\"data row3 col5\" ></td>\n",
              "    </tr>\n",
              "    <tr>\n",
              "      <th id=\"T_eb5d1_level0_row4\" class=\"row_heading level0 row4\" >4</th>\n",
              "      <td id=\"T_eb5d1_row4_col0\" class=\"data row4 col0\" >Robustness</td>\n",
              "      <td id=\"T_eb5d1_row4_col1\" class=\"data row4 col1\" >Not reported</td>\n",
              "      <td id=\"T_eb5d1_row4_col2\" class=\"data row4 col2\" >0.3676</td>\n",
              "      <td id=\"T_eb5d1_row4_col3\" class=\"data row4 col3\" >-</td>\n",
              "      <td id=\"T_eb5d1_row4_col4\" class=\"data row4 col4\" >-</td>\n",
              "      <td id=\"T_eb5d1_row4_col5\" class=\"data row4 col5\" ></td>\n",
              "    </tr>\n",
              "  </tbody>\n",
              "</table>\n"
            ],
            "text/plain": [
              "<pandas.io.formats.style.Styler at 0x32d36efd0>"
            ]
          },
          "metadata": {},
          "output_type": "display_data"
        },
        {
          "name": "stdout",
          "output_type": "stream",
          "text": [
            "\n",
            "Source References (Click page numbers to open PDF):\n",
            "--------------------------------------------------------------------------------\n",
            "TST:\n",
            "  Text: \"The hypothetical network involves 102.5 mg C m\u207b\u00b2 y\u207b\u00b9 flowing from prawns\"\n"
          ]
        },
        {
          "data": {
            "text/html": [
              "  Location: <a href=\"../papers/Quantifying Sustainability Resilience Efficiency.pdf#page=31\" target=\"_blank\" style=\"color: blue; text-decoration: underline;\">\ud83d\udcc4 Page 31, Section 3 (Click to open PDF)</a>"
            ],
            "text/plain": [
              "<IPython.core.display.HTML object>"
            ]
          },
          "metadata": {},
          "output_type": "display_data"
        },
        {
          "name": "stdout",
          "output_type": "stream",
          "text": [
            "Ascendency:\n",
            "  Text: \"Its ascendency is A = 53.9 mg C-bits m\u207b\u00b2 y\u207b\u00b9\"\n"
          ]
        },
        {
          "data": {
            "text/html": [
              "  Location: <a href=\"../papers/Quantifying Sustainability Resilience Efficiency.pdf#page=31\" target=\"_blank\" style=\"color: blue; text-decoration: underline;\">\ud83d\udcc4 Page 31, Figure 3 discussion (Click to open PDF)</a>"
            ],
            "text/plain": [
              "<IPython.core.display.HTML object>"
            ]
          },
          "metadata": {},
          "output_type": "display_data"
        },
        {
          "name": "stdout",
          "output_type": "stream",
          "text": [
            "Reserve:\n",
            "  Text: \"Its reserve is \u03a6 = 121.3 mg C-bits m\u207b\u00b2 y\u207b\u00b9\"\n"
          ]
        },
        {
          "data": {
            "text/html": [
              "  Location: <a href=\"../papers/Quantifying Sustainability Resilience Efficiency.pdf#page=31\" target=\"_blank\" style=\"color: blue; text-decoration: underline;\">\ud83d\udcc4 Page 31, Figure 3 discussion (Click to open PDF)</a>"
            ],
            "text/plain": [
              "<IPython.core.display.HTML object>"
            ]
          },
          "metadata": {},
          "output_type": "display_data"
        },
        {
          "name": "stdout",
          "output_type": "stream",
          "text": [
            "\n",
            "Fundamental Check (C = A + \u03a6): PERFECT\n"
          ]
        }
      ],
      "source": [
        "# Compare Original Network metrics\n",
        "original_db = load_and_compare('prawns_alligator_original.json', 'ORIGINAL NETWORK')\n"
      ]
    },
    {
      "cell_type": "markdown",
      "metadata": {},
      "source": [
        "### 5.2 Efficient-Only Network (Single Pathway)"
      ]
    },
    {
      "cell_type": "code",
      "execution_count": 28,
      "metadata": {},
      "outputs": [
        {
          "name": "stdout",
          "output_type": "stream",
          "text": [
            "\n",
            "EFFICIENT-ONLY NETWORK\n",
            "--------------------------------------------------------------------------------\n",
            "Source: Ulanowicz et al. 2009 - Figure 2\n"
          ]
        },
        {
          "data": {
            "text/html": [
              "<a href='../papers/Quantifying Sustainability Resilience Efficiency.pdf#page=29' target='_blank' style='color: blue; text-decoration: underline;'>\ud83d\udcc4 Open PDF at page 29</a>"
            ],
            "text/plain": [
              "<IPython.core.display.HTML object>"
            ]
          },
          "metadata": {},
          "output_type": "display_data"
        },
        {
          "name": "stdout",
          "output_type": "stream",
          "text": [
            "--------------------------------------------------------------------------------\n"
          ]
        },
        {
          "data": {
            "text/html": [
              "<style type=\"text/css\">\n",
              "#T_73d7f th {\n",
              "  text-align: center;\n",
              "}\n",
              "#T_73d7f_row0_col0, #T_73d7f_row0_col5, #T_73d7f_row1_col0, #T_73d7f_row1_col5, #T_73d7f_row2_col0, #T_73d7f_row2_col5, #T_73d7f_row3_col0, #T_73d7f_row3_col5, #T_73d7f_row4_col0, #T_73d7f_row4_col5 {\n",
              "  text-align: left;\n",
              "}\n",
              "#T_73d7f_row0_col1, #T_73d7f_row0_col2, #T_73d7f_row0_col3, #T_73d7f_row0_col4, #T_73d7f_row1_col1, #T_73d7f_row1_col2, #T_73d7f_row1_col3, #T_73d7f_row1_col4, #T_73d7f_row2_col1, #T_73d7f_row2_col2, #T_73d7f_row2_col3, #T_73d7f_row2_col4, #T_73d7f_row3_col1, #T_73d7f_row3_col2, #T_73d7f_row3_col3, #T_73d7f_row3_col4, #T_73d7f_row4_col1, #T_73d7f_row4_col2, #T_73d7f_row4_col3, #T_73d7f_row4_col4 {\n",
              "  text-align: left;\n",
              "  text-align: center;\n",
              "}\n",
              "</style>\n",
              "<table id=\"T_73d7f\">\n",
              "  <thead>\n",
              "    <tr>\n",
              "      <th class=\"blank level0\" >&nbsp;</th>\n",
              "      <th id=\"T_73d7f_level0_col0\" class=\"col_heading level0 col0\" >Metric</th>\n",
              "      <th id=\"T_73d7f_level0_col1\" class=\"col_heading level0 col1\" >Published</th>\n",
              "      <th id=\"T_73d7f_level0_col2\" class=\"col_heading level0 col2\" >Calculated</th>\n",
              "      <th id=\"T_73d7f_level0_col3\" class=\"col_heading level0 col3\" >Error %</th>\n",
              "      <th id=\"T_73d7f_level0_col4\" class=\"col_heading level0 col4\" >Status</th>\n",
              "      <th id=\"T_73d7f_level0_col5\" class=\"col_heading level0 col5\" >Source</th>\n",
              "    </tr>\n",
              "  </thead>\n",
              "  <tbody>\n",
              "    <tr>\n",
              "      <th id=\"T_73d7f_level0_row0\" class=\"row_heading level0 row0\" >0</th>\n",
              "      <td id=\"T_73d7f_row0_col0\" class=\"data row0 col0\" >TST</td>\n",
              "      <td id=\"T_73d7f_row0_col1\" class=\"data row0 col1\" >121.8</td>\n",
              "      <td id=\"T_73d7f_row0_col2\" class=\"data row0 col2\" >205.0</td>\n",
              "      <td id=\"T_73d7f_row0_col3\" class=\"data row0 col3\" >68.3%</td>\n",
              "      <td id=\"T_73d7f_row0_col4\" class=\"data row0 col4\" >\u2717</td>\n",
              "      <td id=\"T_73d7f_row0_col5\" class=\"data row0 col5\" >Page 29</td>\n",
              "    </tr>\n",
              "    <tr>\n",
              "      <th id=\"T_73d7f_level0_row1\" class=\"row_heading level0 row1\" >1</th>\n",
              "      <td id=\"T_73d7f_row1_col0\" class=\"data row1 col0\" >Ascendency</td>\n",
              "      <td id=\"T_73d7f_row1_col1\" class=\"data row1 col1\" >100.3</td>\n",
              "      <td id=\"T_73d7f_row1_col2\" class=\"data row1 col2\" >142.1</td>\n",
              "      <td id=\"T_73d7f_row1_col3\" class=\"data row1 col3\" >41.7%</td>\n",
              "      <td id=\"T_73d7f_row1_col4\" class=\"data row1 col4\" >\u2717</td>\n",
              "      <td id=\"T_73d7f_row1_col5\" class=\"data row1 col5\" >Page 29</td>\n",
              "    </tr>\n",
              "    <tr>\n",
              "      <th id=\"T_73d7f_level0_row2\" class=\"row_heading level0 row2\" >2</th>\n",
              "      <td id=\"T_73d7f_row2_col0\" class=\"data row2 col0\" >Reserve</td>\n",
              "      <td id=\"T_73d7f_row2_col1\" class=\"data row2 col1\" >0.000</td>\n",
              "      <td id=\"T_73d7f_row2_col2\" class=\"data row2 col2\" >0.0000</td>\n",
              "      <td id=\"T_73d7f_row2_col3\" class=\"data row2 col3\" >0.0%</td>\n",
              "      <td id=\"T_73d7f_row2_col4\" class=\"data row2 col4\" >\u2713</td>\n",
              "      <td id=\"T_73d7f_row2_col5\" class=\"data row2 col5\" >Page 29</td>\n",
              "    </tr>\n",
              "    <tr>\n",
              "      <th id=\"T_73d7f_level0_row3\" class=\"row_heading level0 row3\" >3</th>\n",
              "      <td id=\"T_73d7f_row3_col0\" class=\"data row3 col0\" >Alpha (\u03b1)</td>\n",
              "      <td id=\"T_73d7f_row3_col1\" class=\"data row3 col1\" >1.000</td>\n",
              "      <td id=\"T_73d7f_row3_col2\" class=\"data row3 col2\" >1.000</td>\n",
              "      <td id=\"T_73d7f_row3_col3\" class=\"data row3 col3\" >0.0%</td>\n",
              "      <td id=\"T_73d7f_row3_col4\" class=\"data row3 col4\" >\u2713</td>\n",
              "      <td id=\"T_73d7f_row3_col5\" class=\"data row3 col5\" ></td>\n",
              "    </tr>\n",
              "    <tr>\n",
              "      <th id=\"T_73d7f_level0_row4\" class=\"row_heading level0 row4\" >4</th>\n",
              "      <td id=\"T_73d7f_row4_col0\" class=\"data row4 col0\" >Robustness</td>\n",
              "      <td id=\"T_73d7f_row4_col1\" class=\"data row4 col1\" >0.000</td>\n",
              "      <td id=\"T_73d7f_row4_col2\" class=\"data row4 col2\" >0.0000</td>\n",
              "      <td id=\"T_73d7f_row4_col3\" class=\"data row4 col3\" >0.0%</td>\n",
              "      <td id=\"T_73d7f_row4_col4\" class=\"data row4 col4\" >\u2713</td>\n",
              "      <td id=\"T_73d7f_row4_col5\" class=\"data row4 col5\" ></td>\n",
              "    </tr>\n",
              "  </tbody>\n",
              "</table>\n"
            ],
            "text/plain": [
              "<pandas.io.formats.style.Styler at 0x32d36ee90>"
            ]
          },
          "metadata": {},
          "output_type": "display_data"
        },
        {
          "name": "stdout",
          "output_type": "stream",
          "text": [
            "\n",
            "Source References (Click page numbers to open PDF):\n",
            "--------------------------------------------------------------------------------\n",
            "\n",
            "Fundamental Check (C = A + \u03a6): PERFECT\n"
          ]
        }
      ],
      "source": [
        "# Compare Efficient-Only Network metrics\n",
        "efficient_db = load_and_compare('prawns_alligator_efficient.json', 'EFFICIENT-ONLY NETWORK')\n"
      ]
    },
    {
      "cell_type": "markdown",
      "metadata": {},
      "source": [
        "### 5.3 Adapted Network (After Fish Loss)"
      ]
    },
    {
      "cell_type": "code",
      "execution_count": 29,
      "metadata": {},
      "outputs": [
        {
          "name": "stdout",
          "output_type": "stream",
          "text": [
            "\n",
            "ADAPTED NETWORK\n",
            "--------------------------------------------------------------------------------\n",
            "Source: Ulanowicz et al. 2009 - Figure 3\n"
          ]
        },
        {
          "data": {
            "text/html": [
              "<a href='../papers/Quantifying Sustainability Resilience Efficiency.pdf#page=31' target='_blank' style='color: blue; text-decoration: underline;'>\ud83d\udcc4 Open PDF at page 31</a>"
            ],
            "text/plain": [
              "<IPython.core.display.HTML object>"
            ]
          },
          "metadata": {},
          "output_type": "display_data"
        },
        {
          "name": "stdout",
          "output_type": "stream",
          "text": [
            "--------------------------------------------------------------------------------\n"
          ]
        },
        {
          "data": {
            "text/html": [
              "<style type=\"text/css\">\n",
              "#T_cf8cd th {\n",
              "  text-align: center;\n",
              "}\n",
              "#T_cf8cd_row0_col0, #T_cf8cd_row0_col5, #T_cf8cd_row1_col0, #T_cf8cd_row1_col5, #T_cf8cd_row2_col0, #T_cf8cd_row2_col5, #T_cf8cd_row3_col0, #T_cf8cd_row3_col5, #T_cf8cd_row4_col0, #T_cf8cd_row4_col5 {\n",
              "  text-align: left;\n",
              "}\n",
              "#T_cf8cd_row0_col1, #T_cf8cd_row0_col2, #T_cf8cd_row0_col3, #T_cf8cd_row0_col4, #T_cf8cd_row1_col1, #T_cf8cd_row1_col2, #T_cf8cd_row1_col3, #T_cf8cd_row1_col4, #T_cf8cd_row2_col1, #T_cf8cd_row2_col2, #T_cf8cd_row2_col3, #T_cf8cd_row2_col4, #T_cf8cd_row3_col1, #T_cf8cd_row3_col2, #T_cf8cd_row3_col3, #T_cf8cd_row3_col4, #T_cf8cd_row4_col1, #T_cf8cd_row4_col2, #T_cf8cd_row4_col3, #T_cf8cd_row4_col4 {\n",
              "  text-align: left;\n",
              "  text-align: center;\n",
              "}\n",
              "</style>\n",
              "<table id=\"T_cf8cd\">\n",
              "  <thead>\n",
              "    <tr>\n",
              "      <th class=\"blank level0\" >&nbsp;</th>\n",
              "      <th id=\"T_cf8cd_level0_col0\" class=\"col_heading level0 col0\" >Metric</th>\n",
              "      <th id=\"T_cf8cd_level0_col1\" class=\"col_heading level0 col1\" >Published</th>\n",
              "      <th id=\"T_cf8cd_level0_col2\" class=\"col_heading level0 col2\" >Calculated</th>\n",
              "      <th id=\"T_cf8cd_level0_col3\" class=\"col_heading level0 col3\" >Error %</th>\n",
              "      <th id=\"T_cf8cd_level0_col4\" class=\"col_heading level0 col4\" >Status</th>\n",
              "      <th id=\"T_cf8cd_level0_col5\" class=\"col_heading level0 col5\" >Source</th>\n",
              "    </tr>\n",
              "  </thead>\n",
              "  <tbody>\n",
              "    <tr>\n",
              "      <th id=\"T_cf8cd_level0_row0\" class=\"row_heading level0 row0\" >0</th>\n",
              "      <td id=\"T_cf8cd_row0_col0\" class=\"data row0 col0\" >TST</td>\n",
              "      <td id=\"T_cf8cd_row0_col1\" class=\"data row0 col1\" >99.7</td>\n",
              "      <td id=\"T_cf8cd_row0_col2\" class=\"data row0 col2\" >99.7</td>\n",
              "      <td id=\"T_cf8cd_row0_col3\" class=\"data row0 col3\" >0.0%</td>\n",
              "      <td id=\"T_cf8cd_row0_col4\" class=\"data row0 col4\" >\u2713</td>\n",
              "      <td id=\"T_cf8cd_row0_col5\" class=\"data row0 col5\" >A third possibility would involve 99.7 mg C m\u207b\u00b2...</td>\n",
              "    </tr>\n",
              "    <tr>\n",
              "      <th id=\"T_cf8cd_level0_row1\" class=\"row_heading level0 row1\" >1</th>\n",
              "      <td id=\"T_cf8cd_row1_col0\" class=\"data row1 col0\" >Ascendency</td>\n",
              "      <td id=\"T_cf8cd_row1_col1\" class=\"data row1 col1\" >44.5</td>\n",
              "      <td id=\"T_cf8cd_row1_col2\" class=\"data row1 col2\" >30.8</td>\n",
              "      <td id=\"T_cf8cd_row1_col3\" class=\"data row1 col3\" >30.7%</td>\n",
              "      <td id=\"T_cf8cd_row1_col4\" class=\"data row1 col4\" >\u2717</td>\n",
              "      <td id=\"T_cf8cd_row1_col5\" class=\"data row1 col5\" >The ascendency would now become A = 44.5 mg C-b...</td>\n",
              "    </tr>\n",
              "    <tr>\n",
              "      <th id=\"T_cf8cd_level0_row2\" class=\"row_heading level0 row2\" >2</th>\n",
              "      <td id=\"T_cf8cd_row2_col0\" class=\"data row2 col0\" >Reserve</td>\n",
              "      <td id=\"T_cf8cd_row2_col1\" class=\"data row2 col1\" >68.2</td>\n",
              "      <td id=\"T_cf8cd_row2_col2\" class=\"data row2 col2\" >47.3</td>\n",
              "      <td id=\"T_cf8cd_row2_col3\" class=\"data row2 col3\" >30.7%</td>\n",
              "      <td id=\"T_cf8cd_row2_col4\" class=\"data row2 col4\" >\u2717</td>\n",
              "      <td id=\"T_cf8cd_row2_col5\" class=\"data row2 col5\" >The reserve would be \u03a6 = 68.2 mg C-bits m\u207b\u00b2 y\u207b\u00b9</td>\n",
              "    </tr>\n",
              "    <tr>\n",
              "      <th id=\"T_cf8cd_level0_row3\" class=\"row_heading level0 row3\" >3</th>\n",
              "      <td id=\"T_cf8cd_row3_col0\" class=\"data row3 col0\" >Alpha (\u03b1)</td>\n",
              "      <td id=\"T_cf8cd_row3_col1\" class=\"data row3 col1\" >Not reported</td>\n",
              "      <td id=\"T_cf8cd_row3_col2\" class=\"data row3 col2\" >0.3947</td>\n",
              "      <td id=\"T_cf8cd_row3_col3\" class=\"data row3 col3\" >-</td>\n",
              "      <td id=\"T_cf8cd_row3_col4\" class=\"data row3 col4\" >-</td>\n",
              "      <td id=\"T_cf8cd_row3_col5\" class=\"data row3 col5\" ></td>\n",
              "    </tr>\n",
              "    <tr>\n",
              "      <th id=\"T_cf8cd_level0_row4\" class=\"row_heading level0 row4\" >4</th>\n",
              "      <td id=\"T_cf8cd_row4_col0\" class=\"data row4 col0\" >Robustness</td>\n",
              "      <td id=\"T_cf8cd_row4_col1\" class=\"data row4 col1\" >Not reported</td>\n",
              "      <td id=\"T_cf8cd_row4_col2\" class=\"data row4 col2\" >0.3669</td>\n",
              "      <td id=\"T_cf8cd_row4_col3\" class=\"data row4 col3\" >-</td>\n",
              "      <td id=\"T_cf8cd_row4_col4\" class=\"data row4 col4\" >-</td>\n",
              "      <td id=\"T_cf8cd_row4_col5\" class=\"data row4 col5\" ></td>\n",
              "    </tr>\n",
              "  </tbody>\n",
              "</table>\n"
            ],
            "text/plain": [
              "<pandas.io.formats.style.Styler at 0x32d36ed50>"
            ]
          },
          "metadata": {},
          "output_type": "display_data"
        },
        {
          "name": "stdout",
          "output_type": "stream",
          "text": [
            "\n",
            "Source References (Click page numbers to open PDF):\n",
            "--------------------------------------------------------------------------------\n",
            "TST:\n",
            "  Text: \"A third possibility would involve 99.7 mg C m\u207b\u00b2 y\u207b\u00b9\"\n"
          ]
        },
        {
          "data": {
            "text/html": [
              "  Location: <a href=\"../papers/Quantifying Sustainability Resilience Efficiency.pdf#page=31\" target=\"_blank\" style=\"color: blue; text-decoration: underline;\">\ud83d\udcc4 Page 31, Figure 3c caption (Click to open PDF)</a>"
            ],
            "text/plain": [
              "<IPython.core.display.HTML object>"
            ]
          },
          "metadata": {},
          "output_type": "display_data"
        },
        {
          "name": "stdout",
          "output_type": "stream",
          "text": [
            "Ascendency:\n",
            "  Text: \"The ascendency would now become A = 44.5 mg C-bits m\u207b\u00b2 y\u207b\u00b9\"\n"
          ]
        },
        {
          "data": {
            "text/html": [
              "  Location: <a href=\"../papers/Quantifying Sustainability Resilience Efficiency.pdf#page=31\" target=\"_blank\" style=\"color: blue; text-decoration: underline;\">\ud83d\udcc4 Page 31, Section 3 (Click to open PDF)</a>"
            ],
            "text/plain": [
              "<IPython.core.display.HTML object>"
            ]
          },
          "metadata": {},
          "output_type": "display_data"
        },
        {
          "name": "stdout",
          "output_type": "stream",
          "text": [
            "Reserve:\n",
            "  Text: \"The reserve would be \u03a6 = 68.2 mg C-bits m\u207b\u00b2 y\u207b\u00b9\"\n"
          ]
        },
        {
          "data": {
            "text/html": [
              "  Location: <a href=\"../papers/Quantifying Sustainability Resilience Efficiency.pdf#page=31\" target=\"_blank\" style=\"color: blue; text-decoration: underline;\">\ud83d\udcc4 Page 31, Section 3 (Click to open PDF)</a>"
            ],
            "text/plain": [
              "<IPython.core.display.HTML object>"
            ]
          },
          "metadata": {},
          "output_type": "display_data"
        },
        {
          "name": "stdout",
          "output_type": "stream",
          "text": [
            "\n",
            "Fundamental Check (C = A + \u03a6): PERFECT\n"
          ]
        }
      ],
      "source": [
        "# Compare Adapted Network metrics\n",
        "adapted_db = load_and_compare('prawns_alligator_adapted.json', 'ADAPTED NETWORK')\n"
      ]
    },
    {
      "cell_type": "code",
      "execution_count": 30,
      "metadata": {},
      "outputs": [
        {
          "name": "stdout",
          "output_type": "stream",
          "text": [
            "\n",
            "================================================================================\n",
            "KEY OBSERVATIONS:\n",
            "  \u2022 All published values are taken directly from Ulanowicz et al. (2009)\n",
            "  \u2022 Click the PDF links above to verify the exact quotes in the paper\n",
            "  \u2022 Page 29 contains the efficient network analysis\n",
            "  \u2022 Page 31 contains the original and adapted network discussions\n",
            "  \u2022 Alpha (\u03b1) and Robustness not reported for Original and Adapted networks\n",
            "  \u2022 Efficient network: Perfect match for \u03b1=1.0 and R=0.0 (as expected)\n",
            "  \u2022 TST discrepancies likely due to different system boundaries\n",
            "  \u2022 Adapted network TST matches almost perfectly (99.66 vs 99.7)\n"
          ]
        }
      ],
      "source": [
        "# Summary of key observations\n",
        "print(\"\\n\" + \"=\"*80)\n",
        "print(\"KEY OBSERVATIONS:\")\n",
        "print(\"  \u2022 All published values are taken directly from Ulanowicz et al. (2009)\")\n",
        "print(\"  \u2022 Click the PDF links above to verify the exact quotes in the paper\")\n",
        "print(\"  \u2022 Page 29 contains the efficient network analysis\")\n",
        "print(\"  \u2022 Page 31 contains the original and adapted network discussions\")\n",
        "print(\"  \u2022 Alpha (\u03b1) and Robustness not reported for Original and Adapted networks\")\n",
        "print(\"  \u2022 Efficient network: Perfect match for \u03b1=1.0 and R=0.0 (as expected)\")\n",
        "print(\"  \u2022 TST discrepancies likely due to different system boundaries\")\n",
        "print(\"  \u2022 Adapted network TST matches almost perfectly (99.66 vs 99.7)\")\n"
      ]
    },
    {
      "cell_type": "markdown",
      "metadata": {},
      "source": [
        "## 6. Efficiency-Resilience Trade-off Visualization"
      ]
    },
    {
      "cell_type": "code",
      "execution_count": 31,
      "metadata": {},
      "outputs": [
        {
          "data": {
            "image/png": "[encoded data removed]",
            "text/plain": [
              "<Figure size 1400x1200 with 4 Axes>"
            ]
          },
          "metadata": {},
          "output_type": "display_data"
        }
      ],
      "source": [
        "import numpy as np\n",
        "import matplotlib.pyplot as plt\n",
        "\n",
        "# --- Fallbacks so the script runs even if these aren't defined upstream ---\n",
        "try:\n",
        "    original_metrics\n",
        "except NameError:\n",
        "    original_metrics = {'alpha': 0.35, 'robustness': 0.365}\n",
        "try:\n",
        "    adapted_metrics\n",
        "except NameError:\n",
        "    adapted_metrics = {'alpha': 0.38, 'robustness': 0.365}\n",
        "try:\n",
        "    efficient_metrics\n",
        "except NameError:\n",
        "    efficient_metrics = {'alpha': 1.0, 'robustness': 0.0}\n",
        "# -------------------------------------------------------------------------\n",
        "\n",
        "# Create figure with constrained layout to avoid cropping\n",
        "fig, ax = plt.subplots(figsize=(20, 12), constrained_layout=True)\n",
        "\n",
        "# Generate theoretical robustness curve\n",
        "alpha_range = np.linspace(0, 1, 200)\n",
        "b = 1.288  # Ulanowicz exponent\n",
        "robustness_curve = []\n",
        "for a in alpha_range:\n",
        "    if 0 < a < 1:\n",
        "        r = - (a**b) * np.log(a**b)  # equivalent to your formula\n",
        "    else:\n",
        "        r = 0.0\n",
        "    robustness_curve.append(max(0.0, r))\n",
        "\n",
        "# Plot the theoretical curve\n",
        "ax.plot(alpha_range, robustness_curve, 'k-', linewidth=3,\n",
        "        label='Theoretical Robustness Curve', alpha=0.6, zorder=1)\n",
        "\n",
        "# Window of Viability\n",
        "ax.axvspan(0.2, 0.6, alpha=0.15, color='green', label='Window of Viability', zorder=0)\n",
        "\n",
        "# Optimal point\n",
        "optimal_alpha = 0.460\n",
        "ax.axvline(optimal_alpha, color='orange', linestyle='--', linewidth=2,\n",
        "           label=f'Optimal \u03b1 = {optimal_alpha}', alpha=0.7, zorder=1)\n",
        "\n",
        "# Networks\n",
        "networks = [\n",
        "    {\n",
        "        'name': 'Original\\\\n(3 pathways)',\n",
        "        'alpha': original_metrics['alpha'],\n",
        "        'robustness': original_metrics['robustness'],\n",
        "        'color': 'green',\n",
        "        'marker': 'o',\n",
        "        'size': 400\n",
        "    },\n",
        "    {\n",
        "        'name': 'Adapted\\\\n(no fish)',\n",
        "        'alpha': adapted_metrics['alpha'],\n",
        "        'robustness': adapted_metrics['robustness'],\n",
        "        'color': 'blue',\n",
        "        'marker': '^',\n",
        "        'size': 400\n",
        "    },\n",
        "    {\n",
        "        'name': 'Efficient Only\\\\n(single path)',\n",
        "        'alpha': efficient_metrics['alpha'],\n",
        "        'robustness': efficient_metrics['robustness'],\n",
        "        'color': 'red',\n",
        "        'marker': 's',\n",
        "        'size': 400\n",
        "    }\n",
        "]\n",
        "\n",
        "# Plot points\n",
        "for net in networks:\n",
        "    ax.scatter(net['alpha'], net['robustness'],\n",
        "               s=net['size'], c=net['color'], marker=net['marker'],\n",
        "               edgecolors='black', linewidth=3,\n",
        "               label=net['name'].replace('\\\\n', ' '),\n",
        "               zorder=10, alpha=0.9)\n",
        "\n",
        "# Annotations (use clip_on=False to prevent edge clipping)\n",
        "ax.annotate('Original\\\\n3 pathways',\n",
        "            xy=(original_metrics['alpha'], original_metrics['robustness']),\n",
        "            xytext=(original_metrics['alpha'], original_metrics['robustness'] + 0.04),\n",
        "            fontsize=14, fontweight='bold', ha='center', va='bottom',\n",
        "            color='darkgreen', clip_on=False)\n",
        "\n",
        "ax.annotate('Adapted\\\\nafter fish loss',\n",
        "            xy=(adapted_metrics['alpha'], adapted_metrics['robustness']),\n",
        "            xytext=(adapted_metrics['alpha'] + 0.05, adapted_metrics['robustness']),\n",
        "            fontsize=14, fontweight='bold', ha='left', va='center',\n",
        "            color='darkblue', clip_on=False)\n",
        "\n",
        "ax.annotate('Efficient Only\\\\nZero Resilience!',\n",
        "            xy=(efficient_metrics['alpha'], efficient_metrics['robustness']),\n",
        "            xytext=(0.75, 0.08),\n",
        "            fontsize=14, fontweight='bold', ha='center', va='center',\n",
        "            color='darkred',\n",
        "            bbox=dict(boxstyle='round,pad=0.5', facecolor='yellow',\n",
        "                      edgecolor='red', alpha=0.3),\n",
        "            arrowprops=dict(arrowstyle='->', connectionstyle='arc3,rad=-0.3',\n",
        "                            color='red', lw=2.5),\n",
        "            clip_on=False)\n",
        "\n",
        "# Zone labels\n",
        "ax.text(0.1, 0.3, 'TOO\\\\nCHAOTIC', ha='center', va='center',\n",
        "        fontsize=18, color='red', fontweight='bold', alpha=0.6,\n",
        "        bbox=dict(boxstyle='round,pad=0.3', facecolor='white', alpha=0.5),\n",
        "        clip_on=False)\n",
        "\n",
        "ax.text(0.4, 0.38, 'VIABLE\\\\nZONE', ha='center', va='center',\n",
        "        fontsize=18, color='green', fontweight='bold', alpha=0.7,\n",
        "        bbox=dict(boxstyle='round,pad=0.3', facecolor='lightgreen', alpha=0.3),\n",
        "        clip_on=False)\n",
        "\n",
        "ax.text(0.8, 0.2, 'TOO\\\\nRIGID', ha='center', va='center',\n",
        "        fontsize=18, color='red', fontweight='bold', alpha=0.6,\n",
        "        bbox=dict(boxstyle='round,pad=0.3', facecolor='white', alpha=0.5),\n",
        "        clip_on=False)\n",
        "\n",
        "# Critical warning\n",
        "ax.text(0.98, 0.45,\n",
        "        '\u26a0\ufe0f CRITICAL WARNING\\\\n'\n",
        "        'The efficient-only network\\\\n'\n",
        "        'has ZERO resilience.\\\\n'\n",
        "        'If any component fails,\\\\n'\n",
        "        'the entire system collapses!',\n",
        "        ha='right', va='top', fontsize=13,\n",
        "        bbox=dict(boxstyle='round,pad=0.8', facecolor='red', alpha=0.1),\n",
        "        color='darkred', fontweight='bold', clip_on=False)\n",
        "\n",
        "# Axes, limits, grid, legend\n",
        "ax.set_xlabel('Relative Ascendency (\u03b1) - Efficiency Measure', fontsize=16, fontweight='bold')\n",
        "ax.set_ylabel('Robustness - Resilience Measure', fontsize=16, fontweight='bold')\n",
        "ax.set_title('Prawns-Alligator Networks on the Window of Viability\\\\n'\n",
        "             'Demonstrating the Efficiency-Resilience Trade-off',\n",
        "             fontsize=19, fontweight='bold', pad=20)\n",
        "\n",
        "ax.set_xlim(-0.05, 1.12)\n",
        "ax.set_ylim(-0.03, 0.55)\n",
        "ax.grid(True, alpha=0.3, linestyle='--')\n",
        "ax.legend(loc='upper left', fontsize=13, framealpha=0.9)\n",
        "\n",
        "# Background shading\n",
        "ax.axvspan(0, 0.2, alpha=0.05, color='red', zorder=0)   # Too chaotic\n",
        "ax.axvspan(0.6, 1.0, alpha=0.05, color='red', zorder=0) # Too rigid\n",
        "\n",
        "# Draw, then save (no tight layout, no bbox='tight')\n",
        "fig.canvas.draw()\n",
        "plt.savefig('window_of_viability_plot.png', dpi=300, pad_inches=0.2)\n",
        "plt.savefig('window_of_viability_plot.pdf', pad_inches=0.2)\n",
        "\n",
        "print(\"\u2713 Plot saved as: window_of_viability_plot.png (300 DPI) and window_of_viability_plot.pdf\")\n",
        "plt.show()\n",
        "\n",
        "# Print numerical positions\n",
        "print(\"\\\\nNETWORK POSITIONS ON THE WINDOW OF VIABILITY:\")\n",
        "print(\"=\" * 60)\n",
        "print(f\"Original Network:  \u03b1 = {original_metrics['alpha']:.4f}, R = {original_metrics['robustness']:.4f}\")\n",
        "print(f\"                   Status: VIABLE (slightly below optimal)\")\n",
        "print(f\"\\\\nAdapted Network:   \u03b1 = {adapted_metrics['alpha']:.4f}, R = {adapted_metrics['robustness']:.4f}\")\n",
        "print(f\"                   Status: VIABLE (approaching optimal)\")\n",
        "print(f\"\\\\nEfficient Network: \u03b1 = {efficient_metrics['alpha']:.4f}, R = {efficient_metrics['robustness']:.4f}\")\n",
        "print(f\"                   Status: CRITICAL - Too rigid, zero resilience!\")\n",
        "print(\"\\\\n\" + \"=\"*60)\n",
        "print(\"INTERPRETATION:\")\n",
        "print(\"  \u2022 The original network maintains good balance\")\n",
        "print(\"  \u2022 After fish loss, the system adapts and remains viable\")\n",
        "print(\"  \u2022 Pure efficiency (\u03b1=1) eliminates ALL resilience\")\n",
        "print(\"  \u2022 Optimal sustainability occurs around \u03b1 \u2248 0.46\")\n"
      ]
    },
    {
      "cell_type": "markdown",
      "metadata": {},
      "source": [
        "## 7. Interactive Sankey Diagram"
      ]
    },
    {
      "cell_type": "code",
      "execution_count": 32,
      "metadata": {},
      "outputs": [
        {
          "name": "stdout",
          "output_type": "stream",
          "text": [
            "ENERGY FLOW SANKEY DIAGRAMS\n",
            "============================================================\n"
          ]
        },
        {
          "data": {
            "application/vnd.plotly.v1+json": {
              "config": {
                "plotlyServerURL": "https://plot.ly"
              },
              "data": [
                {
                  "link": {
                    "color": "rgba(150, 150, 150, 0.4)",
                    "source": [
                      0,
                      0,
                      0,
                      1,
                      2,
                      3
                    ],
                    "target": [
                      1,
                      2,
                      3,
                      4,
                      4,
                      4
                    ],
                    "value": [
                      20.5,
                      74.3,
                      7.7,
                      9.16,
                      7.2,
                      2.06
                    ]
                  },
                  "node": {
                    "color": [
                      "rgba(46, 204, 113, 0.8)",
                      "rgba(52, 152, 219, 0.8)",
                      "rgba(155, 89, 182, 0.8)",
                      "rgba(241, 196, 15, 0.8)",
                      "rgba(231, 76, 60, 0.8)"
                    ],
                    "label": [
                      "Prawns",
                      "Fish",
                      "Turtles",
                      "Snakes",
                      "Alligators"
                    ],
                    "line": {
                      "color": "black",
                      "width": 0.5
                    },
                    "pad": 15,
                    "thickness": 20
                  },
                  "type": "sankey"
                }
              ],
              "layout": {
                "font": {
                  "size": 12
                },
                "height": 400,
                "template": {
                  "data": {
                    "bar": [
                      {
                        "error_x": {
                          "color": "#2a3f5f"
                        },
                        "error_y": {
                          "color": "#2a3f5f"
                        },
                        "marker": {
                          "line": {
                            "color": "#E5ECF6",
                            "width": 0.5
                          },
                          "pattern": {
                            "fillmode": "overlay",
                            "size": 10,
                            "solidity": 0.2
                          }
                        },
                        "type": "bar"
                      }
                    ],
                    "barpolar": [
                      {
                        "marker": {
                          "line": {
                            "color": "#E5ECF6",
                            "width": 0.5
                          },
                          "pattern": {
                            "fillmode": "overlay",
                            "size": 10,
                            "solidity": 0.2
                          }
                        },
                        "type": "barpolar"
                      }
                    ],
                    "carpet": [
                      {
                        "aaxis": {
                          "endlinecolor": "#2a3f5f",
                          "gridcolor": "white",
                          "linecolor": "white",
                          "minorgridcolor": "white",
                          "startlinecolor": "#2a3f5f"
                        },
                        "baxis": {
                          "endlinecolor": "#2a3f5f",
                          "gridcolor": "white",
                          "linecolor": "white",
                          "minorgridcolor": "white",
                          "startlinecolor": "#2a3f5f"
                        },
                        "type": "carpet"
                      }
                    ],
                    "choropleth": [
                      {
                        "colorbar": {
                          "outlinewidth": 0,
                          "ticks": ""
                        },
                        "type": "choropleth"
                      }
                    ],
                    "contour": [
                      {
                        "colorbar": {
                          "outlinewidth": 0,
                          "ticks": ""
                        },
                        "colorscale": [
                          [
                            0,
                            "#0d0887"
                          ],
                          [
                            0.1111111111111111,
                            "#46039f"
                          ],
                          [
                            0.2222222222222222,
                            "#7201a8"
                          ],
                          [
                            0.3333333333333333,
                            "#9c179e"
                          ],
                          [
                            0.4444444444444444,
                            "#bd3786"
                          ],
                          [
                            0.5555555555555556,
                            "#d8576b"
                          ],
                          [
                            0.6666666666666666,
                            "#ed7953"
                          ],
                          [
                            0.7777777777777778,
                            "#fb9f3a"
                          ],
                          [
                            0.8888888888888888,
                            "#fdca26"
                          ],
                          [
                            1,
                            "#f0f921"
                          ]
                        ],
                        "type": "contour"
                      }
                    ],
                    "contourcarpet": [
                      {
                        "colorbar": {
                          "outlinewidth": 0,
                          "ticks": ""
                        },
                        "type": "contourcarpet"
                      }
                    ],
                    "heatmap": [
                      {
                        "colorbar": {
                          "outlinewidth": 0,
                          "ticks": ""
                        },
                        "colorscale": [
                          [
                            0,
                            "#0d0887"
                          ],
                          [
                            0.1111111111111111,
                            "#46039f"
                          ],
                          [
                            0.2222222222222222,
                            "#7201a8"
                          ],
                          [
                            0.3333333333333333,
                            "#9c179e"
                          ],
                          [
                            0.4444444444444444,
                            "#bd3786"
                          ],
                          [
                            0.5555555555555556,
                            "#d8576b"
                          ],
                          [
                            0.6666666666666666,
                            "#ed7953"
                          ],
                          [
                            0.7777777777777778,
                            "#fb9f3a"
                          ],
                          [
                            0.8888888888888888,
                            "#fdca26"
                          ],
                          [
                            1,
                            "#f0f921"
                          ]
                        ],
                        "type": "heatmap"
                      }
                    ],
                    "heatmapgl": [
                      {
                        "colorbar": {
                          "outlinewidth": 0,
                          "ticks": ""
                        },
                        "colorscale": [
                          [
                            0,
                            "#0d0887"
                          ],
                          [
                            0.1111111111111111,
                            "#46039f"
                          ],
                          [
                            0.2222222222222222,
                            "#7201a8"
                          ],
                          [
                            0.3333333333333333,
                            "#9c179e"
                          ],
                          [
                            0.4444444444444444,
                            "#bd3786"
                          ],
                          [
                            0.5555555555555556,
                            "#d8576b"
                          ],
                          [
                            0.6666666666666666,
                            "#ed7953"
                          ],
                          [
                            0.7777777777777778,
                            "#fb9f3a"
                          ],
                          [
                            0.8888888888888888,
                            "#fdca26"
                          ],
                          [
                            1,
                            "#f0f921"
                          ]
                        ],
                        "type": "heatmapgl"
                      }
                    ],
                    "histogram": [
                      {
                        "marker": {
                          "pattern": {
                            "fillmode": "overlay",
                            "size": 10,
                            "solidity": 0.2
                          }
                        },
                        "type": "histogram"
                      }
                    ],
                    "histogram2d": [
                      {
                        "colorbar": {
                          "outlinewidth": 0,
                          "ticks": ""
                        },
                        "colorscale": [
                          [
                            0,
                            "#0d0887"
                          ],
                          [
                            0.1111111111111111,
                            "#46039f"
                          ],
                          [
                            0.2222222222222222,
                            "#7201a8"
                          ],
                          [
                            0.3333333333333333,
                            "#9c179e"
                          ],
                          [
                            0.4444444444444444,
                            "#bd3786"
                          ],
                          [
                            0.5555555555555556,
                            "#d8576b"
                          ],
                          [
                            0.6666666666666666,
                            "#ed7953"
                          ],
                          [
                            0.7777777777777778,
                            "#fb9f3a"
                          ],
                          [
                            0.8888888888888888,
                            "#fdca26"
                          ],
                          [
                            1,
                            "#f0f921"
                          ]
                        ],
                        "type": "histogram2d"
                      }
                    ],
                    "histogram2dcontour": [
                      {
                        "colorbar": {
                          "outlinewidth": 0,
                          "ticks": ""
                        },
                        "colorscale": [
                          [
                            0,
                            "#0d0887"
                          ],
                          [
                            0.1111111111111111,
                            "#46039f"
                          ],
                          [
                            0.2222222222222222,
                            "#7201a8"
                          ],
                          [
                            0.3333333333333333,
                            "#9c179e"
                          ],
                          [
                            0.4444444444444444,
                            "#bd3786"
                          ],
                          [
                            0.5555555555555556,
                            "#d8576b"
                          ],
                          [
                            0.6666666666666666,
                            "#ed7953"
                          ],
                          [
                            0.7777777777777778,
                            "#fb9f3a"
                          ],
                          [
                            0.8888888888888888,
                            "#fdca26"
                          ],
                          [
                            1,
                            "#f0f921"
                          ]
                        ],
                        "type": "histogram2dcontour"
                      }
                    ],
                    "mesh3d": [
                      {
                        "colorbar": {
                          "outlinewidth": 0,
                          "ticks": ""
                        },
                        "type": "mesh3d"
                      }
                    ],
                    "parcoords": [
                      {
                        "line": {
                          "colorbar": {
                            "outlinewidth": 0,
                            "ticks": ""
                          }
                        },
                        "type": "parcoords"
                      }
                    ],
                    "pie": [
                      {
                        "automargin": true,
                        "type": "pie"
                      }
                    ],
                    "scatter": [
                      {
                        "fillpattern": {
                          "fillmode": "overlay",
                          "size": 10,
                          "solidity": 0.2
                        },
                        "type": "scatter"
                      }
                    ],
                    "scatter3d": [
                      {
                        "line": {
                          "colorbar": {
                            "outlinewidth": 0,
                            "ticks": ""
                          }
                        },
                        "marker": {
                          "colorbar": {
                            "outlinewidth": 0,
                            "ticks": ""
                          }
                        },
                        "type": "scatter3d"
                      }
                    ],
                    "scattercarpet": [
                      {
                        "marker": {
                          "colorbar": {
                            "outlinewidth": 0,
                            "ticks": ""
                          }
                        },
                        "type": "scattercarpet"
                      }
                    ],
                    "scattergeo": [
                      {
                        "marker": {
                          "colorbar": {
                            "outlinewidth": 0,
                            "ticks": ""
                          }
                        },
                        "type": "scattergeo"
                      }
                    ],
                    "scattergl": [
                      {
                        "marker": {
                          "colorbar": {
                            "outlinewidth": 0,
                            "ticks": ""
                          }
                        },
                        "type": "scattergl"
                      }
                    ],
                    "scattermapbox": [
                      {
                        "marker": {
                          "colorbar": {
                            "outlinewidth": 0,
                            "ticks": ""
                          }
                        },
                        "type": "scattermapbox"
                      }
                    ],
                    "scatterpolar": [
                      {
                        "marker": {
                          "colorbar": {
                            "outlinewidth": 0,
                            "ticks": ""
                          }
                        },
                        "type": "scatterpolar"
                      }
                    ],
                    "scatterpolargl": [
                      {
                        "marker": {
                          "colorbar": {
                            "outlinewidth": 0,
                            "ticks": ""
                          }
                        },
                        "type": "scatterpolargl"
                      }
                    ],
                    "scatterternary": [
                      {
                        "marker": {
                          "colorbar": {
                            "outlinewidth": 0,
                            "ticks": ""
                          }
                        },
                        "type": "scatterternary"
                      }
                    ],
                    "surface": [
                      {
                        "colorbar": {
                          "outlinewidth": 0,
                          "ticks": ""
                        },
                        "colorscale": [
                          [
                            0,
                            "#0d0887"
                          ],
                          [
                            0.1111111111111111,
                            "#46039f"
                          ],
                          [
                            0.2222222222222222,
                            "#7201a8"
                          ],
                          [
                            0.3333333333333333,
                            "#9c179e"
                          ],
                          [
                            0.4444444444444444,
                            "#bd3786"
                          ],
                          [
                            0.5555555555555556,
                            "#d8576b"
                          ],
                          [
                            0.6666666666666666,
                            "#ed7953"
                          ],
                          [
                            0.7777777777777778,
                            "#fb9f3a"
                          ],
                          [
                            0.8888888888888888,
                            "#fdca26"
                          ],
                          [
                            1,
                            "#f0f921"
                          ]
                        ],
                        "type": "surface"
                      }
                    ],
                    "table": [
                      {
                        "cells": {
                          "fill": {
                            "color": "#EBF0F8"
                          },
                          "line": {
                            "color": "white"
                          }
                        },
                        "header": {
                          "fill": {
                            "color": "#C8D4E3"
                          },
                          "line": {
                            "color": "white"
                          }
                        },
                        "type": "table"
                      }
                    ]
                  },
                  "layout": {
                    "annotationdefaults": {
                      "arrowcolor": "#2a3f5f",
                      "arrowhead": 0,
                      "arrowwidth": 1
                    },
                    "autotypenumbers": "strict",
                    "coloraxis": {
                      "colorbar": {
                        "outlinewidth": 0,
                        "ticks": ""
                      }
                    },
                    "colorscale": {
                      "diverging": [
                        [
                          0,
                          "#8e0152"
                        ],
                        [
                          0.1,
                          "#c51b7d"
                        ],
                        [
                          0.2,
                          "#de77ae"
                        ],
                        [
                          0.3,
                          "#f1b6da"
                        ],
                        [
                          0.4,
                          "#fde0ef"
                        ],
                        [
                          0.5,
                          "#f7f7f7"
                        ],
                        [
                          0.6,
                          "#e6f5d0"
                        ],
                        [
                          0.7,
                          "#b8e186"
                        ],
                        [
                          0.8,
                          "#7fbc41"
                        ],
                        [
                          0.9,
                          "#4d9221"
                        ],
                        [
                          1,
                          "#276419"
                        ]
                      ],
                      "sequential": [
                        [
                          0,
                          "#0d0887"
                        ],
                        [
                          0.1111111111111111,
                          "#46039f"
                        ],
                        [
                          0.2222222222222222,
                          "#7201a8"
                        ],
                        [
                          0.3333333333333333,
                          "#9c179e"
                        ],
                        [
                          0.4444444444444444,
                          "#bd3786"
                        ],
                        [
                          0.5555555555555556,
                          "#d8576b"
                        ],
                        [
                          0.6666666666666666,
                          "#ed7953"
                        ],
                        [
                          0.7777777777777778,
                          "#fb9f3a"
                        ],
                        [
                          0.8888888888888888,
                          "#fdca26"
                        ],
                        [
                          1,
                          "#f0f921"
                        ]
                      ],
                      "sequentialminus": [
                        [
                          0,
                          "#0d0887"
                        ],
                        [
                          0.1111111111111111,
                          "#46039f"
                        ],
                        [
                          0.2222222222222222,
                          "#7201a8"
                        ],
                        [
                          0.3333333333333333,
                          "#9c179e"
                        ],
                        [
                          0.4444444444444444,
                          "#bd3786"
                        ],
                        [
                          0.5555555555555556,
                          "#d8576b"
                        ],
                        [
                          0.6666666666666666,
                          "#ed7953"
                        ],
                        [
                          0.7777777777777778,
                          "#fb9f3a"
                        ],
                        [
                          0.8888888888888888,
                          "#fdca26"
                        ],
                        [
                          1,
                          "#f0f921"
                        ]
                      ]
                    },
                    "colorway": [
                      "#636efa",
                      "#EF553B",
                      "#00cc96",
                      "#ab63fa",
                      "#FFA15A",
                      "#19d3f3",
                      "#FF6692",
                      "#B6E880",
                      "#FF97FF",
                      "#FECB52"
                    ],
                    "font": {
                      "color": "#2a3f5f"
                    },
                    "geo": {
                      "bgcolor": "white",
                      "lakecolor": "white",
                      "landcolor": "#E5ECF6",
                      "showlakes": true,
                      "showland": true,
                      "subunitcolor": "white"
                    },
                    "hoverlabel": {
                      "align": "left"
                    },
                    "hovermode": "closest",
                    "mapbox": {
                      "style": "light"
                    },
                    "paper_bgcolor": "white",
                    "plot_bgcolor": "#E5ECF6",
                    "polar": {
                      "angularaxis": {
                        "gridcolor": "white",
                        "linecolor": "white",
                        "ticks": ""
                      },
                      "bgcolor": "#E5ECF6",
                      "radialaxis": {
                        "gridcolor": "white",
                        "linecolor": "white",
                        "ticks": ""
                      }
                    },
                    "scene": {
                      "xaxis": {
                        "backgroundcolor": "#E5ECF6",
                        "gridcolor": "white",
                        "gridwidth": 2,
                        "linecolor": "white",
                        "showbackground": true,
                        "ticks": "",
                        "zerolinecolor": "white"
                      },
                      "yaxis": {
                        "backgroundcolor": "#E5ECF6",
                        "gridcolor": "white",
                        "gridwidth": 2,
                        "linecolor": "white",
                        "showbackground": true,
                        "ticks": "",
                        "zerolinecolor": "white"
                      },
                      "zaxis": {
                        "backgroundcolor": "#E5ECF6",
                        "gridcolor": "white",
                        "gridwidth": 2,
                        "linecolor": "white",
                        "showbackground": true,
                        "ticks": "",
                        "zerolinecolor": "white"
                      }
                    },
                    "shapedefaults": {
                      "line": {
                        "color": "#2a3f5f"
                      }
                    },
                    "ternary": {
                      "aaxis": {
                        "gridcolor": "white",
                        "linecolor": "white",
                        "ticks": ""
                      },
                      "baxis": {
                        "gridcolor": "white",
                        "linecolor": "white",
                        "ticks": ""
                      },
                      "bgcolor": "#E5ECF6",
                      "caxis": {
                        "gridcolor": "white",
                        "linecolor": "white",
                        "ticks": ""
                      }
                    },
                    "title": {
                      "x": 0.05
                    },
                    "xaxis": {
                      "automargin": true,
                      "gridcolor": "white",
                      "linecolor": "white",
                      "ticks": "",
                      "title": {
                        "standoff": 15
                      },
                      "zerolinecolor": "white",
                      "zerolinewidth": 2
                    },
                    "yaxis": {
                      "automargin": true,
                      "gridcolor": "white",
                      "linecolor": "white",
                      "ticks": "",
                      "title": {
                        "standoff": 15
                      },
                      "zerolinecolor": "white",
                      "zerolinewidth": 2
                    }
                  }
                },
                "title": {
                  "text": "Original Network - Three Parallel Pathways"
                }
              }
            },
            "image/png": "[encoded data removed]",
            "text/html": [
              "<div>                            <div id=\"850bde26-8c85-43bd-bbdb-f8ccecac69d1\" class=\"plotly-graph-div\" style=\"height:400px; width:100%;\"></div>            <script type=\"text/javascript\">                require([\"plotly\"], function(Plotly) {                    window.PLOTLYENV=window.PLOTLYENV || {};                                    if (document.getElementById(\"850bde26-8c85-43bd-bbdb-f8ccecac69d1\")) {                    Plotly.newPlot(                        \"850bde26-8c85-43bd-bbdb-f8ccecac69d1\",                        [{\"link\":{\"color\":\"rgba(150, 150, 150, 0.4)\",\"source\":[0,0,0,1,2,3],\"target\":[1,2,3,4,4,4],\"value\":[20.5,74.3,7.7,9.16,7.2,2.06]},\"node\":{\"color\":[\"rgba(46, 204, 113, 0.8)\",\"rgba(52, 152, 219, 0.8)\",\"rgba(155, 89, 182, 0.8)\",\"rgba(241, 196, 15, 0.8)\",\"rgba(231, 76, 60, 0.8)\"],\"label\":[\"Prawns\",\"Fish\",\"Turtles\",\"Snakes\",\"Alligators\"],\"line\":{\"color\":\"black\",\"width\":0.5},\"pad\":15,\"thickness\":20},\"type\":\"sankey\"}],                        {\"template\":{\"data\":{\"histogram2dcontour\":[{\"type\":\"histogram2dcontour\",\"colorbar\":{\"outlinewidth\":0,\"ticks\":\"\"},\"colorscale\":[[0.0,\"#0d0887\"],[0.1111111111111111,\"#46039f\"],[0.2222222222222222,\"#7201a8\"],[0.3333333333333333,\"#9c179e\"],[0.4444444444444444,\"#bd3786\"],[0.5555555555555556,\"#d8576b\"],[0.6666666666666666,\"#ed7953\"],[0.7777777777777778,\"#fb9f3a\"],[0.8888888888888888,\"#fdca26\"],[1.0,\"#f0f921\"]]}],\"choropleth\":[{\"type\":\"choropleth\",\"colorbar\":{\"outlinewidth\":0,\"ticks\":\"\"}}],\"histogram2d\":[{\"type\":\"histogram2d\",\"colorbar\":{\"outlinewidth\":0,\"ticks\":\"\"},\"colorscale\":[[0.0,\"#0d0887\"],[0.1111111111111111,\"#46039f\"],[0.2222222222222222,\"#7201a8\"],[0.3333333333333333,\"#9c179e\"],[0.4444444444444444,\"#bd3786\"],[0.5555555555555556,\"#d8576b\"],[0.6666666666666666,\"#ed7953\"],[0.7777777777777778,\"#fb9f3a\"],[0.8888888888888888,\"#fdca26\"],[1.0,\"#f0f921\"]]}],\"heatmap\":[{\"type\":\"heatmap\",\"colorbar\":{\"outlinewidth\":0,\"ticks\":\"\"},\"colorscale\":[[0.0,\"#0d0887\"],[0.1111111111111111,\"#46039f\"],[0.2222222222222222,\"#7201a8\"],[0.3333333333333333,\"#9c179e\"],[0.4444444444444444,\"#bd3786\"],[0.5555555555555556,\"#d8576b\"],[0.6666666666666666,\"#ed7953\"],[0.7777777777777778,\"#fb9f3a\"],[0.8888888888888888,\"#fdca26\"],[1.0,\"#f0f921\"]]}],\"heatmapgl\":[{\"type\":\"heatmapgl\",\"colorbar\":{\"outlinewidth\":0,\"ticks\":\"\"},\"colorscale\":[[0.0,\"#0d0887\"],[0.1111111111111111,\"#46039f\"],[0.2222222222222222,\"#7201a8\"],[0.3333333333333333,\"#9c179e\"],[0.4444444444444444,\"#bd3786\"],[0.5555555555555556,\"#d8576b\"],[0.6666666666666666,\"#ed7953\"],[0.7777777777777778,\"#fb9f3a\"],[0.8888888888888888,\"#fdca26\"],[1.0,\"#f0f921\"]]}],\"contourcarpet\":[{\"type\":\"contourcarpet\",\"colorbar\":{\"outlinewidth\":0,\"ticks\":\"\"}}],\"contour\":[{\"type\":\"contour\",\"colorbar\":{\"outlinewidth\":0,\"ticks\":\"\"},\"colorscale\":[[0.0,\"#0d0887\"],[0.1111111111111111,\"#46039f\"],[0.2222222222222222,\"#7201a8\"],[0.3333333333333333,\"#9c179e\"],[0.4444444444444444,\"#bd3786\"],[0.5555555555555556,\"#d8576b\"],[0.6666666666666666,\"#ed7953\"],[0.7777777777777778,\"#fb9f3a\"],[0.8888888888888888,\"#fdca26\"],[1.0,\"#f0f921\"]]}],\"surface\":[{\"type\":\"surface\",\"colorbar\":{\"outlinewidth\":0,\"ticks\":\"\"},\"colorscale\":[[0.0,\"#0d0887\"],[0.1111111111111111,\"#46039f\"],[0.2222222222222222,\"#7201a8\"],[0.3333333333333333,\"#9c179e\"],[0.4444444444444444,\"#bd3786\"],[0.5555555555555556,\"#d8576b\"],[0.6666666666666666,\"#ed7953\"],[0.7777777777777778,\"#fb9f3a\"],[0.8888888888888888,\"#fdca26\"],[1.0,\"#f0f921\"]]}],\"mesh3d\":[{\"type\":\"mesh3d\",\"colorbar\":{\"outlinewidth\":0,\"ticks\":\"\"}}],\"scatter\":[{\"fillpattern\":{\"fillmode\":\"overlay\",\"size\":10,\"solidity\":0.2},\"type\":\"scatter\"}],\"parcoords\":[{\"type\":\"parcoords\",\"line\":{\"colorbar\":{\"outlinewidth\":0,\"ticks\":\"\"}}}],\"scatterpolargl\":[{\"type\":\"scatterpolargl\",\"marker\":{\"colorbar\":{\"outlinewidth\":0,\"ticks\":\"\"}}}],\"bar\":[{\"error_x\":{\"color\":\"#2a3f5f\"},\"error_y\":{\"color\":\"#2a3f5f\"},\"marker\":{\"line\":{\"color\":\"#E5ECF6\",\"width\":0.5},\"pattern\":{\"fillmode\":\"overlay\",\"size\":10,\"solidity\":0.2}},\"type\":\"bar\"}],\"scattergeo\":[{\"type\":\"scattergeo\",\"marker\":{\"colorbar\":{\"outlinewidth\":0,\"ticks\":\"\"}}}],\"scatterpolar\":[{\"type\":\"scatterpolar\",\"marker\":{\"colorbar\":{\"outlinewidth\":0,\"ticks\":\"\"}}}],\"histogram\":[{\"marker\":{\"pattern\":{\"fillmode\":\"overlay\",\"size\":10,\"solidity\":0.2}},\"type\":\"histogram\"}],\"scattergl\":[{\"type\":\"scattergl\",\"marker\":{\"colorbar\":{\"outlinewidth\":0,\"ticks\":\"\"}}}],\"scatter3d\":[{\"type\":\"scatter3d\",\"line\":{\"colorbar\":{\"outlinewidth\":0,\"ticks\":\"\"}},\"marker\":{\"colorbar\":{\"outlinewidth\":0,\"ticks\":\"\"}}}],\"scattermapbox\":[{\"type\":\"scattermapbox\",\"marker\":{\"colorbar\":{\"outlinewidth\":0,\"ticks\":\"\"}}}],\"scatterternary\":[{\"type\":\"scatterternary\",\"marker\":{\"colorbar\":{\"outlinewidth\":0,\"ticks\":\"\"}}}],\"scattercarpet\":[{\"type\":\"scattercarpet\",\"marker\":{\"colorbar\":{\"outlinewidth\":0,\"ticks\":\"\"}}}],\"carpet\":[{\"aaxis\":{\"endlinecolor\":\"#2a3f5f\",\"gridcolor\":\"white\",\"linecolor\":\"white\",\"minorgridcolor\":\"white\",\"startlinecolor\":\"#2a3f5f\"},\"baxis\":{\"endlinecolor\":\"#2a3f5f\",\"gridcolor\":\"white\",\"linecolor\":\"white\",\"minorgridcolor\":\"white\",\"startlinecolor\":\"#2a3f5f\"},\"type\":\"carpet\"}],\"table\":[{\"cells\":{\"fill\":{\"color\":\"#EBF0F8\"},\"line\":{\"color\":\"white\"}},\"header\":{\"fill\":{\"color\":\"#C8D4E3\"},\"line\":{\"color\":\"white\"}},\"type\":\"table\"}],\"barpolar\":[{\"marker\":{\"line\":{\"color\":\"#E5ECF6\",\"width\":0.5},\"pattern\":{\"fillmode\":\"overlay\",\"size\":10,\"solidity\":0.2}},\"type\":\"barpolar\"}],\"pie\":[{\"automargin\":true,\"type\":\"pie\"}]},\"layout\":{\"autotypenumbers\":\"strict\",\"colorway\":[\"#636efa\",\"#EF553B\",\"#00cc96\",\"#ab63fa\",\"#FFA15A\",\"#19d3f3\",\"#FF6692\",\"#B6E880\",\"#FF97FF\",\"#FECB52\"],\"font\":{\"color\":\"#2a3f5f\"},\"hovermode\":\"closest\",\"hoverlabel\":{\"align\":\"left\"},\"paper_bgcolor\":\"white\",\"plot_bgcolor\":\"#E5ECF6\",\"polar\":{\"bgcolor\":\"#E5ECF6\",\"angularaxis\":{\"gridcolor\":\"white\",\"linecolor\":\"white\",\"ticks\":\"\"},\"radialaxis\":{\"gridcolor\":\"white\",\"linecolor\":\"white\",\"ticks\":\"\"}},\"ternary\":{\"bgcolor\":\"#E5ECF6\",\"aaxis\":{\"gridcolor\":\"white\",\"linecolor\":\"white\",\"ticks\":\"\"},\"baxis\":{\"gridcolor\":\"white\",\"linecolor\":\"white\",\"ticks\":\"\"},\"caxis\":{\"gridcolor\":\"white\",\"linecolor\":\"white\",\"ticks\":\"\"}},\"coloraxis\":{\"colorbar\":{\"outlinewidth\":0,\"ticks\":\"\"}},\"colorscale\":{\"sequential\":[[0.0,\"#0d0887\"],[0.1111111111111111,\"#46039f\"],[0.2222222222222222,\"#7201a8\"],[0.3333333333333333,\"#9c179e\"],[0.4444444444444444,\"#bd3786\"],[0.5555555555555556,\"#d8576b\"],[0.6666666666666666,\"#ed7953\"],[0.7777777777777778,\"#fb9f3a\"],[0.8888888888888888,\"#fdca26\"],[1.0,\"#f0f921\"]],\"sequentialminus\":[[0.0,\"#0d0887\"],[0.1111111111111111,\"#46039f\"],[0.2222222222222222,\"#7201a8\"],[0.3333333333333333,\"#9c179e\"],[0.4444444444444444,\"#bd3786\"],[0.5555555555555556,\"#d8576b\"],[0.6666666666666666,\"#ed7953\"],[0.7777777777777778,\"#fb9f3a\"],[0.8888888888888888,\"#fdca26\"],[1.0,\"#f0f921\"]],\"diverging\":[[0,\"#8e0152\"],[0.1,\"#c51b7d\"],[0.2,\"#de77ae\"],[0.3,\"#f1b6da\"],[0.4,\"#fde0ef\"],[0.5,\"#f7f7f7\"],[0.6,\"#e6f5d0\"],[0.7,\"#b8e186\"],[0.8,\"#7fbc41\"],[0.9,\"#4d9221\"],[1,\"#276419\"]]},\"xaxis\":{\"gridcolor\":\"white\",\"linecolor\":\"white\",\"ticks\":\"\",\"title\":{\"standoff\":15},\"zerolinecolor\":\"white\",\"automargin\":true,\"zerolinewidth\":2},\"yaxis\":{\"gridcolor\":\"white\",\"linecolor\":\"white\",\"ticks\":\"\",\"title\":{\"standoff\":15},\"zerolinecolor\":\"white\",\"automargin\":true,\"zerolinewidth\":2},\"scene\":{\"xaxis\":{\"backgroundcolor\":\"#E5ECF6\",\"gridcolor\":\"white\",\"linecolor\":\"white\",\"showbackground\":true,\"ticks\":\"\",\"zerolinecolor\":\"white\",\"gridwidth\":2},\"yaxis\":{\"backgroundcolor\":\"#E5ECF6\",\"gridcolor\":\"white\",\"linecolor\":\"white\",\"showbackground\":true,\"ticks\":\"\",\"zerolinecolor\":\"white\",\"gridwidth\":2},\"zaxis\":{\"backgroundcolor\":\"#E5ECF6\",\"gridcolor\":\"white\",\"linecolor\":\"white\",\"showbackground\":true,\"ticks\":\"\",\"zerolinecolor\":\"white\",\"gridwidth\":2}},\"shapedefaults\":{\"line\":{\"color\":\"#2a3f5f\"}},\"annotationdefaults\":{\"arrowcolor\":\"#2a3f5f\",\"arrowhead\":0,\"arrowwidth\":1},\"geo\":{\"bgcolor\":\"white\",\"landcolor\":\"#E5ECF6\",\"subunitcolor\":\"white\",\"showland\":true,\"showlakes\":true,\"lakecolor\":\"white\"},\"title\":{\"x\":0.05},\"mapbox\":{\"style\":\"light\"}}},\"font\":{\"size\":12},\"title\":{\"text\":\"Original Network - Three Parallel Pathways\"},\"height\":400},                        {\"responsive\": true}                    ).then(function(){\n",
              "                            \n",
              "var gd = document.getElementById('850bde26-8c85-43bd-bbdb-f8ccecac69d1');\n",
              "var x = new MutationObserver(function (mutations, observer) {{\n",
              "        var display = window.getComputedStyle(gd).display;\n",
              "        if (!display || display === 'none') {{\n",
              "            console.log([gd, 'removed!']);\n",
              "            Plotly.purge(gd);\n",
              "            observer.disconnect();\n",
              "        }}\n",
              "}});\n",
              "\n",
              "// Listen for the removal of the full notebook cells\n",
              "var notebookContainer = gd.closest('#notebook-container');\n",
              "if (notebookContainer) {{\n",
              "    x.observe(notebookContainer, {childList: true});\n",
              "}}\n",
              "\n",
              "// Listen for the clearing of the current output cell\n",
              "var outputEl = gd.closest('.output');\n",
              "if (outputEl) {{\n",
              "    x.observe(outputEl, {childList: true});\n",
              "}}\n",
              "\n",
              "                        })                };                });            </script>        </div>"
            ]
          },
          "metadata": {},
          "output_type": "display_data"
        },
        {
          "data": {
            "application/vnd.plotly.v1+json": {
              "config": {
                "plotlyServerURL": "https://plot.ly"
              },
              "data": [
                {
                  "link": {
                    "color": "rgba(150, 150, 150, 0.4)",
                    "source": [
                      0,
                      1
                    ],
                    "target": [
                      1,
                      2
                    ],
                    "value": [
                      102.5,
                      102.5
                    ]
                  },
                  "node": {
                    "color": [
                      "rgba(46, 204, 113, 0.8)",
                      "rgba(52, 152, 219, 0.8)",
                      "rgba(231, 76, 60, 0.8)"
                    ],
                    "label": [
                      "Prawns",
                      "Fish",
                      "Alligators"
                    ],
                    "line": {
                      "color": "black",
                      "width": 0.5
                    },
                    "pad": 15,
                    "thickness": 20
                  },
                  "type": "sankey"
                }
              ],
              "layout": {
                "font": {
                  "size": 12
                },
                "height": 400,
                "template": {
                  "data": {
                    "bar": [
                      {
                        "error_x": {
                          "color": "#2a3f5f"
                        },
                        "error_y": {
                          "color": "#2a3f5f"
                        },
                        "marker": {
                          "line": {
                            "color": "#E5ECF6",
                            "width": 0.5
                          },
                          "pattern": {
                            "fillmode": "overlay",
                            "size": 10,
                            "solidity": 0.2
                          }
                        },
                        "type": "bar"
                      }
                    ],
                    "barpolar": [
                      {
                        "marker": {
                          "line": {
                            "color": "#E5ECF6",
                            "width": 0.5
                          },
                          "pattern": {
                            "fillmode": "overlay",
                            "size": 10,
                            "solidity": 0.2
                          }
                        },
                        "type": "barpolar"
                      }
                    ],
                    "carpet": [
                      {
                        "aaxis": {
                          "endlinecolor": "#2a3f5f",
                          "gridcolor": "white",
                          "linecolor": "white",
                          "minorgridcolor": "white",
                          "startlinecolor": "#2a3f5f"
                        },
                        "baxis": {
                          "endlinecolor": "#2a3f5f",
                          "gridcolor": "white",
                          "linecolor": "white",
                          "minorgridcolor": "white",
                          "startlinecolor": "#2a3f5f"
                        },
                        "type": "carpet"
                      }
                    ],
                    "choropleth": [
                      {
                        "colorbar": {
                          "outlinewidth": 0,
                          "ticks": ""
                        },
                        "type": "choropleth"
                      }
                    ],
                    "contour": [
                      {
                        "colorbar": {
                          "outlinewidth": 0,
                          "ticks": ""
                        },
                        "colorscale": [
                          [
                            0,
                            "#0d0887"
                          ],
                          [
                            0.1111111111111111,
                            "#46039f"
                          ],
                          [
                            0.2222222222222222,
                            "#7201a8"
                          ],
                          [
                            0.3333333333333333,
                            "#9c179e"
                          ],
                          [
                            0.4444444444444444,
                            "#bd3786"
                          ],
                          [
                            0.5555555555555556,
                            "#d8576b"
                          ],
                          [
                            0.6666666666666666,
                            "#ed7953"
                          ],
                          [
                            0.7777777777777778,
                            "#fb9f3a"
                          ],
                          [
                            0.8888888888888888,
                            "#fdca26"
                          ],
                          [
                            1,
                            "#f0f921"
                          ]
                        ],
                        "type": "contour"
                      }
                    ],
                    "contourcarpet": [
                      {
                        "colorbar": {
                          "outlinewidth": 0,
                          "ticks": ""
                        },
                        "type": "contourcarpet"
                      }
                    ],
                    "heatmap": [
                      {
                        "colorbar": {
                          "outlinewidth": 0,
                          "ticks": ""
                        },
                        "colorscale": [
                          [
                            0,
                            "#0d0887"
                          ],
                          [
                            0.1111111111111111,
                            "#46039f"
                          ],
                          [
                            0.2222222222222222,
                            "#7201a8"
                          ],
                          [
                            0.3333333333333333,
                            "#9c179e"
                          ],
                          [
                            0.4444444444444444,
                            "#bd3786"
                          ],
                          [
                            0.5555555555555556,
                            "#d8576b"
                          ],
                          [
                            0.6666666666666666,
                            "#ed7953"
                          ],
                          [
                            0.7777777777777778,
                            "#fb9f3a"
                          ],
                          [
                            0.8888888888888888,
                            "#fdca26"
                          ],
                          [
                            1,
                            "#f0f921"
                          ]
                        ],
                        "type": "heatmap"
                      }
                    ],
                    "heatmapgl": [
                      {
                        "colorbar": {
                          "outlinewidth": 0,
                          "ticks": ""
                        },
                        "colorscale": [
                          [
                            0,
                            "#0d0887"
                          ],
                          [
                            0.1111111111111111,
                            "#46039f"
                          ],
                          [
                            0.2222222222222222,
                            "#7201a8"
                          ],
                          [
                            0.3333333333333333,
                            "#9c179e"
                          ],
                          [
                            0.4444444444444444,
                            "#bd3786"
                          ],
                          [
                            0.5555555555555556,
                            "#d8576b"
                          ],
                          [
                            0.6666666666666666,
                            "#ed7953"
                          ],
                          [
                            0.7777777777777778,
                            "#fb9f3a"
                          ],
                          [
                            0.8888888888888888,
                            "#fdca26"
                          ],
                          [
                            1,
                            "#f0f921"
                          ]
                        ],
                        "type": "heatmapgl"
                      }
                    ],
                    "histogram": [
                      {
                        "marker": {
                          "pattern": {
                            "fillmode": "overlay",
                            "size": 10,
                            "solidity": 0.2
                          }
                        },
                        "type": "histogram"
                      }
                    ],
                    "histogram2d": [
                      {
                        "colorbar": {
                          "outlinewidth": 0,
                          "ticks": ""
                        },
                        "colorscale": [
                          [
                            0,
                            "#0d0887"
                          ],
                          [
                            0.1111111111111111,
                            "#46039f"
                          ],
                          [
                            0.2222222222222222,
                            "#7201a8"
                          ],
                          [
                            0.3333333333333333,
                            "#9c179e"
                          ],
                          [
                            0.4444444444444444,
                            "#bd3786"
                          ],
                          [
                            0.5555555555555556,
                            "#d8576b"
                          ],
                          [
                            0.6666666666666666,
                            "#ed7953"
                          ],
                          [
                            0.7777777777777778,
                            "#fb9f3a"
                          ],
                          [
                            0.8888888888888888,
                            "#fdca26"
                          ],
                          [
                            1,
                            "#f0f921"
                          ]
                        ],
                        "type": "histogram2d"
                      }
                    ],
                    "histogram2dcontour": [
                      {
                        "colorbar": {
                          "outlinewidth": 0,
                          "ticks": ""
                        },
                        "colorscale": [
                          [
                            0,
                            "#0d0887"
                          ],
                          [
                            0.1111111111111111,
                            "#46039f"
                          ],
                          [
                            0.2222222222222222,
                            "#7201a8"
                          ],
                          [
                            0.3333333333333333,
                            "#9c179e"
                          ],
                          [
                            0.4444444444444444,
                            "#bd3786"
                          ],
                          [
                            0.5555555555555556,
                            "#d8576b"
                          ],
                          [
                            0.6666666666666666,
                            "#ed7953"
                          ],
                          [
                            0.7777777777777778,
                            "#fb9f3a"
                          ],
                          [
                            0.8888888888888888,
                            "#fdca26"
                          ],
                          [
                            1,
                            "#f0f921"
                          ]
                        ],
                        "type": "histogram2dcontour"
                      }
                    ],
                    "mesh3d": [
                      {
                        "colorbar": {
                          "outlinewidth": 0,
                          "ticks": ""
                        },
                        "type": "mesh3d"
                      }
                    ],
                    "parcoords": [
                      {
                        "line": {
                          "colorbar": {
                            "outlinewidth": 0,
                            "ticks": ""
                          }
                        },
                        "type": "parcoords"
                      }
                    ],
                    "pie": [
                      {
                        "automargin": true,
                        "type": "pie"
                      }
                    ],
                    "scatter": [
                      {
                        "fillpattern": {
                          "fillmode": "overlay",
                          "size": 10,
                          "solidity": 0.2
                        },
                        "type": "scatter"
                      }
                    ],
                    "scatter3d": [
                      {
                        "line": {
                          "colorbar": {
                            "outlinewidth": 0,
                            "ticks": ""
                          }
                        },
                        "marker": {
                          "colorbar": {
                            "outlinewidth": 0,
                            "ticks": ""
                          }
                        },
                        "type": "scatter3d"
                      }
                    ],
                    "scattercarpet": [
                      {
                        "marker": {
                          "colorbar": {
                            "outlinewidth": 0,
                            "ticks": ""
                          }
                        },
                        "type": "scattercarpet"
                      }
                    ],
                    "scattergeo": [
                      {
                        "marker": {
                          "colorbar": {
                            "outlinewidth": 0,
                            "ticks": ""
                          }
                        },
                        "type": "scattergeo"
                      }
                    ],
                    "scattergl": [
                      {
                        "marker": {
                          "colorbar": {
                            "outlinewidth": 0,
                            "ticks": ""
                          }
                        },
                        "type": "scattergl"
                      }
                    ],
                    "scattermapbox": [
                      {
                        "marker": {
                          "colorbar": {
                            "outlinewidth": 0,
                            "ticks": ""
                          }
                        },
                        "type": "scattermapbox"
                      }
                    ],
                    "scatterpolar": [
                      {
                        "marker": {
                          "colorbar": {
                            "outlinewidth": 0,
                            "ticks": ""
                          }
                        },
                        "type": "scatterpolar"
                      }
                    ],
                    "scatterpolargl": [
                      {
                        "marker": {
                          "colorbar": {
                            "outlinewidth": 0,
                            "ticks": ""
                          }
                        },
                        "type": "scatterpolargl"
                      }
                    ],
                    "scatterternary": [
                      {
                        "marker": {
                          "colorbar": {
                            "outlinewidth": 0,
                            "ticks": ""
                          }
                        },
                        "type": "scatterternary"
                      }
                    ],
                    "surface": [
                      {
                        "colorbar": {
                          "outlinewidth": 0,
                          "ticks": ""
                        },
                        "colorscale": [
                          [
                            0,
                            "#0d0887"
                          ],
                          [
                            0.1111111111111111,
                            "#46039f"
                          ],
                          [
                            0.2222222222222222,
                            "#7201a8"
                          ],
                          [
                            0.3333333333333333,
                            "#9c179e"
                          ],
                          [
                            0.4444444444444444,
                            "#bd3786"
                          ],
                          [
                            0.5555555555555556,
                            "#d8576b"
                          ],
                          [
                            0.6666666666666666,
                            "#ed7953"
                          ],
                          [
                            0.7777777777777778,
                            "#fb9f3a"
                          ],
                          [
                            0.8888888888888888,
                            "#fdca26"
                          ],
                          [
                            1,
                            "#f0f921"
                          ]
                        ],
                        "type": "surface"
                      }
                    ],
                    "table": [
                      {
                        "cells": {
                          "fill": {
                            "color": "#EBF0F8"
                          },
                          "line": {
                            "color": "white"
                          }
                        },
                        "header": {
                          "fill": {
                            "color": "#C8D4E3"
                          },
                          "line": {
                            "color": "white"
                          }
                        },
                        "type": "table"
                      }
                    ]
                  },
                  "layout": {
                    "annotationdefaults": {
                      "arrowcolor": "#2a3f5f",
                      "arrowhead": 0,
                      "arrowwidth": 1
                    },
                    "autotypenumbers": "strict",
                    "coloraxis": {
                      "colorbar": {
                        "outlinewidth": 0,
                        "ticks": ""
                      }
                    },
                    "colorscale": {
                      "diverging": [
                        [
                          0,
                          "#8e0152"
                        ],
                        [
                          0.1,
                          "#c51b7d"
                        ],
                        [
                          0.2,
                          "#de77ae"
                        ],
                        [
                          0.3,
                          "#f1b6da"
                        ],
                        [
                          0.4,
                          "#fde0ef"
                        ],
                        [
                          0.5,
                          "#f7f7f7"
                        ],
                        [
                          0.6,
                          "#e6f5d0"
                        ],
                        [
                          0.7,
                          "#b8e186"
                        ],
                        [
                          0.8,
                          "#7fbc41"
                        ],
                        [
                          0.9,
                          "#4d9221"
                        ],
                        [
                          1,
                          "#276419"
                        ]
                      ],
                      "sequential": [
                        [
                          0,
                          "#0d0887"
                        ],
                        [
                          0.1111111111111111,
                          "#46039f"
                        ],
                        [
                          0.2222222222222222,
                          "#7201a8"
                        ],
                        [
                          0.3333333333333333,
                          "#9c179e"
                        ],
                        [
                          0.4444444444444444,
                          "#bd3786"
                        ],
                        [
                          0.5555555555555556,
                          "#d8576b"
                        ],
                        [
                          0.6666666666666666,
                          "#ed7953"
                        ],
                        [
                          0.7777777777777778,
                          "#fb9f3a"
                        ],
                        [
                          0.8888888888888888,
                          "#fdca26"
                        ],
                        [
                          1,
                          "#f0f921"
                        ]
                      ],
                      "sequentialminus": [
                        [
                          0,
                          "#0d0887"
                        ],
                        [
                          0.1111111111111111,
                          "#46039f"
                        ],
                        [
                          0.2222222222222222,
                          "#7201a8"
                        ],
                        [
                          0.3333333333333333,
                          "#9c179e"
                        ],
                        [
                          0.4444444444444444,
                          "#bd3786"
                        ],
                        [
                          0.5555555555555556,
                          "#d8576b"
                        ],
                        [
                          0.6666666666666666,
                          "#ed7953"
                        ],
                        [
                          0.7777777777777778,
                          "#fb9f3a"
                        ],
                        [
                          0.8888888888888888,
                          "#fdca26"
                        ],
                        [
                          1,
                          "#f0f921"
                        ]
                      ]
                    },
                    "colorway": [
                      "#636efa",
                      "#EF553B",
                      "#00cc96",
                      "#ab63fa",
                      "#FFA15A",
                      "#19d3f3",
                      "#FF6692",
                      "#B6E880",
                      "#FF97FF",
                      "#FECB52"
                    ],
                    "font": {
                      "color": "#2a3f5f"
                    },
                    "geo": {
                      "bgcolor": "white",
                      "lakecolor": "white",
                      "landcolor": "#E5ECF6",
                      "showlakes": true,
                      "showland": true,
                      "subunitcolor": "white"
                    },
                    "hoverlabel": {
                      "align": "left"
                    },
                    "hovermode": "closest",
                    "mapbox": {
                      "style": "light"
                    },
                    "paper_bgcolor": "white",
                    "plot_bgcolor": "#E5ECF6",
                    "polar": {
                      "angularaxis": {
                        "gridcolor": "white",
                        "linecolor": "white",
                        "ticks": ""
                      },
                      "bgcolor": "#E5ECF6",
                      "radialaxis": {
                        "gridcolor": "white",
                        "linecolor": "white",
                        "ticks": ""
                      }
                    },
                    "scene": {
                      "xaxis": {
                        "backgroundcolor": "#E5ECF6",
                        "gridcolor": "white",
                        "gridwidth": 2,
                        "linecolor": "white",
                        "showbackground": true,
                        "ticks": "",
                        "zerolinecolor": "white"
                      },
                      "yaxis": {
                        "backgroundcolor": "#E5ECF6",
                        "gridcolor": "white",
                        "gridwidth": 2,
                        "linecolor": "white",
                        "showbackground": true,
                        "ticks": "",
                        "zerolinecolor": "white"
                      },
                      "zaxis": {
                        "backgroundcolor": "#E5ECF6",
                        "gridcolor": "white",
                        "gridwidth": 2,
                        "linecolor": "white",
                        "showbackground": true,
                        "ticks": "",
                        "zerolinecolor": "white"
                      }
                    },
                    "shapedefaults": {
                      "line": {
                        "color": "#2a3f5f"
                      }
                    },
                    "ternary": {
                      "aaxis": {
                        "gridcolor": "white",
                        "linecolor": "white",
                        "ticks": ""
                      },
                      "baxis": {
                        "gridcolor": "white",
                        "linecolor": "white",
                        "ticks": ""
                      },
                      "bgcolor": "#E5ECF6",
                      "caxis": {
                        "gridcolor": "white",
                        "linecolor": "white",
                        "ticks": ""
                      }
                    },
                    "title": {
                      "x": 0.05
                    },
                    "xaxis": {
                      "automargin": true,
                      "gridcolor": "white",
                      "linecolor": "white",
                      "ticks": "",
                      "title": {
                        "standoff": 15
                      },
                      "zerolinecolor": "white",
                      "zerolinewidth": 2
                    },
                    "yaxis": {
                      "automargin": true,
                      "gridcolor": "white",
                      "linecolor": "white",
                      "ticks": "",
                      "title": {
                        "standoff": 15
                      },
                      "zerolinecolor": "white",
                      "zerolinewidth": 2
                    }
                  }
                },
                "title": {
                  "text": "Efficient-Only Network - Maximum Throughput"
                }
              }
            },
            "image/png": "[encoded data removed]",
            "text/html": [
              "<div>                            <div id=\"0b7fdb4e-576a-4e7d-bcfd-da20560c030e\" class=\"plotly-graph-div\" style=\"height:400px; width:100%;\"></div>            <script type=\"text/javascript\">                require([\"plotly\"], function(Plotly) {                    window.PLOTLYENV=window.PLOTLYENV || {};                                    if (document.getElementById(\"0b7fdb4e-576a-4e7d-bcfd-da20560c030e\")) {                    Plotly.newPlot(                        \"0b7fdb4e-576a-4e7d-bcfd-da20560c030e\",                        [{\"link\":{\"color\":\"rgba(150, 150, 150, 0.4)\",\"source\":[0,1],\"target\":[1,2],\"value\":[102.5,102.5]},\"node\":{\"color\":[\"rgba(46, 204, 113, 0.8)\",\"rgba(52, 152, 219, 0.8)\",\"rgba(231, 76, 60, 0.8)\"],\"label\":[\"Prawns\",\"Fish\",\"Alligators\"],\"line\":{\"color\":\"black\",\"width\":0.5},\"pad\":15,\"thickness\":20},\"type\":\"sankey\"}],                        {\"template\":{\"data\":{\"histogram2dcontour\":[{\"type\":\"histogram2dcontour\",\"colorbar\":{\"outlinewidth\":0,\"ticks\":\"\"},\"colorscale\":[[0.0,\"#0d0887\"],[0.1111111111111111,\"#46039f\"],[0.2222222222222222,\"#7201a8\"],[0.3333333333333333,\"#9c179e\"],[0.4444444444444444,\"#bd3786\"],[0.5555555555555556,\"#d8576b\"],[0.6666666666666666,\"#ed7953\"],[0.7777777777777778,\"#fb9f3a\"],[0.8888888888888888,\"#fdca26\"],[1.0,\"#f0f921\"]]}],\"choropleth\":[{\"type\":\"choropleth\",\"colorbar\":{\"outlinewidth\":0,\"ticks\":\"\"}}],\"histogram2d\":[{\"type\":\"histogram2d\",\"colorbar\":{\"outlinewidth\":0,\"ticks\":\"\"},\"colorscale\":[[0.0,\"#0d0887\"],[0.1111111111111111,\"#46039f\"],[0.2222222222222222,\"#7201a8\"],[0.3333333333333333,\"#9c179e\"],[0.4444444444444444,\"#bd3786\"],[0.5555555555555556,\"#d8576b\"],[0.6666666666666666,\"#ed7953\"],[0.7777777777777778,\"#fb9f3a\"],[0.8888888888888888,\"#fdca26\"],[1.0,\"#f0f921\"]]}],\"heatmap\":[{\"type\":\"heatmap\",\"colorbar\":{\"outlinewidth\":0,\"ticks\":\"\"},\"colorscale\":[[0.0,\"#0d0887\"],[0.1111111111111111,\"#46039f\"],[0.2222222222222222,\"#7201a8\"],[0.3333333333333333,\"#9c179e\"],[0.4444444444444444,\"#bd3786\"],[0.5555555555555556,\"#d8576b\"],[0.6666666666666666,\"#ed7953\"],[0.7777777777777778,\"#fb9f3a\"],[0.8888888888888888,\"#fdca26\"],[1.0,\"#f0f921\"]]}],\"heatmapgl\":[{\"type\":\"heatmapgl\",\"colorbar\":{\"outlinewidth\":0,\"ticks\":\"\"},\"colorscale\":[[0.0,\"#0d0887\"],[0.1111111111111111,\"#46039f\"],[0.2222222222222222,\"#7201a8\"],[0.3333333333333333,\"#9c179e\"],[0.4444444444444444,\"#bd3786\"],[0.5555555555555556,\"#d8576b\"],[0.6666666666666666,\"#ed7953\"],[0.7777777777777778,\"#fb9f3a\"],[0.8888888888888888,\"#fdca26\"],[1.0,\"#f0f921\"]]}],\"contourcarpet\":[{\"type\":\"contourcarpet\",\"colorbar\":{\"outlinewidth\":0,\"ticks\":\"\"}}],\"contour\":[{\"type\":\"contour\",\"colorbar\":{\"outlinewidth\":0,\"ticks\":\"\"},\"colorscale\":[[0.0,\"#0d0887\"],[0.1111111111111111,\"#46039f\"],[0.2222222222222222,\"#7201a8\"],[0.3333333333333333,\"#9c179e\"],[0.4444444444444444,\"#bd3786\"],[0.5555555555555556,\"#d8576b\"],[0.6666666666666666,\"#ed7953\"],[0.7777777777777778,\"#fb9f3a\"],[0.8888888888888888,\"#fdca26\"],[1.0,\"#f0f921\"]]}],\"surface\":[{\"type\":\"surface\",\"colorbar\":{\"outlinewidth\":0,\"ticks\":\"\"},\"colorscale\":[[0.0,\"#0d0887\"],[0.1111111111111111,\"#46039f\"],[0.2222222222222222,\"#7201a8\"],[0.3333333333333333,\"#9c179e\"],[0.4444444444444444,\"#bd3786\"],[0.5555555555555556,\"#d8576b\"],[0.6666666666666666,\"#ed7953\"],[0.7777777777777778,\"#fb9f3a\"],[0.8888888888888888,\"#fdca26\"],[1.0,\"#f0f921\"]]}],\"mesh3d\":[{\"type\":\"mesh3d\",\"colorbar\":{\"outlinewidth\":0,\"ticks\":\"\"}}],\"scatter\":[{\"fillpattern\":{\"fillmode\":\"overlay\",\"size\":10,\"solidity\":0.2},\"type\":\"scatter\"}],\"parcoords\":[{\"type\":\"parcoords\",\"line\":{\"colorbar\":{\"outlinewidth\":0,\"ticks\":\"\"}}}],\"scatterpolargl\":[{\"type\":\"scatterpolargl\",\"marker\":{\"colorbar\":{\"outlinewidth\":0,\"ticks\":\"\"}}}],\"bar\":[{\"error_x\":{\"color\":\"#2a3f5f\"},\"error_y\":{\"color\":\"#2a3f5f\"},\"marker\":{\"line\":{\"color\":\"#E5ECF6\",\"width\":0.5},\"pattern\":{\"fillmode\":\"overlay\",\"size\":10,\"solidity\":0.2}},\"type\":\"bar\"}],\"scattergeo\":[{\"type\":\"scattergeo\",\"marker\":{\"colorbar\":{\"outlinewidth\":0,\"ticks\":\"\"}}}],\"scatterpolar\":[{\"type\":\"scatterpolar\",\"marker\":{\"colorbar\":{\"outlinewidth\":0,\"ticks\":\"\"}}}],\"histogram\":[{\"marker\":{\"pattern\":{\"fillmode\":\"overlay\",\"size\":10,\"solidity\":0.2}},\"type\":\"histogram\"}],\"scattergl\":[{\"type\":\"scattergl\",\"marker\":{\"colorbar\":{\"outlinewidth\":0,\"ticks\":\"\"}}}],\"scatter3d\":[{\"type\":\"scatter3d\",\"line\":{\"colorbar\":{\"outlinewidth\":0,\"ticks\":\"\"}},\"marker\":{\"colorbar\":{\"outlinewidth\":0,\"ticks\":\"\"}}}],\"scattermapbox\":[{\"type\":\"scattermapbox\",\"marker\":{\"colorbar\":{\"outlinewidth\":0,\"ticks\":\"\"}}}],\"scatterternary\":[{\"type\":\"scatterternary\",\"marker\":{\"colorbar\":{\"outlinewidth\":0,\"ticks\":\"\"}}}],\"scattercarpet\":[{\"type\":\"scattercarpet\",\"marker\":{\"colorbar\":{\"outlinewidth\":0,\"ticks\":\"\"}}}],\"carpet\":[{\"aaxis\":{\"endlinecolor\":\"#2a3f5f\",\"gridcolor\":\"white\",\"linecolor\":\"white\",\"minorgridcolor\":\"white\",\"startlinecolor\":\"#2a3f5f\"},\"baxis\":{\"endlinecolor\":\"#2a3f5f\",\"gridcolor\":\"white\",\"linecolor\":\"white\",\"minorgridcolor\":\"white\",\"startlinecolor\":\"#2a3f5f\"},\"type\":\"carpet\"}],\"table\":[{\"cells\":{\"fill\":{\"color\":\"#EBF0F8\"},\"line\":{\"color\":\"white\"}},\"header\":{\"fill\":{\"color\":\"#C8D4E3\"},\"line\":{\"color\":\"white\"}},\"type\":\"table\"}],\"barpolar\":[{\"marker\":{\"line\":{\"color\":\"#E5ECF6\",\"width\":0.5},\"pattern\":{\"fillmode\":\"overlay\",\"size\":10,\"solidity\":0.2}},\"type\":\"barpolar\"}],\"pie\":[{\"automargin\":true,\"type\":\"pie\"}]},\"layout\":{\"autotypenumbers\":\"strict\",\"colorway\":[\"#636efa\",\"#EF553B\",\"#00cc96\",\"#ab63fa\",\"#FFA15A\",\"#19d3f3\",\"#FF6692\",\"#B6E880\",\"#FF97FF\",\"#FECB52\"],\"font\":{\"color\":\"#2a3f5f\"},\"hovermode\":\"closest\",\"hoverlabel\":{\"align\":\"left\"},\"paper_bgcolor\":\"white\",\"plot_bgcolor\":\"#E5ECF6\",\"polar\":{\"bgcolor\":\"#E5ECF6\",\"angularaxis\":{\"gridcolor\":\"white\",\"linecolor\":\"white\",\"ticks\":\"\"},\"radialaxis\":{\"gridcolor\":\"white\",\"linecolor\":\"white\",\"ticks\":\"\"}},\"ternary\":{\"bgcolor\":\"#E5ECF6\",\"aaxis\":{\"gridcolor\":\"white\",\"linecolor\":\"white\",\"ticks\":\"\"},\"baxis\":{\"gridcolor\":\"white\",\"linecolor\":\"white\",\"ticks\":\"\"},\"caxis\":{\"gridcolor\":\"white\",\"linecolor\":\"white\",\"ticks\":\"\"}},\"coloraxis\":{\"colorbar\":{\"outlinewidth\":0,\"ticks\":\"\"}},\"colorscale\":{\"sequential\":[[0.0,\"#0d0887\"],[0.1111111111111111,\"#46039f\"],[0.2222222222222222,\"#7201a8\"],[0.3333333333333333,\"#9c179e\"],[0.4444444444444444,\"#bd3786\"],[0.5555555555555556,\"#d8576b\"],[0.6666666666666666,\"#ed7953\"],[0.7777777777777778,\"#fb9f3a\"],[0.8888888888888888,\"#fdca26\"],[1.0,\"#f0f921\"]],\"sequentialminus\":[[0.0,\"#0d0887\"],[0.1111111111111111,\"#46039f\"],[0.2222222222222222,\"#7201a8\"],[0.3333333333333333,\"#9c179e\"],[0.4444444444444444,\"#bd3786\"],[0.5555555555555556,\"#d8576b\"],[0.6666666666666666,\"#ed7953\"],[0.7777777777777778,\"#fb9f3a\"],[0.8888888888888888,\"#fdca26\"],[1.0,\"#f0f921\"]],\"diverging\":[[0,\"#8e0152\"],[0.1,\"#c51b7d\"],[0.2,\"#de77ae\"],[0.3,\"#f1b6da\"],[0.4,\"#fde0ef\"],[0.5,\"#f7f7f7\"],[0.6,\"#e6f5d0\"],[0.7,\"#b8e186\"],[0.8,\"#7fbc41\"],[0.9,\"#4d9221\"],[1,\"#276419\"]]},\"xaxis\":{\"gridcolor\":\"white\",\"linecolor\":\"white\",\"ticks\":\"\",\"title\":{\"standoff\":15},\"zerolinecolor\":\"white\",\"automargin\":true,\"zerolinewidth\":2},\"yaxis\":{\"gridcolor\":\"white\",\"linecolor\":\"white\",\"ticks\":\"\",\"title\":{\"standoff\":15},\"zerolinecolor\":\"white\",\"automargin\":true,\"zerolinewidth\":2},\"scene\":{\"xaxis\":{\"backgroundcolor\":\"#E5ECF6\",\"gridcolor\":\"white\",\"linecolor\":\"white\",\"showbackground\":true,\"ticks\":\"\",\"zerolinecolor\":\"white\",\"gridwidth\":2},\"yaxis\":{\"backgroundcolor\":\"#E5ECF6\",\"gridcolor\":\"white\",\"linecolor\":\"white\",\"showbackground\":true,\"ticks\":\"\",\"zerolinecolor\":\"white\",\"gridwidth\":2},\"zaxis\":{\"backgroundcolor\":\"#E5ECF6\",\"gridcolor\":\"white\",\"linecolor\":\"white\",\"showbackground\":true,\"ticks\":\"\",\"zerolinecolor\":\"white\",\"gridwidth\":2}},\"shapedefaults\":{\"line\":{\"color\":\"#2a3f5f\"}},\"annotationdefaults\":{\"arrowcolor\":\"#2a3f5f\",\"arrowhead\":0,\"arrowwidth\":1},\"geo\":{\"bgcolor\":\"white\",\"landcolor\":\"#E5ECF6\",\"subunitcolor\":\"white\",\"showland\":true,\"showlakes\":true,\"lakecolor\":\"white\"},\"title\":{\"x\":0.05},\"mapbox\":{\"style\":\"light\"}}},\"font\":{\"size\":12},\"title\":{\"text\":\"Efficient-Only Network - Maximum Throughput\"},\"height\":400},                        {\"responsive\": true}                    ).then(function(){\n",
              "                            \n",
              "var gd = document.getElementById('0b7fdb4e-576a-4e7d-bcfd-da20560c030e');\n",
              "var x = new MutationObserver(function (mutations, observer) {{\n",
              "        var display = window.getComputedStyle(gd).display;\n",
              "        if (!display || display === 'none') {{\n",
              "            console.log([gd, 'removed!']);\n",
              "            Plotly.purge(gd);\n",
              "            observer.disconnect();\n",
              "        }}\n",
              "}});\n",
              "\n",
              "// Listen for the removal of the full notebook cells\n",
              "var notebookContainer = gd.closest('#notebook-container');\n",
              "if (notebookContainer) {{\n",
              "    x.observe(notebookContainer, {childList: true});\n",
              "}}\n",
              "\n",
              "// Listen for the clearing of the current output cell\n",
              "var outputEl = gd.closest('.output');\n",
              "if (outputEl) {{\n",
              "    x.observe(outputEl, {childList: true});\n",
              "}}\n",
              "\n",
              "                        })                };                });            </script>        </div>"
            ]
          },
          "metadata": {},
          "output_type": "display_data"
        },
        {
          "data": {
            "application/vnd.plotly.v1+json": {
              "config": {
                "plotlyServerURL": "https://plot.ly"
              },
              "data": [
                {
                  "link": {
                    "color": "rgba(150, 150, 150, 0.4)",
                    "source": [
                      0,
                      0,
                      1,
                      2
                    ],
                    "target": [
                      1,
                      2,
                      3,
                      3
                    ],
                    "value": [
                      74.3,
                      16.1,
                      7.2,
                      2.06
                    ]
                  },
                  "node": {
                    "color": [
                      "rgba(46, 204, 113, 0.8)",
                      "rgba(155, 89, 182, 0.8)",
                      "rgba(241, 196, 15, 0.8)",
                      "rgba(231, 76, 60, 0.8)"
                    ],
                    "label": [
                      "Prawns",
                      "Turtles",
                      "Snakes",
                      "Alligators"
                    ],
                    "line": {
                      "color": "black",
                      "width": 0.5
                    },
                    "pad": 15,
                    "thickness": 20
                  },
                  "type": "sankey"
                }
              ],
              "layout": {
                "font": {
                  "size": 12
                },
                "height": 400,
                "template": {
                  "data": {
                    "bar": [
                      {
                        "error_x": {
                          "color": "#2a3f5f"
                        },
                        "error_y": {
                          "color": "#2a3f5f"
                        },
                        "marker": {
                          "line": {
                            "color": "#E5ECF6",
                            "width": 0.5
                          },
                          "pattern": {
                            "fillmode": "overlay",
                            "size": 10,
                            "solidity": 0.2
                          }
                        },
                        "type": "bar"
                      }
                    ],
                    "barpolar": [
                      {
                        "marker": {
                          "line": {
                            "color": "#E5ECF6",
                            "width": 0.5
                          },
                          "pattern": {
                            "fillmode": "overlay",
                            "size": 10,
                            "solidity": 0.2
                          }
                        },
                        "type": "barpolar"
                      }
                    ],
                    "carpet": [
                      {
                        "aaxis": {
                          "endlinecolor": "#2a3f5f",
                          "gridcolor": "white",
                          "linecolor": "white",
                          "minorgridcolor": "white",
                          "startlinecolor": "#2a3f5f"
                        },
                        "baxis": {
                          "endlinecolor": "#2a3f5f",
                          "gridcolor": "white",
                          "linecolor": "white",
                          "minorgridcolor": "white",
                          "startlinecolor": "#2a3f5f"
                        },
                        "type": "carpet"
                      }
                    ],
                    "choropleth": [
                      {
                        "colorbar": {
                          "outlinewidth": 0,
                          "ticks": ""
                        },
                        "type": "choropleth"
                      }
                    ],
                    "contour": [
                      {
                        "colorbar": {
                          "outlinewidth": 0,
                          "ticks": ""
                        },
                        "colorscale": [
                          [
                            0,
                            "#0d0887"
                          ],
                          [
                            0.1111111111111111,
                            "#46039f"
                          ],
                          [
                            0.2222222222222222,
                            "#7201a8"
                          ],
                          [
                            0.3333333333333333,
                            "#9c179e"
                          ],
                          [
                            0.4444444444444444,
                            "#bd3786"
                          ],
                          [
                            0.5555555555555556,
                            "#d8576b"
                          ],
                          [
                            0.6666666666666666,
                            "#ed7953"
                          ],
                          [
                            0.7777777777777778,
                            "#fb9f3a"
                          ],
                          [
                            0.8888888888888888,
                            "#fdca26"
                          ],
                          [
                            1,
                            "#f0f921"
                          ]
                        ],
                        "type": "contour"
                      }
                    ],
                    "contourcarpet": [
                      {
                        "colorbar": {
                          "outlinewidth": 0,
                          "ticks": ""
                        },
                        "type": "contourcarpet"
                      }
                    ],
                    "heatmap": [
                      {
                        "colorbar": {
                          "outlinewidth": 0,
                          "ticks": ""
                        },
                        "colorscale": [
                          [
                            0,
                            "#0d0887"
                          ],
                          [
                            0.1111111111111111,
                            "#46039f"
                          ],
                          [
                            0.2222222222222222,
                            "#7201a8"
                          ],
                          [
                            0.3333333333333333,
                            "#9c179e"
                          ],
                          [
                            0.4444444444444444,
                            "#bd3786"
                          ],
                          [
                            0.5555555555555556,
                            "#d8576b"
                          ],
                          [
                            0.6666666666666666,
                            "#ed7953"
                          ],
                          [
                            0.7777777777777778,
                            "#fb9f3a"
                          ],
                          [
                            0.8888888888888888,
                            "#fdca26"
                          ],
                          [
                            1,
                            "#f0f921"
                          ]
                        ],
                        "type": "heatmap"
                      }
                    ],
                    "heatmapgl": [
                      {
                        "colorbar": {
                          "outlinewidth": 0,
                          "ticks": ""
                        },
                        "colorscale": [
                          [
                            0,
                            "#0d0887"
                          ],
                          [
                            0.1111111111111111,
                            "#46039f"
                          ],
                          [
                            0.2222222222222222,
                            "#7201a8"
                          ],
                          [
                            0.3333333333333333,
                            "#9c179e"
                          ],
                          [
                            0.4444444444444444,
                            "#bd3786"
                          ],
                          [
                            0.5555555555555556,
                            "#d8576b"
                          ],
                          [
                            0.6666666666666666,
                            "#ed7953"
                          ],
                          [
                            0.7777777777777778,
                            "#fb9f3a"
                          ],
                          [
                            0.8888888888888888,
                            "#fdca26"
                          ],
                          [
                            1,
                            "#f0f921"
                          ]
                        ],
                        "type": "heatmapgl"
                      }
                    ],
                    "histogram": [
                      {
                        "marker": {
                          "pattern": {
                            "fillmode": "overlay",
                            "size": 10,
                            "solidity": 0.2
                          }
                        },
                        "type": "histogram"
                      }
                    ],
                    "histogram2d": [
                      {
                        "colorbar": {
                          "outlinewidth": 0,
                          "ticks": ""
                        },
                        "colorscale": [
                          [
                            0,
                            "#0d0887"
                          ],
                          [
                            0.1111111111111111,
                            "#46039f"
                          ],
                          [
                            0.2222222222222222,
                            "#7201a8"
                          ],
                          [
                            0.3333333333333333,
                            "#9c179e"
                          ],
                          [
                            0.4444444444444444,
                            "#bd3786"
                          ],
                          [
                            0.5555555555555556,
                            "#d8576b"
                          ],
                          [
                            0.6666666666666666,
                            "#ed7953"
                          ],
                          [
                            0.7777777777777778,
                            "#fb9f3a"
                          ],
                          [
                            0.8888888888888888,
                            "#fdca26"
                          ],
                          [
                            1,
                            "#f0f921"
                          ]
                        ],
                        "type": "histogram2d"
                      }
                    ],
                    "histogram2dcontour": [
                      {
                        "colorbar": {
                          "outlinewidth": 0,
                          "ticks": ""
                        },
                        "colorscale": [
                          [
                            0,
                            "#0d0887"
                          ],
                          [
                            0.1111111111111111,
                            "#46039f"
                          ],
                          [
                            0.2222222222222222,
                            "#7201a8"
                          ],
                          [
                            0.3333333333333333,
                            "#9c179e"
                          ],
                          [
                            0.4444444444444444,
                            "#bd3786"
                          ],
                          [
                            0.5555555555555556,
                            "#d8576b"
                          ],
                          [
                            0.6666666666666666,
                            "#ed7953"
                          ],
                          [
                            0.7777777777777778,
                            "#fb9f3a"
                          ],
                          [
                            0.8888888888888888,
                            "#fdca26"
                          ],
                          [
                            1,
                            "#f0f921"
                          ]
                        ],
                        "type": "histogram2dcontour"
                      }
                    ],
                    "mesh3d": [
                      {
                        "colorbar": {
                          "outlinewidth": 0,
                          "ticks": ""
                        },
                        "type": "mesh3d"
                      }
                    ],
                    "parcoords": [
                      {
                        "line": {
                          "colorbar": {
                            "outlinewidth": 0,
                            "ticks": ""
                          }
                        },
                        "type": "parcoords"
                      }
                    ],
                    "pie": [
                      {
                        "automargin": true,
                        "type": "pie"
                      }
                    ],
                    "scatter": [
                      {
                        "fillpattern": {
                          "fillmode": "overlay",
                          "size": 10,
                          "solidity": 0.2
                        },
                        "type": "scatter"
                      }
                    ],
                    "scatter3d": [
                      {
                        "line": {
                          "colorbar": {
                            "outlinewidth": 0,
                            "ticks": ""
                          }
                        },
                        "marker": {
                          "colorbar": {
                            "outlinewidth": 0,
                            "ticks": ""
                          }
                        },
                        "type": "scatter3d"
                      }
                    ],
                    "scattercarpet": [
                      {
                        "marker": {
                          "colorbar": {
                            "outlinewidth": 0,
                            "ticks": ""
                          }
                        },
                        "type": "scattercarpet"
                      }
                    ],
                    "scattergeo": [
                      {
                        "marker": {
                          "colorbar": {
                            "outlinewidth": 0,
                            "ticks": ""
                          }
                        },
                        "type": "scattergeo"
                      }
                    ],
                    "scattergl": [
                      {
                        "marker": {
                          "colorbar": {
                            "outlinewidth": 0,
                            "ticks": ""
                          }
                        },
                        "type": "scattergl"
                      }
                    ],
                    "scattermapbox": [
                      {
                        "marker": {
                          "colorbar": {
                            "outlinewidth": 0,
                            "ticks": ""
                          }
                        },
                        "type": "scattermapbox"
                      }
                    ],
                    "scatterpolar": [
                      {
                        "marker": {
                          "colorbar": {
                            "outlinewidth": 0,
                            "ticks": ""
                          }
                        },
                        "type": "scatterpolar"
                      }
                    ],
                    "scatterpolargl": [
                      {
                        "marker": {
                          "colorbar": {
                            "outlinewidth": 0,
                            "ticks": ""
                          }
                        },
                        "type": "scatterpolargl"
                      }
                    ],
                    "scatterternary": [
                      {
                        "marker": {
                          "colorbar": {
                            "outlinewidth": 0,
                            "ticks": ""
                          }
                        },
                        "type": "scatterternary"
                      }
                    ],
                    "surface": [
                      {
                        "colorbar": {
                          "outlinewidth": 0,
                          "ticks": ""
                        },
                        "colorscale": [
                          [
                            0,
                            "#0d0887"
                          ],
                          [
                            0.1111111111111111,
                            "#46039f"
                          ],
                          [
                            0.2222222222222222,
                            "#7201a8"
                          ],
                          [
                            0.3333333333333333,
                            "#9c179e"
                          ],
                          [
                            0.4444444444444444,
                            "#bd3786"
                          ],
                          [
                            0.5555555555555556,
                            "#d8576b"
                          ],
                          [
                            0.6666666666666666,
                            "#ed7953"
                          ],
                          [
                            0.7777777777777778,
                            "#fb9f3a"
                          ],
                          [
                            0.8888888888888888,
                            "#fdca26"
                          ],
                          [
                            1,
                            "#f0f921"
                          ]
                        ],
                        "type": "surface"
                      }
                    ],
                    "table": [
                      {
                        "cells": {
                          "fill": {
                            "color": "#EBF0F8"
                          },
                          "line": {
                            "color": "white"
                          }
                        },
                        "header": {
                          "fill": {
                            "color": "#C8D4E3"
                          },
                          "line": {
                            "color": "white"
                          }
                        },
                        "type": "table"
                      }
                    ]
                  },
                  "layout": {
                    "annotationdefaults": {
                      "arrowcolor": "#2a3f5f",
                      "arrowhead": 0,
                      "arrowwidth": 1
                    },
                    "autotypenumbers": "strict",
                    "coloraxis": {
                      "colorbar": {
                        "outlinewidth": 0,
                        "ticks": ""
                      }
                    },
                    "colorscale": {
                      "diverging": [
                        [
                          0,
                          "#8e0152"
                        ],
                        [
                          0.1,
                          "#c51b7d"
                        ],
                        [
                          0.2,
                          "#de77ae"
                        ],
                        [
                          0.3,
                          "#f1b6da"
                        ],
                        [
                          0.4,
                          "#fde0ef"
                        ],
                        [
                          0.5,
                          "#f7f7f7"
                        ],
                        [
                          0.6,
                          "#e6f5d0"
                        ],
                        [
                          0.7,
                          "#b8e186"
                        ],
                        [
                          0.8,
                          "#7fbc41"
                        ],
                        [
                          0.9,
                          "#4d9221"
                        ],
                        [
                          1,
                          "#276419"
                        ]
                      ],
                      "sequential": [
                        [
                          0,
                          "#0d0887"
                        ],
                        [
                          0.1111111111111111,
                          "#46039f"
                        ],
                        [
                          0.2222222222222222,
                          "#7201a8"
                        ],
                        [
                          0.3333333333333333,
                          "#9c179e"
                        ],
                        [
                          0.4444444444444444,
                          "#bd3786"
                        ],
                        [
                          0.5555555555555556,
                          "#d8576b"
                        ],
                        [
                          0.6666666666666666,
                          "#ed7953"
                        ],
                        [
                          0.7777777777777778,
                          "#fb9f3a"
                        ],
                        [
                          0.8888888888888888,
                          "#fdca26"
                        ],
                        [
                          1,
                          "#f0f921"
                        ]
                      ],
                      "sequentialminus": [
                        [
                          0,
                          "#0d0887"
                        ],
                        [
                          0.1111111111111111,
                          "#46039f"
                        ],
                        [
                          0.2222222222222222,
                          "#7201a8"
                        ],
                        [
                          0.3333333333333333,
                          "#9c179e"
                        ],
                        [
                          0.4444444444444444,
                          "#bd3786"
                        ],
                        [
                          0.5555555555555556,
                          "#d8576b"
                        ],
                        [
                          0.6666666666666666,
                          "#ed7953"
                        ],
                        [
                          0.7777777777777778,
                          "#fb9f3a"
                        ],
                        [
                          0.8888888888888888,
                          "#fdca26"
                        ],
                        [
                          1,
                          "#f0f921"
                        ]
                      ]
                    },
                    "colorway": [
                      "#636efa",
                      "#EF553B",
                      "#00cc96",
                      "#ab63fa",
                      "#FFA15A",
                      "#19d3f3",
                      "#FF6692",
                      "#B6E880",
                      "#FF97FF",
                      "#FECB52"
                    ],
                    "font": {
                      "color": "#2a3f5f"
                    },
                    "geo": {
                      "bgcolor": "white",
                      "lakecolor": "white",
                      "landcolor": "#E5ECF6",
                      "showlakes": true,
                      "showland": true,
                      "subunitcolor": "white"
                    },
                    "hoverlabel": {
                      "align": "left"
                    },
                    "hovermode": "closest",
                    "mapbox": {
                      "style": "light"
                    },
                    "paper_bgcolor": "white",
                    "plot_bgcolor": "#E5ECF6",
                    "polar": {
                      "angularaxis": {
                        "gridcolor": "white",
                        "linecolor": "white",
                        "ticks": ""
                      },
                      "bgcolor": "#E5ECF6",
                      "radialaxis": {
                        "gridcolor": "white",
                        "linecolor": "white",
                        "ticks": ""
                      }
                    },
                    "scene": {
                      "xaxis": {
                        "backgroundcolor": "#E5ECF6",
                        "gridcolor": "white",
                        "gridwidth": 2,
                        "linecolor": "white",
                        "showbackground": true,
                        "ticks": "",
                        "zerolinecolor": "white"
                      },
                      "yaxis": {
                        "backgroundcolor": "#E5ECF6",
                        "gridcolor": "white",
                        "gridwidth": 2,
                        "linecolor": "white",
                        "showbackground": true,
                        "ticks": "",
                        "zerolinecolor": "white"
                      },
                      "zaxis": {
                        "backgroundcolor": "#E5ECF6",
                        "gridcolor": "white",
                        "gridwidth": 2,
                        "linecolor": "white",
                        "showbackground": true,
                        "ticks": "",
                        "zerolinecolor": "white"
                      }
                    },
                    "shapedefaults": {
                      "line": {
                        "color": "#2a3f5f"
                      }
                    },
                    "ternary": {
                      "aaxis": {
                        "gridcolor": "white",
                        "linecolor": "white",
                        "ticks": ""
                      },
                      "baxis": {
                        "gridcolor": "white",
                        "linecolor": "white",
                        "ticks": ""
                      },
                      "bgcolor": "#E5ECF6",
                      "caxis": {
                        "gridcolor": "white",
                        "linecolor": "white",
                        "ticks": ""
                      }
                    },
                    "title": {
                      "x": 0.05
                    },
                    "xaxis": {
                      "automargin": true,
                      "gridcolor": "white",
                      "linecolor": "white",
                      "ticks": "",
                      "title": {
                        "standoff": 15
                      },
                      "zerolinecolor": "white",
                      "zerolinewidth": 2
                    },
                    "yaxis": {
                      "automargin": true,
                      "gridcolor": "white",
                      "linecolor": "white",
                      "ticks": "",
                      "title": {
                        "standoff": 15
                      },
                      "zerolinecolor": "white",
                      "zerolinewidth": 2
                    }
                  }
                },
                "title": {
                  "text": "Adapted Network - System After Fish Loss"
                }
              }
            },
            "image/png": "[encoded data removed]",
            "text/html": [
              "<div>                            <div id=\"6aecc79f-6a72-41cc-9e0f-f3862333f66e\" class=\"plotly-graph-div\" style=\"height:400px; width:100%;\"></div>            <script type=\"text/javascript\">                require([\"plotly\"], function(Plotly) {                    window.PLOTLYENV=window.PLOTLYENV || {};                                    if (document.getElementById(\"6aecc79f-6a72-41cc-9e0f-f3862333f66e\")) {                    Plotly.newPlot(                        \"6aecc79f-6a72-41cc-9e0f-f3862333f66e\",                        [{\"link\":{\"color\":\"rgba(150, 150, 150, 0.4)\",\"source\":[0,0,1,2],\"target\":[1,2,3,3],\"value\":[74.3,16.1,7.2,2.06]},\"node\":{\"color\":[\"rgba(46, 204, 113, 0.8)\",\"rgba(155, 89, 182, 0.8)\",\"rgba(241, 196, 15, 0.8)\",\"rgba(231, 76, 60, 0.8)\"],\"label\":[\"Prawns\",\"Turtles\",\"Snakes\",\"Alligators\"],\"line\":{\"color\":\"black\",\"width\":0.5},\"pad\":15,\"thickness\":20},\"type\":\"sankey\"}],                        {\"template\":{\"data\":{\"histogram2dcontour\":[{\"type\":\"histogram2dcontour\",\"colorbar\":{\"outlinewidth\":0,\"ticks\":\"\"},\"colorscale\":[[0.0,\"#0d0887\"],[0.1111111111111111,\"#46039f\"],[0.2222222222222222,\"#7201a8\"],[0.3333333333333333,\"#9c179e\"],[0.4444444444444444,\"#bd3786\"],[0.5555555555555556,\"#d8576b\"],[0.6666666666666666,\"#ed7953\"],[0.7777777777777778,\"#fb9f3a\"],[0.8888888888888888,\"#fdca26\"],[1.0,\"#f0f921\"]]}],\"choropleth\":[{\"type\":\"choropleth\",\"colorbar\":{\"outlinewidth\":0,\"ticks\":\"\"}}],\"histogram2d\":[{\"type\":\"histogram2d\",\"colorbar\":{\"outlinewidth\":0,\"ticks\":\"\"},\"colorscale\":[[0.0,\"#0d0887\"],[0.1111111111111111,\"#46039f\"],[0.2222222222222222,\"#7201a8\"],[0.3333333333333333,\"#9c179e\"],[0.4444444444444444,\"#bd3786\"],[0.5555555555555556,\"#d8576b\"],[0.6666666666666666,\"#ed7953\"],[0.7777777777777778,\"#fb9f3a\"],[0.8888888888888888,\"#fdca26\"],[1.0,\"#f0f921\"]]}],\"heatmap\":[{\"type\":\"heatmap\",\"colorbar\":{\"outlinewidth\":0,\"ticks\":\"\"},\"colorscale\":[[0.0,\"#0d0887\"],[0.1111111111111111,\"#46039f\"],[0.2222222222222222,\"#7201a8\"],[0.3333333333333333,\"#9c179e\"],[0.4444444444444444,\"#bd3786\"],[0.5555555555555556,\"#d8576b\"],[0.6666666666666666,\"#ed7953\"],[0.7777777777777778,\"#fb9f3a\"],[0.8888888888888888,\"#fdca26\"],[1.0,\"#f0f921\"]]}],\"heatmapgl\":[{\"type\":\"heatmapgl\",\"colorbar\":{\"outlinewidth\":0,\"ticks\":\"\"},\"colorscale\":[[0.0,\"#0d0887\"],[0.1111111111111111,\"#46039f\"],[0.2222222222222222,\"#7201a8\"],[0.3333333333333333,\"#9c179e\"],[0.4444444444444444,\"#bd3786\"],[0.5555555555555556,\"#d8576b\"],[0.6666666666666666,\"#ed7953\"],[0.7777777777777778,\"#fb9f3a\"],[0.8888888888888888,\"#fdca26\"],[1.0,\"#f0f921\"]]}],\"contourcarpet\":[{\"type\":\"contourcarpet\",\"colorbar\":{\"outlinewidth\":0,\"ticks\":\"\"}}],\"contour\":[{\"type\":\"contour\",\"colorbar\":{\"outlinewidth\":0,\"ticks\":\"\"},\"colorscale\":[[0.0,\"#0d0887\"],[0.1111111111111111,\"#46039f\"],[0.2222222222222222,\"#7201a8\"],[0.3333333333333333,\"#9c179e\"],[0.4444444444444444,\"#bd3786\"],[0.5555555555555556,\"#d8576b\"],[0.6666666666666666,\"#ed7953\"],[0.7777777777777778,\"#fb9f3a\"],[0.8888888888888888,\"#fdca26\"],[1.0,\"#f0f921\"]]}],\"surface\":[{\"type\":\"surface\",\"colorbar\":{\"outlinewidth\":0,\"ticks\":\"\"},\"colorscale\":[[0.0,\"#0d0887\"],[0.1111111111111111,\"#46039f\"],[0.2222222222222222,\"#7201a8\"],[0.3333333333333333,\"#9c179e\"],[0.4444444444444444,\"#bd3786\"],[0.5555555555555556,\"#d8576b\"],[0.6666666666666666,\"#ed7953\"],[0.7777777777777778,\"#fb9f3a\"],[0.8888888888888888,\"#fdca26\"],[1.0,\"#f0f921\"]]}],\"mesh3d\":[{\"type\":\"mesh3d\",\"colorbar\":{\"outlinewidth\":0,\"ticks\":\"\"}}],\"scatter\":[{\"fillpattern\":{\"fillmode\":\"overlay\",\"size\":10,\"solidity\":0.2},\"type\":\"scatter\"}],\"parcoords\":[{\"type\":\"parcoords\",\"line\":{\"colorbar\":{\"outlinewidth\":0,\"ticks\":\"\"}}}],\"scatterpolargl\":[{\"type\":\"scatterpolargl\",\"marker\":{\"colorbar\":{\"outlinewidth\":0,\"ticks\":\"\"}}}],\"bar\":[{\"error_x\":{\"color\":\"#2a3f5f\"},\"error_y\":{\"color\":\"#2a3f5f\"},\"marker\":{\"line\":{\"color\":\"#E5ECF6\",\"width\":0.5},\"pattern\":{\"fillmode\":\"overlay\",\"size\":10,\"solidity\":0.2}},\"type\":\"bar\"}],\"scattergeo\":[{\"type\":\"scattergeo\",\"marker\":{\"colorbar\":{\"outlinewidth\":0,\"ticks\":\"\"}}}],\"scatterpolar\":[{\"type\":\"scatterpolar\",\"marker\":{\"colorbar\":{\"outlinewidth\":0,\"ticks\":\"\"}}}],\"histogram\":[{\"marker\":{\"pattern\":{\"fillmode\":\"overlay\",\"size\":10,\"solidity\":0.2}},\"type\":\"histogram\"}],\"scattergl\":[{\"type\":\"scattergl\",\"marker\":{\"colorbar\":{\"outlinewidth\":0,\"ticks\":\"\"}}}],\"scatter3d\":[{\"type\":\"scatter3d\",\"line\":{\"colorbar\":{\"outlinewidth\":0,\"ticks\":\"\"}},\"marker\":{\"colorbar\":{\"outlinewidth\":0,\"ticks\":\"\"}}}],\"scattermapbox\":[{\"type\":\"scattermapbox\",\"marker\":{\"colorbar\":{\"outlinewidth\":0,\"ticks\":\"\"}}}],\"scatterternary\":[{\"type\":\"scatterternary\",\"marker\":{\"colorbar\":{\"outlinewidth\":0,\"ticks\":\"\"}}}],\"scattercarpet\":[{\"type\":\"scattercarpet\",\"marker\":{\"colorbar\":{\"outlinewidth\":0,\"ticks\":\"\"}}}],\"carpet\":[{\"aaxis\":{\"endlinecolor\":\"#2a3f5f\",\"gridcolor\":\"white\",\"linecolor\":\"white\",\"minorgridcolor\":\"white\",\"startlinecolor\":\"#2a3f5f\"},\"baxis\":{\"endlinecolor\":\"#2a3f5f\",\"gridcolor\":\"white\",\"linecolor\":\"white\",\"minorgridcolor\":\"white\",\"startlinecolor\":\"#2a3f5f\"},\"type\":\"carpet\"}],\"table\":[{\"cells\":{\"fill\":{\"color\":\"#EBF0F8\"},\"line\":{\"color\":\"white\"}},\"header\":{\"fill\":{\"color\":\"#C8D4E3\"},\"line\":{\"color\":\"white\"}},\"type\":\"table\"}],\"barpolar\":[{\"marker\":{\"line\":{\"color\":\"#E5ECF6\",\"width\":0.5},\"pattern\":{\"fillmode\":\"overlay\",\"size\":10,\"solidity\":0.2}},\"type\":\"barpolar\"}],\"pie\":[{\"automargin\":true,\"type\":\"pie\"}]},\"layout\":{\"autotypenumbers\":\"strict\",\"colorway\":[\"#636efa\",\"#EF553B\",\"#00cc96\",\"#ab63fa\",\"#FFA15A\",\"#19d3f3\",\"#FF6692\",\"#B6E880\",\"#FF97FF\",\"#FECB52\"],\"font\":{\"color\":\"#2a3f5f\"},\"hovermode\":\"closest\",\"hoverlabel\":{\"align\":\"left\"},\"paper_bgcolor\":\"white\",\"plot_bgcolor\":\"#E5ECF6\",\"polar\":{\"bgcolor\":\"#E5ECF6\",\"angularaxis\":{\"gridcolor\":\"white\",\"linecolor\":\"white\",\"ticks\":\"\"},\"radialaxis\":{\"gridcolor\":\"white\",\"linecolor\":\"white\",\"ticks\":\"\"}},\"ternary\":{\"bgcolor\":\"#E5ECF6\",\"aaxis\":{\"gridcolor\":\"white\",\"linecolor\":\"white\",\"ticks\":\"\"},\"baxis\":{\"gridcolor\":\"white\",\"linecolor\":\"white\",\"ticks\":\"\"},\"caxis\":{\"gridcolor\":\"white\",\"linecolor\":\"white\",\"ticks\":\"\"}},\"coloraxis\":{\"colorbar\":{\"outlinewidth\":0,\"ticks\":\"\"}},\"colorscale\":{\"sequential\":[[0.0,\"#0d0887\"],[0.1111111111111111,\"#46039f\"],[0.2222222222222222,\"#7201a8\"],[0.3333333333333333,\"#9c179e\"],[0.4444444444444444,\"#bd3786\"],[0.5555555555555556,\"#d8576b\"],[0.6666666666666666,\"#ed7953\"],[0.7777777777777778,\"#fb9f3a\"],[0.8888888888888888,\"#fdca26\"],[1.0,\"#f0f921\"]],\"sequentialminus\":[[0.0,\"#0d0887\"],[0.1111111111111111,\"#46039f\"],[0.2222222222222222,\"#7201a8\"],[0.3333333333333333,\"#9c179e\"],[0.4444444444444444,\"#bd3786\"],[0.5555555555555556,\"#d8576b\"],[0.6666666666666666,\"#ed7953\"],[0.7777777777777778,\"#fb9f3a\"],[0.8888888888888888,\"#fdca26\"],[1.0,\"#f0f921\"]],\"diverging\":[[0,\"#8e0152\"],[0.1,\"#c51b7d\"],[0.2,\"#de77ae\"],[0.3,\"#f1b6da\"],[0.4,\"#fde0ef\"],[0.5,\"#f7f7f7\"],[0.6,\"#e6f5d0\"],[0.7,\"#b8e186\"],[0.8,\"#7fbc41\"],[0.9,\"#4d9221\"],[1,\"#276419\"]]},\"xaxis\":{\"gridcolor\":\"white\",\"linecolor\":\"white\",\"ticks\":\"\",\"title\":{\"standoff\":15},\"zerolinecolor\":\"white\",\"automargin\":true,\"zerolinewidth\":2},\"yaxis\":{\"gridcolor\":\"white\",\"linecolor\":\"white\",\"ticks\":\"\",\"title\":{\"standoff\":15},\"zerolinecolor\":\"white\",\"automargin\":true,\"zerolinewidth\":2},\"scene\":{\"xaxis\":{\"backgroundcolor\":\"#E5ECF6\",\"gridcolor\":\"white\",\"linecolor\":\"white\",\"showbackground\":true,\"ticks\":\"\",\"zerolinecolor\":\"white\",\"gridwidth\":2},\"yaxis\":{\"backgroundcolor\":\"#E5ECF6\",\"gridcolor\":\"white\",\"linecolor\":\"white\",\"showbackground\":true,\"ticks\":\"\",\"zerolinecolor\":\"white\",\"gridwidth\":2},\"zaxis\":{\"backgroundcolor\":\"#E5ECF6\",\"gridcolor\":\"white\",\"linecolor\":\"white\",\"showbackground\":true,\"ticks\":\"\",\"zerolinecolor\":\"white\",\"gridwidth\":2}},\"shapedefaults\":{\"line\":{\"color\":\"#2a3f5f\"}},\"annotationdefaults\":{\"arrowcolor\":\"#2a3f5f\",\"arrowhead\":0,\"arrowwidth\":1},\"geo\":{\"bgcolor\":\"white\",\"landcolor\":\"#E5ECF6\",\"subunitcolor\":\"white\",\"showland\":true,\"showlakes\":true,\"lakecolor\":\"white\"},\"title\":{\"x\":0.05},\"mapbox\":{\"style\":\"light\"}}},\"font\":{\"size\":12},\"title\":{\"text\":\"Adapted Network - System After Fish Loss\"},\"height\":400},                        {\"responsive\": true}                    ).then(function(){\n",
              "                            \n",
              "var gd = document.getElementById('6aecc79f-6a72-41cc-9e0f-f3862333f66e');\n",
              "var x = new MutationObserver(function (mutations, observer) {{\n",
              "        var display = window.getComputedStyle(gd).display;\n",
              "        if (!display || display === 'none') {{\n",
              "            console.log([gd, 'removed!']);\n",
              "            Plotly.purge(gd);\n",
              "            observer.disconnect();\n",
              "        }}\n",
              "}});\n",
              "\n",
              "// Listen for the removal of the full notebook cells\n",
              "var notebookContainer = gd.closest('#notebook-container');\n",
              "if (notebookContainer) {{\n",
              "    x.observe(notebookContainer, {childList: true});\n",
              "}}\n",
              "\n",
              "// Listen for the clearing of the current output cell\n",
              "var outputEl = gd.closest('.output');\n",
              "if (outputEl) {{\n",
              "    x.observe(outputEl, {childList: true});\n",
              "}}\n",
              "\n",
              "                        })                };                });            </script>        </div>"
            ]
          },
          "metadata": {},
          "output_type": "display_data"
        }
      ],
      "source": [
        "def create_sankey(data, title):\n",
        "    \"\"\"Create Sankey diagram for a network.\"\"\"\n",
        "    flows = np.array(data['flows'])\n",
        "    nodes = data['nodes']\n",
        "    \n",
        "    # Prepare data for Sankey\n",
        "    source = []\n",
        "    target = []\n",
        "    value = []\n",
        "    \n",
        "    for i in range(len(flows)):\n",
        "        for j in range(len(flows)):\n",
        "            if flows[i, j] > 0:\n",
        "                source.append(i)\n",
        "                target.append(j)\n",
        "                value.append(flows[i, j])\n",
        "    \n",
        "    # Define colors\n",
        "    node_colors = {\n",
        "        'Prawns': 'rgba(46, 204, 113, 0.8)',\n",
        "        'Fish': 'rgba(52, 152, 219, 0.8)',\n",
        "        'Turtles': 'rgba(155, 89, 182, 0.8)',\n",
        "        'Snakes': 'rgba(241, 196, 15, 0.8)',\n",
        "        'Alligators': 'rgba(231, 76, 60, 0.8)'\n",
        "    }\n",
        "    \n",
        "    colors = [node_colors.get(name, 'rgba(149, 165, 166, 0.8)') for name in nodes]\n",
        "    \n",
        "    fig = go.Figure(data=[go.Sankey(\n",
        "        node=dict(\n",
        "            pad=15,\n",
        "            thickness=20,\n",
        "            line=dict(color=\"black\", width=0.5),\n",
        "            label=nodes,\n",
        "            color=colors\n",
        "        ),\n",
        "        link=dict(\n",
        "            source=source,\n",
        "            target=target,\n",
        "            value=value,\n",
        "            color='rgba(150, 150, 150, 0.4)'\n",
        "        )\n",
        "    )])\n",
        "    \n",
        "    fig.update_layout(\n",
        "        title=title,\n",
        "        font_size=12,\n",
        "        height=400\n",
        "    )\n",
        "    \n",
        "    return fig\n",
        "\n",
        "# Create Sankey diagrams\n",
        "print(\"ENERGY FLOW SANKEY DIAGRAMS\")\n",
        "print(\"=\" * 60)\n",
        "\n",
        "fig1 = create_sankey(original_data, \"Original Network - Three Parallel Pathways\")\n",
        "fig1.show()\n",
        "\n",
        "fig2 = create_sankey(efficient_data, \"Efficient-Only Network - Maximum Throughput\")\n",
        "fig2.show()\n",
        "\n",
        "fig3 = create_sankey(adapted_data, \"Adapted Network - System After Fish Loss\")\n",
        "fig3.show()"
      ]
    },
    {
      "cell_type": "markdown",
      "metadata": {},
      "source": [
        "## 8. Resilience Demonstration"
      ]
    },
    {
      "cell_type": "code",
      "execution_count": 33,
      "metadata": {},
      "outputs": [
        {
          "name": "stdout",
          "output_type": "stream",
          "text": [
            "RESILIENCE DEMONSTRATION: What Happens When Fish Fail?\n",
            "============================================================\n",
            "\n",
            "Original Network (with fish):\n",
            "  Total Throughput: 120.92 mg C m\u207b\u00b2 y\u207b\u00b9\n",
            "  Number of pathways: 3\n",
            "  Robustness: 0.3676\n",
            "\n",
            "Efficient-Only Network (if fish fail):\n",
            "  Total Throughput: 0.00 mg C m\u207b\u00b2 y\u207b\u00b9 (COMPLETE COLLAPSE!)\n",
            "  Number of pathways: 0\n",
            "  Robustness: 0.0000\n",
            "  Result: \ud83d\udc80 System death - no alternative pathways\n",
            "\n",
            "Adapted Network (after fish loss):\n",
            "  Total Throughput: 99.66 mg C m\u207b\u00b2 y\u207b\u00b9\n",
            "  Throughput retention: 82.4%\n",
            "  Number of pathways: 2 (Turtles and Snakes compensate)\n",
            "  Robustness: 0.3669\n",
            "  Result: \u2713 System survives and adapts!\n"
          ]
        },
        {
          "data": {
            "image/png": "[encoded data removed]",
            "text/plain": [
              "<Figure size 1000x600 with 1 Axes>"
            ]
          },
          "metadata": {},
          "output_type": "display_data"
        },
        {
          "name": "stdout",
          "output_type": "stream",
          "text": [
            "\n",
            "============================================================\n",
            "KEY LESSON: Redundancy enables resilience!\n",
            "Pure efficiency creates fragility.\n",
            "============================================================\n"
          ]
        }
      ],
      "source": [
        "# Simulate what happens when fish pathway fails\n",
        "print(\"RESILIENCE DEMONSTRATION: What Happens When Fish Fail?\")\n",
        "print(\"=\" * 60)\n",
        "\n",
        "# Original network performance\n",
        "original_tst = original_metrics['tst']\n",
        "print(f\"\\nOriginal Network (with fish):\")\n",
        "print(f\"  Total Throughput: {original_tst:.2f} mg C m\u207b\u00b2 y\u207b\u00b9\")\n",
        "print(f\"  Number of pathways: 3\")\n",
        "print(f\"  Robustness: {original_metrics['robustness']:.4f}\")\n",
        "\n",
        "# Efficient network collapse\n",
        "print(f\"\\nEfficient-Only Network (if fish fail):\")\n",
        "print(f\"  Total Throughput: 0.00 mg C m\u207b\u00b2 y\u207b\u00b9 (COMPLETE COLLAPSE!)\")\n",
        "print(f\"  Number of pathways: 0\")\n",
        "print(f\"  Robustness: 0.0000\")\n",
        "print(f\"  Result: \ud83d\udc80 System death - no alternative pathways\")\n",
        "\n",
        "# Adapted network survival\n",
        "adapted_tst = adapted_metrics['tst']\n",
        "retention = (adapted_tst / original_tst) * 100\n",
        "print(f\"\\nAdapted Network (after fish loss):\")\n",
        "print(f\"  Total Throughput: {adapted_tst:.2f} mg C m\u207b\u00b2 y\u207b\u00b9\")\n",
        "print(f\"  Throughput retention: {retention:.1f}%\")\n",
        "print(f\"  Number of pathways: 2 (Turtles and Snakes compensate)\")\n",
        "print(f\"  Robustness: {adapted_metrics['robustness']:.4f}\")\n",
        "print(f\"  Result: \u2713 System survives and adapts!\")\n",
        "\n",
        "# Create visualization\n",
        "fig, ax = plt.subplots(figsize=(10, 6))\n",
        "\n",
        "scenarios = ['Original\\n(All pathways)', 'Fish Fail\\n(Efficient)', 'Fish Fail\\n(Redundant)']\n",
        "throughputs = [original_tst, 0, adapted_tst]\n",
        "colors = ['green', 'red', 'blue']\n",
        "\n",
        "bars = ax.bar(scenarios, throughputs, color=colors, alpha=0.7)\n",
        "\n",
        "# Add annotations\n",
        "ax.text(1, 10, 'COLLAPSE!', ha='center', fontsize=14, color='red', fontweight='bold')\n",
        "ax.text(2, adapted_tst + 5, f'{retention:.0f}% retained', ha='center', fontsize=10)\n",
        "\n",
        "ax.set_ylabel('Total System Throughput (mg C m\u207b\u00b2 y\u207b\u00b9)', fontsize=12)\n",
        "ax.set_title('System Response to Fish Pathway Loss', fontsize=14, fontweight='bold')\n",
        "ax.grid(True, alpha=0.3)\n",
        "\n",
        "plt.tight_layout()\n",
        "plt.show()\n",
        "\n",
        "print(\"\\n\" + \"=\"*60)\n",
        "print(\"KEY LESSON: Redundancy enables resilience!\")\n",
        "print(\"Pure efficiency creates fragility.\")\n",
        "print(\"=\"*60)"
      ]
    },
    {
      "cell_type": "markdown",
      "metadata": {},
      "source": [
        "## 9. Key Insights Summary"
      ]
    },
    {
      "cell_type": "code",
      "execution_count": 34,
      "metadata": {},
      "outputs": [
        {
          "name": "stdout",
          "output_type": "stream",
          "text": [
            "KEY INSIGHTS COMPARISON\n",
            "================================================================================\n"
          ]
        },
        {
          "data": {
            "text/html": [
              "<style type=\"text/css\">\n",
              "#T_6d832 th {\n",
              "  text-align: center;\n",
              "  font-weight: bold;\n",
              "}\n",
              "#T_6d832 td:nth-child(1) {\n",
              "  font-weight: bold;\n",
              "}\n",
              "#T_6d832_row0_col0, #T_6d832_row0_col1, #T_6d832_row0_col2, #T_6d832_row0_col3, #T_6d832_row1_col0, #T_6d832_row1_col1, #T_6d832_row1_col2, #T_6d832_row1_col3, #T_6d832_row2_col0, #T_6d832_row2_col1, #T_6d832_row2_col2, #T_6d832_row2_col3, #T_6d832_row3_col0, #T_6d832_row3_col1, #T_6d832_row3_col2, #T_6d832_row3_col3, #T_6d832_row4_col0, #T_6d832_row4_col1, #T_6d832_row4_col2, #T_6d832_row4_col3, #T_6d832_row5_col0, #T_6d832_row5_col1, #T_6d832_row5_col2, #T_6d832_row5_col3, #T_6d832_row6_col0, #T_6d832_row6_col1, #T_6d832_row6_col2, #T_6d832_row6_col3 {\n",
              "  text-align: left;\n",
              "}\n",
              "</style>\n",
              "<table id=\"T_6d832\">\n",
              "  <thead>\n",
              "    <tr>\n",
              "      <th class=\"blank level0\" >&nbsp;</th>\n",
              "      <th id=\"T_6d832_level0_col0\" class=\"col_heading level0 col0\" >Aspect</th>\n",
              "      <th id=\"T_6d832_level0_col1\" class=\"col_heading level0 col1\" >Original (3 paths)</th>\n",
              "      <th id=\"T_6d832_level0_col2\" class=\"col_heading level0 col2\" >Efficient Only</th>\n",
              "      <th id=\"T_6d832_level0_col3\" class=\"col_heading level0 col3\" >Adapted (no fish)</th>\n",
              "    </tr>\n",
              "  </thead>\n",
              "  <tbody>\n",
              "    <tr>\n",
              "      <th id=\"T_6d832_level0_row0\" class=\"row_heading level0 row0\" >0</th>\n",
              "      <td id=\"T_6d832_row0_col0\" class=\"data row0 col0\" >Efficiency (\u03b1)</td>\n",
              "      <td id=\"T_6d832_row0_col1\" class=\"data row0 col1\" >Moderate (0.353)</td>\n",
              "      <td id=\"T_6d832_row0_col2\" class=\"data row0 col2\" >Maximum (1.000)</td>\n",
              "      <td id=\"T_6d832_row0_col3\" class=\"data row0 col3\" >Moderate (0.395)</td>\n",
              "    </tr>\n",
              "    <tr>\n",
              "      <th id=\"T_6d832_level0_row1\" class=\"row_heading level0 row1\" >1</th>\n",
              "      <td id=\"T_6d832_row1_col0\" class=\"data row1 col0\" >Resilience</td>\n",
              "      <td id=\"T_6d832_row1_col1\" class=\"data row1 col1\" >High - 3 pathways</td>\n",
              "      <td id=\"T_6d832_row1_col2\" class=\"data row1 col2\" >Zero - 1 pathway</td>\n",
              "      <td id=\"T_6d832_row1_col3\" class=\"data row1 col3\" >Moderate - 2 pathways</td>\n",
              "    </tr>\n",
              "    <tr>\n",
              "      <th id=\"T_6d832_level0_row2\" class=\"row_heading level0 row2\" >2</th>\n",
              "      <td id=\"T_6d832_row2_col0\" class=\"data row2 col0\" >Throughput</td>\n",
              "      <td id=\"T_6d832_row2_col1\" class=\"data row2 col1\" >120.92 units</td>\n",
              "      <td id=\"T_6d832_row2_col2\" class=\"data row2 col2\" >205.00 units</td>\n",
              "      <td id=\"T_6d832_row2_col3\" class=\"data row2 col3\" >99.66 units</td>\n",
              "    </tr>\n",
              "    <tr>\n",
              "      <th id=\"T_6d832_level0_row3\" class=\"row_heading level0 row3\" >3</th>\n",
              "      <td id=\"T_6d832_row3_col0\" class=\"data row3 col0\" >Robustness</td>\n",
              "      <td id=\"T_6d832_row3_col1\" class=\"data row3 col1\" >0.368</td>\n",
              "      <td id=\"T_6d832_row3_col2\" class=\"data row3 col2\" >0.000</td>\n",
              "      <td id=\"T_6d832_row3_col3\" class=\"data row3 col3\" >0.367</td>\n",
              "    </tr>\n",
              "    <tr>\n",
              "      <th id=\"T_6d832_level0_row4\" class=\"row_heading level0 row4\" >4</th>\n",
              "      <td id=\"T_6d832_row4_col0\" class=\"data row4 col0\" >Vulnerability</td>\n",
              "      <td id=\"T_6d832_row4_col1\" class=\"data row4 col1\" >Low - redundancy</td>\n",
              "      <td id=\"T_6d832_row4_col2\" class=\"data row4 col2\" >Critical - fragile</td>\n",
              "      <td id=\"T_6d832_row4_col3\" class=\"data row4 col3\" >Moderate</td>\n",
              "    </tr>\n",
              "    <tr>\n",
              "      <th id=\"T_6d832_level0_row5\" class=\"row_heading level0 row5\" >5</th>\n",
              "      <td id=\"T_6d832_row5_col0\" class=\"data row5 col0\" >Adaptation</td>\n",
              "      <td id=\"T_6d832_row5_col1\" class=\"data row5 col1\" >Can lose 1 pathway</td>\n",
              "      <td id=\"T_6d832_row5_col2\" class=\"data row5 col2\" >Cannot adapt</td>\n",
              "      <td id=\"T_6d832_row5_col3\" class=\"data row5 col3\" >Successfully adapted</td>\n",
              "    </tr>\n",
              "    <tr>\n",
              "      <th id=\"T_6d832_level0_row6\" class=\"row_heading level0 row6\" >6</th>\n",
              "      <td id=\"T_6d832_row6_col0\" class=\"data row6 col0\" >Sustainability</td>\n",
              "      <td id=\"T_6d832_row6_col1\" class=\"data row6 col1\" >Balanced</td>\n",
              "      <td id=\"T_6d832_row6_col2\" class=\"data row6 col2\" >Unsustainable</td>\n",
              "      <td id=\"T_6d832_row6_col3\" class=\"data row6 col3\" >Viable</td>\n",
              "    </tr>\n",
              "  </tbody>\n",
              "</table>\n"
            ],
            "text/plain": [
              "<pandas.io.formats.style.Styler at 0x16dd6dd10>"
            ]
          },
          "metadata": {},
          "output_type": "display_data"
        },
        {
          "name": "stdout",
          "output_type": "stream",
          "text": [
            "\n",
            "================================================================================\n",
            "CONCLUSIONS:\n",
            "================================================================================\n",
            "\n",
            "1. **Efficiency-Resilience Trade-off**:\n",
            "   - Pure efficiency (\u03b1=1.0) eliminates all resilience\n",
            "   - Moderate efficiency (\u03b1\u22480.35-0.40) maintains adaptability\n",
            "\n",
            "2. **Redundancy is Insurance**:\n",
            "   - Multiple pathways prevent system collapse\n",
            "   - Cost: Lower maximum throughput\n",
            "   - Benefit: System survival under stress\n",
            "\n",
            "3. **Adaptation Capability**:\n",
            "   - Systems with redundancy can reorganize\n",
            "   - 82% throughput retention after major disruption\n",
            "\n",
            "4. **Organizational Implications**:\n",
            "   - Don't optimize for single metrics\n",
            "   - Build multiple channels/departments\n",
            "   - Accept efficiency costs for resilience gains\n"
          ]
        }
      ],
      "source": [
        "# Create summary insights table\n",
        "insights_data = {\n",
        "    'Aspect': [\n",
        "        'Efficiency (\u03b1)',\n",
        "        'Resilience',\n",
        "        'Throughput',\n",
        "        'Robustness',\n",
        "        'Vulnerability',\n",
        "        'Adaptation',\n",
        "        'Sustainability'\n",
        "    ],\n",
        "    'Original (3 paths)': [\n",
        "        'Moderate (0.353)',\n",
        "        'High - 3 pathways',\n",
        "        '120.92 units',\n",
        "        '0.368',\n",
        "        'Low - redundancy',\n",
        "        'Can lose 1 pathway',\n",
        "        'Balanced'\n",
        "    ],\n",
        "    'Efficient Only': [\n",
        "        'Maximum (1.000)',\n",
        "        'Zero - 1 pathway',\n",
        "        '205.00 units',\n",
        "        '0.000',\n",
        "        'Critical - fragile',\n",
        "        'Cannot adapt',\n",
        "        'Unsustainable'\n",
        "    ],\n",
        "    'Adapted (no fish)': [\n",
        "        'Moderate (0.395)',\n",
        "        'Moderate - 2 pathways',\n",
        "        '99.66 units',\n",
        "        '0.367',\n",
        "        'Moderate',\n",
        "        'Successfully adapted',\n",
        "        'Viable'\n",
        "    ]\n",
        "}\n",
        "\n",
        "insights_df = pd.DataFrame(insights_data)\n",
        "\n",
        "print(\"KEY INSIGHTS COMPARISON\")\n",
        "print(\"=\" * 80)\n",
        "display(insights_df.style.set_properties(**{'text-align': 'left'}).set_table_styles([\n",
        "    {'selector': 'th', 'props': [('text-align', 'center'), ('font-weight', 'bold')]},\n",
        "    {'selector': 'td:nth-child(1)', 'props': [('font-weight', 'bold')]}\n",
        "]))\n",
        "\n",
        "print(\"\\n\" + \"=\"*80)\n",
        "print(\"CONCLUSIONS:\")\n",
        "print(\"=\"*80)\n",
        "print(\"\\n1. **Efficiency-Resilience Trade-off**:\")\n",
        "print(\"   - Pure efficiency (\u03b1=1.0) eliminates all resilience\")\n",
        "print(\"   - Moderate efficiency (\u03b1\u22480.35-0.40) maintains adaptability\")\n",
        "print(\"\\n2. **Redundancy is Insurance**:\")\n",
        "print(\"   - Multiple pathways prevent system collapse\")\n",
        "print(\"   - Cost: Lower maximum throughput\")\n",
        "print(\"   - Benefit: System survival under stress\")\n",
        "print(\"\\n3. **Adaptation Capability**:\")\n",
        "print(\"   - Systems with redundancy can reorganize\")\n",
        "print(\"   - 82% throughput retention after major disruption\")\n",
        "print(\"\\n4. **Organizational Implications**:\")\n",
        "print(\"   - Don't optimize for single metrics\")\n",
        "print(\"   - Build multiple channels/departments\")\n",
        "print(\"   - Accept efficiency costs for resilience gains\")"
      ]
    },
    {
      "cell_type": "markdown",
      "metadata": {},
      "source": [
        "## 10. Window of Viability Analysis\n",
        "\n",
        "Position all three network configurations on the theoretical Window of Viability curve to visualize their sustainability status."
      ]
    },
    {
      "cell_type": "code",
      "execution_count": 35,
      "metadata": {},
      "outputs": [],
      "source": [
        "# Optional: Adjust the display size for better visualization in notebook\n",
        "# Uncomment the lines below to customize the display\n",
        "\n",
        "# Option 1: Set matplotlib to use a specific backend for better rendering\n",
        "# %matplotlib inline\n",
        "# %config InlineBackend.figure_format = 'retina'  # For high-DPI displays\n",
        "\n",
        "# Option 2: Set default figure DPI for notebook display\n",
        "import matplotlib.pyplot as plt\n",
        "plt.rcParams['figure.dpi'] = 100  # Adjust this value to zoom in/out (default is usually 72)\n",
        "plt.rcParams['savefig.dpi'] = 300  # High quality for saved files\n",
        "\n",
        "# Option 3: To view saved plot in notebook after generation:\n",
        "# from IPython.display import Image, display\n",
        "# After running the plot cell, use:\n",
        "# display(Image('window_of_viability_plot.png', width=800))  # Adjust width as needed\n"
      ]
    },
    {
      "cell_type": "code",
      "execution_count": 36,
      "metadata": {},
      "outputs": [
        {
          "ename": "SyntaxError",
          "evalue": "invalid syntax (2900671906.py, line 1)",
          "output_type": "error",
          "traceback": [
            "\u001b[0;36m  Cell \u001b[0;32mIn[36], line 1\u001b[0;36m\u001b[0m\n\u001b[0;31m    import numpy as npimport matplotlib.pyplot as plt# --- Fallbacks so the script runs even if these aren't defined upstream ---try:    original_metricsexcept NameError:    original_metrics = {'alpha': 0.35, 'robustness': 0.365}try:    adapted_metricsexcept NameError:    adapted_metrics = {'alpha': 0.38, 'robustness': 0.365}try:    efficient_metricsexcept NameError:    efficient_metrics = {'alpha': 1.0, 'robustness': 0.0}# -------------------------------------------------------------------------# Create figure with constrained layout to avoid croppingfig, ax = plt.subplots(figsize=(20, 12), constrained_layout=True)# Generate theoretical robustness curvealpha_range = np.linspace(0, 1, 200)b = 1.288  # Ulanowicz exponentrobustness_curve = []for a in alpha_range:    if 0 < a < 1:        r = - (a**b) * np.log(a**b)  # equivalent to your formula    else:        r = 0.0    robustness_curve.append(max(0.0, r))# Plot the theoretical curveax.plot(alpha_range, robustness_curve, 'k-', linewidth=3,        label='Theoretical Robustness Curve', alpha=0.6, zorder=1)# Window of Viabilityax.axvspan(0.2, 0.6, alpha=0.15, color='green', label='Window of Viability', zorder=0)# Optimal pointoptimal_alpha = 0.460ax.axvline(optimal_alpha, color='orange', linestyle='--', linewidth=2,           label=f'Optimal \u03b1 = {optimal_alpha}', alpha=0.7, zorder=1)# Networksnetworks = [    {        'name': 'Original\\n(3 pathways)',        'alpha': original_metrics['alpha'],        'robustness': original_metrics['robustness'],        'color': 'green',        'marker': 'o',        'size': 400    },    {        'name': 'Adapted\\n(no fish)',        'alpha': adapted_metrics['alpha'],        'robustness': adapted_metrics['robustness'],        'color': 'blue',        'marker': '^',        'size': 400    },    {        'name': 'Efficient Only\\n(single path)',        'alpha': efficient_metrics['alpha'],        'robustness': efficient_metrics['robustness'],        'color': 'red',        'marker': 's',        'size': 400    }]# Plot pointsfor net in networks:    ax.scatter(net['alpha'], net['robustness'],               s=net['size'], c=net['color'], marker=net['marker'],               edgecolors='black', linewidth=3,               label=net['name'].replace('\\n', ' '),               zorder=10, alpha=0.9)# Annotations (use clip_on=False to prevent edge clipping)ax.annotate('Original\\n3 pathways',            xy=(original_metrics['alpha'], original_metrics['robustness']),            xytext=(original_metrics['alpha'], original_metrics['robustness'] + 0.04),            fontsize=14, fontweight='bold', ha='center', va='bottom',            color='darkgreen', clip_on=False)ax.annotate('Adapted\\nafter fish loss',            xy=(adapted_metrics['alpha'], adapted_metrics['robustness']),            xytext=(adapted_metrics['alpha'] + 0.05, adapted_metrics['robustness']),            fontsize=14, fontweight='bold', ha='left', va='center',            color='darkblue', clip_on=False)ax.annotate('Efficient Only\\nZero Resilience!',            xy=(efficient_metrics['alpha'], efficient_metrics['robustness']),            xytext=(0.75, 0.08),            fontsize=14, fontweight='bold', ha='center', va='center',            color='darkred',            bbox=dict(boxstyle='round,pad=0.5', facecolor='yellow',                      edgecolor='red', alpha=0.3),            arrowprops=dict(arrowstyle='->', connectionstyle='arc3,rad=-0.3',                            color='red', lw=2.5),            clip_on=False)# Zone labelsax.text(0.1, 0.3, 'TOO\\nCHAOTIC', ha='center', va='center',        fontsize=18, color='red', fontweight='bold', alpha=0.6,        bbox=dict(boxstyle='round,pad=0.3', facecolor='white', alpha=0.5),        clip_on=False)ax.text(0.4, 0.38, 'VIABLE\\nZONE', ha='center', va='center',        fontsize=18, color='green', fontweight='bold', alpha=0.7,        bbox=dict(boxstyle='round,pad=0.3', facecolor='lightgreen', alpha=0.3),        clip_on=False)ax.text(0.8, 0.2, 'TOO\\nRIGID', ha='center', va='center',        fontsize=18, color='red', fontweight='bold', alpha=0.6,        bbox=dict(boxstyle='round,pad=0.3', facecolor='white', alpha=0.5),        clip_on=False)# Critical warningax.text(0.98, 0.45,        '\u26a0\ufe0f CRITICAL WARNING\\n'        'The efficient-only network\\n'        'has ZERO resilience.\\n'        'If any component fails,\\n'        'the entire system collapses!',        ha='right', va='top', fontsize=13,        bbox=dict(boxstyle='round,pad=0.8', facecolor='red', alpha=0.1),        color='darkred', fontweight='bold', clip_on=False)# Axes, limits, grid, legendax.set_xlabel('Relative Ascendency (\u03b1) - Efficiency Measure', fontsize=16, fontweight='bold')ax.set_ylabel('Robustness - Resilience Measure', fontsize=16, fontweight='bold')ax.set_title('Prawns-Alligator Networks on the Window of Viability\\n'             'Demonstrating the Efficiency-Resilience Trade-off',             fontsize=16, fontweight='bold', pad=20)ax.set_xlim(-0.05, 1.12)ax.set_ylim(-0.03, 0.55)ax.grid(True, alpha=0.3, linestyle='--')ax.legend(loc='upper left', fontsize=13, framealpha=0.9)# Background shadingax.axvspan(0, 0.2, alpha=0.05, color='red', zorder=0)   # Too chaoticax.axvspan(0.6, 1.0, alpha=0.05, color='red', zorder=0) # Too rigid# Draw, then save (no tight layout, no bbox='tight')fig.canvas.draw()plt.savefig('window_of_viability_plot.png', dpi=300, pad_inches=0.2)plt.savefig('window_of_viability_plot.pdf', pad_inches=0.2)print(\"\u2713 Plot saved as: window_of_viability_plot.png (300 DPI) and window_of_viability_plot.pdf\")plt.show()# Print numerical positionsprint(\"\\nNETWORK POSITIONS ON THE WINDOW OF VIABILITY:\")print(\"=\" * 60)print(f\"Original Network:  \u03b1 = {original_metrics['alpha']:.4f}, R = {original_metrics['robustness']:.4f}\")print(f\"                   Status: VIABLE (slightly below optimal)\")print(f\"\\nAdapted Network:   \u03b1 = {adapted_metrics['alpha']:.4f}, R = {adapted_metrics['robustness']:.4f}\")print(f\"                   Status: VIABLE (approaching optimal)\")print(f\"\\nEfficient Network: \u03b1 = {efficient_metrics['alpha']:.4f}, R = {efficient_metrics['robustness']:.4f}\")print(f\"                   Status: CRITICAL - Too rigid, zero resilience!\")print(\"\\n\" + \"=\"*60)print(\"INTERPRETATION:\")print(\"  \u2022 The original network maintains good balance\")print(\"  \u2022 After fish loss, the system adapts and remains viable\")print(\"  \u2022 Pure efficiency (\u03b1=1) eliminates ALL resilience\")print(\"  \u2022 Optimal sustainability occurs around \u03b1 \u2248 0.46\")\u001b[0m\n\u001b[0m                             ^\u001b[0m\n\u001b[0;31mSyntaxError\u001b[0m\u001b[0;31m:\u001b[0m invalid syntax\n"
          ]
        }
      ],
      "source": [
        "import numpy as npimport matplotlib.pyplot as plt# --- Fallbacks so the script runs even if these aren't defined upstream ---try:    original_metricsexcept NameError:    original_metrics = {'alpha': 0.35, 'robustness': 0.365}try:    adapted_metricsexcept NameError:    adapted_metrics = {'alpha': 0.38, 'robustness': 0.365}try:    efficient_metricsexcept NameError:    efficient_metrics = {'alpha': 1.0, 'robustness': 0.0}# -------------------------------------------------------------------------# Create figure with constrained layout to avoid croppingfig, ax = plt.subplots(figsize=(20, 12), constrained_layout=True)# Generate theoretical robustness curvealpha_range = np.linspace(0, 1, 200)b = 1.288  # Ulanowicz exponentrobustness_curve = []for a in alpha_range:    if 0 < a < 1:        r = - (a**b) * np.log(a**b)  # equivalent to your formula    else:        r = 0.0    robustness_curve.append(max(0.0, r))# Plot the theoretical curveax.plot(alpha_range, robustness_curve, 'k-', linewidth=3,        label='Theoretical Robustness Curve', alpha=0.6, zorder=1)# Window of Viabilityax.axvspan(0.2, 0.6, alpha=0.15, color='green', label='Window of Viability', zorder=0)# Optimal pointoptimal_alpha = 0.460ax.axvline(optimal_alpha, color='orange', linestyle='--', linewidth=2,           label=f'Optimal \u03b1 = {optimal_alpha}', alpha=0.7, zorder=1)# Networksnetworks = [    {        'name': 'Original\\n(3 pathways)',        'alpha': original_metrics['alpha'],        'robustness': original_metrics['robustness'],        'color': 'green',        'marker': 'o',        'size': 400    },    {        'name': 'Adapted\\n(no fish)',        'alpha': adapted_metrics['alpha'],        'robustness': adapted_metrics['robustness'],        'color': 'blue',        'marker': '^',        'size': 400    },    {        'name': 'Efficient Only\\n(single path)',        'alpha': efficient_metrics['alpha'],        'robustness': efficient_metrics['robustness'],        'color': 'red',        'marker': 's',        'size': 400    }]# Plot pointsfor net in networks:    ax.scatter(net['alpha'], net['robustness'],               s=net['size'], c=net['color'], marker=net['marker'],               edgecolors='black', linewidth=3,               label=net['name'].replace('\\n', ' '),               zorder=10, alpha=0.9)# Annotations (use clip_on=False to prevent edge clipping)ax.annotate('Original\\n3 pathways',            xy=(original_metrics['alpha'], original_metrics['robustness']),            xytext=(original_metrics['alpha'], original_metrics['robustness'] + 0.04),            fontsize=14, fontweight='bold', ha='center', va='bottom',            color='darkgreen', clip_on=False)ax.annotate('Adapted\\nafter fish loss',            xy=(adapted_metrics['alpha'], adapted_metrics['robustness']),            xytext=(adapted_metrics['alpha'] + 0.05, adapted_metrics['robustness']),            fontsize=14, fontweight='bold', ha='left', va='center',            color='darkblue', clip_on=False)ax.annotate('Efficient Only\\nZero Resilience!',            xy=(efficient_metrics['alpha'], efficient_metrics['robustness']),            xytext=(0.75, 0.08),            fontsize=14, fontweight='bold', ha='center', va='center',            color='darkred',            bbox=dict(boxstyle='round,pad=0.5', facecolor='yellow',                      edgecolor='red', alpha=0.3),            arrowprops=dict(arrowstyle='->', connectionstyle='arc3,rad=-0.3',                            color='red', lw=2.5),            clip_on=False)# Zone labelsax.text(0.1, 0.3, 'TOO\\nCHAOTIC', ha='center', va='center',        fontsize=18, color='red', fontweight='bold', alpha=0.6,        bbox=dict(boxstyle='round,pad=0.3', facecolor='white', alpha=0.5),        clip_on=False)ax.text(0.4, 0.38, 'VIABLE\\nZONE', ha='center', va='center',        fontsize=18, color='green', fontweight='bold', alpha=0.7,        bbox=dict(boxstyle='round,pad=0.3', facecolor='lightgreen', alpha=0.3),        clip_on=False)ax.text(0.8, 0.2, 'TOO\\nRIGID', ha='center', va='center',        fontsize=18, color='red', fontweight='bold', alpha=0.6,        bbox=dict(boxstyle='round,pad=0.3', facecolor='white', alpha=0.5),        clip_on=False)# Critical warningax.text(0.98, 0.45,        '\u26a0\ufe0f CRITICAL WARNING\\n'        'The efficient-only network\\n'        'has ZERO resilience.\\n'        'If any component fails,\\n'        'the entire system collapses!',        ha='right', va='top', fontsize=13,        bbox=dict(boxstyle='round,pad=0.8', facecolor='red', alpha=0.1),        color='darkred', fontweight='bold', clip_on=False)# Axes, limits, grid, legendax.set_xlabel('Relative Ascendency (\u03b1) - Efficiency Measure', fontsize=16, fontweight='bold')ax.set_ylabel('Robustness - Resilience Measure', fontsize=16, fontweight='bold')ax.set_title('Prawns-Alligator Networks on the Window of Viability\\n'             'Demonstrating the Efficiency-Resilience Trade-off',             fontsize=16, fontweight='bold', pad=20)ax.set_xlim(-0.05, 1.12)ax.set_ylim(-0.03, 0.55)ax.grid(True, alpha=0.3, linestyle='--')ax.legend(loc='upper left', fontsize=13, framealpha=0.9)# Background shadingax.axvspan(0, 0.2, alpha=0.05, color='red', zorder=0)   # Too chaoticax.axvspan(0.6, 1.0, alpha=0.05, color='red', zorder=0) # Too rigid# Draw, then save (no tight layout, no bbox='tight')fig.canvas.draw()plt.savefig('window_of_viability_plot.png', dpi=300, pad_inches=0.2)plt.savefig('window_of_viability_plot.pdf', pad_inches=0.2)print(\"\u2713 Plot saved as: window_of_viability_plot.png (300 DPI) and window_of_viability_plot.pdf\")plt.show()# Print numerical positionsprint(\"\\nNETWORK POSITIONS ON THE WINDOW OF VIABILITY:\")print(\"=\" * 60)print(f\"Original Network:  \u03b1 = {original_metrics['alpha']:.4f}, R = {original_metrics['robustness']:.4f}\")print(f\"                   Status: VIABLE (slightly below optimal)\")print(f\"\\nAdapted Network:   \u03b1 = {adapted_metrics['alpha']:.4f}, R = {adapted_metrics['robustness']:.4f}\")print(f\"                   Status: VIABLE (approaching optimal)\")print(f\"\\nEfficient Network: \u03b1 = {efficient_metrics['alpha']:.4f}, R = {efficient_metrics['robustness']:.4f}\")print(f\"                   Status: CRITICAL - Too rigid, zero resilience!\")print(\"\\n\" + \"=\"*60)print(\"INTERPRETATION:\")print(\"  \u2022 The original network maintains good balance\")print(\"  \u2022 After fish loss, the system adapts and remains viable\")print(\"  \u2022 Pure efficiency (\u03b1=1) eliminates ALL resilience\")print(\"  \u2022 Optimal sustainability occurs around \u03b1 \u2248 0.46\")"
      ]
    },
    {
      "cell_type": "code",
      "execution_count": null,
      "metadata": {},
      "outputs": [],
      "source": []
    },
    {
      "cell_type": "code",
      "execution_count": null,
      "metadata": {},
      "outputs": [],
      "source": []
    },
    {
      "cell_type": "code",
      "execution_count": null,
      "metadata": {},
      "outputs": [],
      "source": []
    },
    {
      "cell_type": "code",
      "execution_count": null,
      "metadata": {},
      "outputs": [],
      "source": []
    },
    {
      "cell_type": "code",
      "execution_count": null,
      "metadata": {},
      "outputs": [],
      "source": []
    },
    {
      "cell_type": "code",
      "execution_count": null,
      "metadata": {},
      "outputs": [],
      "source": []
    },
    {
      "cell_type": "code",
      "execution_count": null,
      "metadata": {},
      "outputs": [],
      "source": []
    }
  ],
  "metadata": {
    "kernelspec": {
      "display_name": "Python [conda env:base] *",
      "language": "python",
      "name": "conda-base-py"
    },
    "language_info": {
      "codemirror_mode": {
        "name": "ipython",
        "version": 3
      },
      "file_extension": ".py",
      "mimetype": "text/x-python",
      "name": "python",
      "nbconvert_exporter": "python",
      "pygments_lexer": "ipython3",
      "version": "3.13.5"
    }
  },
  "nbformat": 4,
  "nbformat_minor": 4
}